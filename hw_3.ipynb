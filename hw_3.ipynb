{
 "cells": [
  {
   "cell_type": "code",
   "execution_count": 1,
   "metadata": {},
   "outputs": [],
   "source": [
    "import torch\n",
    "import torch.nn as nn\n",
    "from PIL import Image\n",
    "from pathlib import Path\n",
    "import numpy as np\n",
    "import pandas as pd\n",
    "from matplotlib import pyplot as plt\n",
    "import os\n",
    "import math\n"
   ]
  },
  {
   "cell_type": "code",
   "execution_count": 2,
   "metadata": {},
   "outputs": [
    {
     "data": {
      "text/plain": [
       "WindowsPath('data/mnist')"
      ]
     },
     "execution_count": 2,
     "metadata": {},
     "output_type": "execute_result"
    }
   ],
   "source": [
    "PATH= Path('data/mnist/')\n",
    "PATH"
   ]
  },
  {
   "cell_type": "code",
   "execution_count": 3,
   "metadata": {},
   "outputs": [
    {
     "data": {
      "image/png": "[encoded data removed]",
      "text/plain": [
       "<Figure size 432x288 with 1 Axes>"
      ]
     },
     "metadata": {
      "needs_background": "light"
     },
     "output_type": "display_data"
    }
   ],
   "source": [
    "image = Image.open(\"img_1.jpg\")\n",
    "plt.imshow(image, cmap=\"gray\");"
   ]
  },
  {
   "cell_type": "code",
   "execution_count": 4,
   "metadata": {},
   "outputs": [
    {
     "data": {
      "text/plain": [
       "(28, 28)"
      ]
     },
     "execution_count": 4,
     "metadata": {},
     "output_type": "execute_result"
    }
   ],
   "source": [
    "np.array(image).shape"
   ]
  },
  {
   "cell_type": "code",
   "execution_count": 5,
   "metadata": {},
   "outputs": [
    {
     "data": {
      "text/html": [
       "<style  type=\"text/css\" >\n",
       "#T_b126e5ec_f5ec_11ea_8c17_80fa5b49927frow0_col0,#T_b126e5ec_f5ec_11ea_8c17_80fa5b49927frow7_col3,#T_b126e5ec_f5ec_11ea_8c17_80fa5b49927frow9_col12,#T_b126e5ec_f5ec_11ea_8c17_80fa5b49927frow14_col1{\n",
       "            background-color:  #959595;\n",
       "            color:  #000000;\n",
       "        }#T_b126e5ec_f5ec_11ea_8c17_80fa5b49927frow0_col1,#T_b126e5ec_f5ec_11ea_8c17_80fa5b49927frow0_col2,#T_b126e5ec_f5ec_11ea_8c17_80fa5b49927frow0_col6,#T_b126e5ec_f5ec_11ea_8c17_80fa5b49927frow0_col8,#T_b126e5ec_f5ec_11ea_8c17_80fa5b49927frow0_col10,#T_b126e5ec_f5ec_11ea_8c17_80fa5b49927frow0_col11,#T_b126e5ec_f5ec_11ea_8c17_80fa5b49927frow0_col13,#T_b126e5ec_f5ec_11ea_8c17_80fa5b49927frow0_col14,#T_b126e5ec_f5ec_11ea_8c17_80fa5b49927frow0_col17,#T_b126e5ec_f5ec_11ea_8c17_80fa5b49927frow0_col18,#T_b126e5ec_f5ec_11ea_8c17_80fa5b49927frow0_col20,#T_b126e5ec_f5ec_11ea_8c17_80fa5b49927frow0_col21,#T_b126e5ec_f5ec_11ea_8c17_80fa5b49927frow0_col22,#T_b126e5ec_f5ec_11ea_8c17_80fa5b49927frow0_col24,#T_b126e5ec_f5ec_11ea_8c17_80fa5b49927frow0_col25,#T_b126e5ec_f5ec_11ea_8c17_80fa5b49927frow0_col26,#T_b126e5ec_f5ec_11ea_8c17_80fa5b49927frow0_col27,#T_b126e5ec_f5ec_11ea_8c17_80fa5b49927frow1_col0,#T_b126e5ec_f5ec_11ea_8c17_80fa5b49927frow1_col1,#T_b126e5ec_f5ec_11ea_8c17_80fa5b49927frow1_col2,#T_b126e5ec_f5ec_11ea_8c17_80fa5b49927frow1_col3,#T_b126e5ec_f5ec_11ea_8c17_80fa5b49927frow1_col4,#T_b126e5ec_f5ec_11ea_8c17_80fa5b49927frow1_col5,#T_b126e5ec_f5ec_11ea_8c17_80fa5b49927frow1_col6,#T_b126e5ec_f5ec_11ea_8c17_80fa5b49927frow1_col7,#T_b126e5ec_f5ec_11ea_8c17_80fa5b49927frow1_col9,#T_b126e5ec_f5ec_11ea_8c17_80fa5b49927frow1_col11,#T_b126e5ec_f5ec_11ea_8c17_80fa5b49927frow1_col13,#T_b126e5ec_f5ec_11ea_8c17_80fa5b49927frow1_col14,#T_b126e5ec_f5ec_11ea_8c17_80fa5b49927frow1_col16,#T_b126e5ec_f5ec_11ea_8c17_80fa5b49927frow1_col20,#T_b126e5ec_f5ec_11ea_8c17_80fa5b49927frow1_col23,#T_b126e5ec_f5ec_11ea_8c17_80fa5b49927frow1_col24,#T_b126e5ec_f5ec_11ea_8c17_80fa5b49927frow1_col25,#T_b126e5ec_f5ec_11ea_8c17_80fa5b49927frow1_col26,#T_b126e5ec_f5ec_11ea_8c17_80fa5b49927frow1_col27,#T_b126e5ec_f5ec_11ea_8c17_80fa5b49927frow2_col0,#T_b126e5ec_f5ec_11ea_8c17_80fa5b49927frow2_col1,#T_b126e5ec_f5ec_11ea_8c17_80fa5b49927frow2_col3,#T_b126e5ec_f5ec_11ea_8c17_80fa5b49927frow2_col4,#T_b126e5ec_f5ec_11ea_8c17_80fa5b49927frow2_col5,#T_b126e5ec_f5ec_11ea_8c17_80fa5b49927frow2_col6,#T_b126e5ec_f5ec_11ea_8c17_80fa5b49927frow2_col8,#T_b126e5ec_f5ec_11ea_8c17_80fa5b49927frow2_col10,#T_b126e5ec_f5ec_11ea_8c17_80fa5b49927frow2_col12,#T_b126e5ec_f5ec_11ea_8c17_80fa5b49927frow2_col13,#T_b126e5ec_f5ec_11ea_8c17_80fa5b49927frow2_col15,#T_b126e5ec_f5ec_11ea_8c17_80fa5b49927frow2_col17,#T_b126e5ec_f5ec_11ea_8c17_80fa5b49927frow2_col18,#T_b126e5ec_f5ec_11ea_8c17_80fa5b49927frow2_col22,#T_b126e5ec_f5ec_11ea_8c17_80fa5b49927frow2_col23,#T_b126e5ec_f5ec_11ea_8c17_80fa5b49927frow2_col24,#T_b126e5ec_f5ec_11ea_8c17_80fa5b49927frow2_col25,#T_b126e5ec_f5ec_11ea_8c17_80fa5b49927frow2_col26,#T_b126e5ec_f5ec_11ea_8c17_80fa5b49927frow2_col27,#T_b126e5ec_f5ec_11ea_8c17_80fa5b49927frow3_col0,#T_b126e5ec_f5ec_11ea_8c17_80fa5b49927frow3_col3,#T_b126e5ec_f5ec_11ea_8c17_80fa5b49927frow3_col4,#T_b126e5ec_f5ec_11ea_8c17_80fa5b49927frow3_col7,#T_b126e5ec_f5ec_11ea_8c17_80fa5b49927frow3_col8,#T_b126e5ec_f5ec_11ea_8c17_80fa5b49927frow3_col9,#T_b126e5ec_f5ec_11ea_8c17_80fa5b49927frow3_col11,#T_b126e5ec_f5ec_11ea_8c17_80fa5b49927frow3_col12,#T_b126e5ec_f5ec_11ea_8c17_80fa5b49927frow3_col14,#T_b126e5ec_f5ec_11ea_8c17_80fa5b49927frow3_col15,#T_b126e5ec_f5ec_11ea_8c17_80fa5b49927frow3_col16,#T_b126e5ec_f5ec_11ea_8c17_80fa5b49927frow3_col17,#T_b126e5ec_f5ec_11ea_8c17_80fa5b49927frow3_col20,#T_b126e5ec_f5ec_11ea_8c17_80fa5b49927frow3_col21,#T_b126e5ec_f5ec_11ea_8c17_80fa5b49927frow3_col23,#T_b126e5ec_f5ec_11ea_8c17_80fa5b49927frow3_col24,#T_b126e5ec_f5ec_11ea_8c17_80fa5b49927frow3_col25,#T_b126e5ec_f5ec_11ea_8c17_80fa5b49927frow3_col26,#T_b126e5ec_f5ec_11ea_8c17_80fa5b49927frow3_col27,#T_b126e5ec_f5ec_11ea_8c17_80fa5b49927frow4_col0,#T_b126e5ec_f5ec_11ea_8c17_80fa5b49927frow4_col3,#T_b126e5ec_f5ec_11ea_8c17_80fa5b49927frow4_col4,#T_b126e5ec_f5ec_11ea_8c17_80fa5b49927frow4_col6,#T_b126e5ec_f5ec_11ea_8c17_80fa5b49927frow4_col7,#T_b126e5ec_f5ec_11ea_8c17_80fa5b49927frow4_col9,#T_b126e5ec_f5ec_11ea_8c17_80fa5b49927frow4_col18,#T_b126e5ec_f5ec_11ea_8c17_80fa5b49927frow4_col19,#T_b126e5ec_f5ec_11ea_8c17_80fa5b49927frow4_col21,#T_b126e5ec_f5ec_11ea_8c17_80fa5b49927frow4_col22,#T_b126e5ec_f5ec_11ea_8c17_80fa5b49927frow4_col23,#T_b126e5ec_f5ec_11ea_8c17_80fa5b49927frow4_col24,#T_b126e5ec_f5ec_11ea_8c17_80fa5b49927frow4_col25,#T_b126e5ec_f5ec_11ea_8c17_80fa5b49927frow4_col26,#T_b126e5ec_f5ec_11ea_8c17_80fa5b49927frow4_col27,#T_b126e5ec_f5ec_11ea_8c17_80fa5b49927frow5_col1,#T_b126e5ec_f5ec_11ea_8c17_80fa5b49927frow5_col2,#T_b126e5ec_f5ec_11ea_8c17_80fa5b49927frow5_col3,#T_b126e5ec_f5ec_11ea_8c17_80fa5b49927frow5_col4,#T_b126e5ec_f5ec_11ea_8c17_80fa5b49927frow5_col5,#T_b126e5ec_f5ec_11ea_8c17_80fa5b49927frow5_col6,#T_b126e5ec_f5ec_11ea_8c17_80fa5b49927frow5_col7,#T_b126e5ec_f5ec_11ea_8c17_80fa5b49927frow5_col19,#T_b126e5ec_f5ec_11ea_8c17_80fa5b49927frow5_col20,#T_b126e5ec_f5ec_11ea_8c17_80fa5b49927frow5_col23,#T_b126e5ec_f5ec_11ea_8c17_80fa5b49927frow5_col24,#T_b126e5ec_f5ec_11ea_8c17_80fa5b49927frow5_col25,#T_b126e5ec_f5ec_11ea_8c17_80fa5b49927frow5_col26,#T_b126e5ec_f5ec_11ea_8c17_80fa5b49927frow5_col27,#T_b126e5ec_f5ec_11ea_8c17_80fa5b49927frow6_col1,#T_b126e5ec_f5ec_11ea_8c17_80fa5b49927frow6_col2,#T_b126e5ec_f5ec_11ea_8c17_80fa5b49927frow6_col4,#T_b126e5ec_f5ec_11ea_8c17_80fa5b49927frow6_col5,#T_b126e5ec_f5ec_11ea_8c17_80fa5b49927frow6_col20,#T_b126e5ec_f5ec_11ea_8c17_80fa5b49927frow6_col21,#T_b126e5ec_f5ec_11ea_8c17_80fa5b49927frow6_col24,#T_b126e5ec_f5ec_11ea_8c17_80fa5b49927frow6_col25,#T_b126e5ec_f5ec_11ea_8c17_80fa5b49927frow6_col26,#T_b126e5ec_f5ec_11ea_8c17_80fa5b49927frow6_col27,#T_b126e5ec_f5ec_11ea_8c17_80fa5b49927frow7_col0,#T_b126e5ec_f5ec_11ea_8c17_80fa5b49927frow7_col1,#T_b126e5ec_f5ec_11ea_8c17_80fa5b49927frow7_col2,#T_b126e5ec_f5ec_11ea_8c17_80fa5b49927frow7_col4,#T_b126e5ec_f5ec_11ea_8c17_80fa5b49927frow7_col5,#T_b126e5ec_f5ec_11ea_8c17_80fa5b49927frow7_col22,#T_b126e5ec_f5ec_11ea_8c17_80fa5b49927frow7_col24,#T_b126e5ec_f5ec_11ea_8c17_80fa5b49927frow7_col25,#T_b126e5ec_f5ec_11ea_8c17_80fa5b49927frow7_col26,#T_b126e5ec_f5ec_11ea_8c17_80fa5b49927frow7_col27,#T_b126e5ec_f5ec_11ea_8c17_80fa5b49927frow8_col1,#T_b126e5ec_f5ec_11ea_8c17_80fa5b49927frow8_col2,#T_b126e5ec_f5ec_11ea_8c17_80fa5b49927frow8_col5,#T_b126e5ec_f5ec_11ea_8c17_80fa5b49927frow8_col22,#T_b126e5ec_f5ec_11ea_8c17_80fa5b49927frow8_col23,#T_b126e5ec_f5ec_11ea_8c17_80fa5b49927frow8_col24,#T_b126e5ec_f5ec_11ea_8c17_80fa5b49927frow8_col25,#T_b126e5ec_f5ec_11ea_8c17_80fa5b49927frow8_col26,#T_b126e5ec_f5ec_11ea_8c17_80fa5b49927frow8_col27,#T_b126e5ec_f5ec_11ea_8c17_80fa5b49927frow9_col0,#T_b126e5ec_f5ec_11ea_8c17_80fa5b49927frow9_col3,#T_b126e5ec_f5ec_11ea_8c17_80fa5b49927frow9_col4,#T_b126e5ec_f5ec_11ea_8c17_80fa5b49927frow9_col22,#T_b126e5ec_f5ec_11ea_8c17_80fa5b49927frow9_col24,#T_b126e5ec_f5ec_11ea_8c17_80fa5b49927frow9_col25,#T_b126e5ec_f5ec_11ea_8c17_80fa5b49927frow9_col26,#T_b126e5ec_f5ec_11ea_8c17_80fa5b49927frow9_col27,#T_b126e5ec_f5ec_11ea_8c17_80fa5b49927frow10_col0,#T_b126e5ec_f5ec_11ea_8c17_80fa5b49927frow10_col4,#T_b126e5ec_f5ec_11ea_8c17_80fa5b49927frow10_col5,#T_b126e5ec_f5ec_11ea_8c17_80fa5b49927frow10_col12,#T_b126e5ec_f5ec_11ea_8c17_80fa5b49927frow10_col13,#T_b126e5ec_f5ec_11ea_8c17_80fa5b49927frow10_col15,#T_b126e5ec_f5ec_11ea_8c17_80fa5b49927frow10_col16,#T_b126e5ec_f5ec_11ea_8c17_80fa5b49927frow10_col23,#T_b126e5ec_f5ec_11ea_8c17_80fa5b49927frow10_col24,#T_b126e5ec_f5ec_11ea_8c17_80fa5b49927frow10_col25,#T_b126e5ec_f5ec_11ea_8c17_80fa5b49927frow10_col26,#T_b126e5ec_f5ec_11ea_8c17_80fa5b49927frow10_col27,#T_b126e5ec_f5ec_11ea_8c17_80fa5b49927frow11_col2,#T_b126e5ec_f5ec_11ea_8c17_80fa5b49927frow11_col3,#T_b126e5ec_f5ec_11ea_8c17_80fa5b49927frow11_col13,#T_b126e5ec_f5ec_11ea_8c17_80fa5b49927frow11_col14,#T_b126e5ec_f5ec_11ea_8c17_80fa5b49927frow11_col15,#T_b126e5ec_f5ec_11ea_8c17_80fa5b49927frow11_col17,#T_b126e5ec_f5ec_11ea_8c17_80fa5b49927frow11_col24,#T_b126e5ec_f5ec_11ea_8c17_80fa5b49927frow11_col25,#T_b126e5ec_f5ec_11ea_8c17_80fa5b49927frow11_col26,#T_b126e5ec_f5ec_11ea_8c17_80fa5b49927frow11_col27,#T_b126e5ec_f5ec_11ea_8c17_80fa5b49927frow12_col0,#T_b126e5ec_f5ec_11ea_8c17_80fa5b49927frow12_col1,#T_b126e5ec_f5ec_11ea_8c17_80fa5b49927frow12_col3,#T_b126e5ec_f5ec_11ea_8c17_80fa5b49927frow12_col4,#T_b126e5ec_f5ec_11ea_8c17_80fa5b49927frow12_col11,#T_b126e5ec_f5ec_11ea_8c17_80fa5b49927frow12_col12,#T_b126e5ec_f5ec_11ea_8c17_80fa5b49927frow12_col13,#T_b126e5ec_f5ec_11ea_8c17_80fa5b49927frow12_col14,#T_b126e5ec_f5ec_11ea_8c17_80fa5b49927frow12_col17,#T_b126e5ec_f5ec_11ea_8c17_80fa5b49927frow12_col23,#T_b126e5ec_f5ec_11ea_8c17_80fa5b49927frow12_col24,#T_b126e5ec_f5ec_11ea_8c17_80fa5b49927frow12_col25,#T_b126e5ec_f5ec_11ea_8c17_80fa5b49927frow12_col26,#T_b126e5ec_f5ec_11ea_8c17_80fa5b49927frow12_col27,#T_b126e5ec_f5ec_11ea_8c17_80fa5b49927frow13_col1,#T_b126e5ec_f5ec_11ea_8c17_80fa5b49927frow13_col4,#T_b126e5ec_f5ec_11ea_8c17_80fa5b49927frow13_col9,#T_b126e5ec_f5ec_11ea_8c17_80fa5b49927frow13_col11,#T_b126e5ec_f5ec_11ea_8c17_80fa5b49927frow13_col14,#T_b126e5ec_f5ec_11ea_8c17_80fa5b49927frow13_col15,#T_b126e5ec_f5ec_11ea_8c17_80fa5b49927frow13_col16,#T_b126e5ec_f5ec_11ea_8c17_80fa5b49927frow13_col18,#T_b126e5ec_f5ec_11ea_8c17_80fa5b49927frow13_col24,#T_b126e5ec_f5ec_11ea_8c17_80fa5b49927frow13_col25,#T_b126e5ec_f5ec_11ea_8c17_80fa5b49927frow13_col26,#T_b126e5ec_f5ec_11ea_8c17_80fa5b49927frow13_col27,#T_b126e5ec_f5ec_11ea_8c17_80fa5b49927frow14_col0,#T_b126e5ec_f5ec_11ea_8c17_80fa5b49927frow14_col3,#T_b126e5ec_f5ec_11ea_8c17_80fa5b49927frow14_col11,#T_b126e5ec_f5ec_11ea_8c17_80fa5b49927frow14_col12,#T_b126e5ec_f5ec_11ea_8c17_80fa5b49927frow14_col13,#T_b126e5ec_f5ec_11ea_8c17_80fa5b49927frow14_col14,#T_b126e5ec_f5ec_11ea_8c17_80fa5b49927frow14_col17,#T_b126e5ec_f5ec_11ea_8c17_80fa5b49927frow14_col18,#T_b126e5ec_f5ec_11ea_8c17_80fa5b49927frow14_col24,#T_b126e5ec_f5ec_11ea_8c17_80fa5b49927frow14_col25,#T_b126e5ec_f5ec_11ea_8c17_80fa5b49927frow14_col26,#T_b126e5ec_f5ec_11ea_8c17_80fa5b49927frow14_col27,#T_b126e5ec_f5ec_11ea_8c17_80fa5b49927frow15_col0,#T_b126e5ec_f5ec_11ea_8c17_80fa5b49927frow15_col3,#T_b126e5ec_f5ec_11ea_8c17_80fa5b49927frow15_col10,#T_b126e5ec_f5ec_11ea_8c17_80fa5b49927frow15_col11,#T_b126e5ec_f5ec_11ea_8c17_80fa5b49927frow15_col15,#T_b126e5ec_f5ec_11ea_8c17_80fa5b49927frow15_col16,#T_b126e5ec_f5ec_11ea_8c17_80fa5b49927frow15_col18,#T_b126e5ec_f5ec_11ea_8c17_80fa5b49927frow15_col24,#T_b126e5ec_f5ec_11ea_8c17_80fa5b49927frow15_col25,#T_b126e5ec_f5ec_11ea_8c17_80fa5b49927frow15_col26,#T_b126e5ec_f5ec_11ea_8c17_80fa5b49927frow15_col27,#T_b126e5ec_f5ec_11ea_8c17_80fa5b49927frow16_col1,#T_b126e5ec_f5ec_11ea_8c17_80fa5b49927frow16_col4,#T_b126e5ec_f5ec_11ea_8c17_80fa5b49927frow16_col11,#T_b126e5ec_f5ec_11ea_8c17_80fa5b49927frow16_col12,#T_b126e5ec_f5ec_11ea_8c17_80fa5b49927frow16_col14,#T_b126e5ec_f5ec_11ea_8c17_80fa5b49927frow16_col15,#T_b126e5ec_f5ec_11ea_8c17_80fa5b49927frow16_col16,#T_b126e5ec_f5ec_11ea_8c17_80fa5b49927frow16_col18,#T_b126e5ec_f5ec_11ea_8c17_80fa5b49927frow16_col24,#T_b126e5ec_f5ec_11ea_8c17_80fa5b49927frow16_col25,#T_b126e5ec_f5ec_11ea_8c17_80fa5b49927frow16_col26,#T_b126e5ec_f5ec_11ea_8c17_80fa5b49927frow16_col27,#T_b126e5ec_f5ec_11ea_8c17_80fa5b49927frow17_col0,#T_b126e5ec_f5ec_11ea_8c17_80fa5b49927frow17_col1,#T_b126e5ec_f5ec_11ea_8c17_80fa5b49927frow17_col4,#T_b126e5ec_f5ec_11ea_8c17_80fa5b49927frow17_col11,#T_b126e5ec_f5ec_11ea_8c17_80fa5b49927frow17_col13,#T_b126e5ec_f5ec_11ea_8c17_80fa5b49927frow17_col17,#T_b126e5ec_f5ec_11ea_8c17_80fa5b49927frow17_col24,#T_b126e5ec_f5ec_11ea_8c17_80fa5b49927frow17_col25,#T_b126e5ec_f5ec_11ea_8c17_80fa5b49927frow17_col26,#T_b126e5ec_f5ec_11ea_8c17_80fa5b49927frow17_col27,#T_b126e5ec_f5ec_11ea_8c17_80fa5b49927frow18_col0,#T_b126e5ec_f5ec_11ea_8c17_80fa5b49927frow18_col4,#T_b126e5ec_f5ec_11ea_8c17_80fa5b49927frow18_col12,#T_b126e5ec_f5ec_11ea_8c17_80fa5b49927frow18_col13,#T_b126e5ec_f5ec_11ea_8c17_80fa5b49927frow18_col15,#T_b126e5ec_f5ec_11ea_8c17_80fa5b49927frow18_col17,#T_b126e5ec_f5ec_11ea_8c17_80fa5b49927frow18_col23,#T_b126e5ec_f5ec_11ea_8c17_80fa5b49927frow18_col24,#T_b126e5ec_f5ec_11ea_8c17_80fa5b49927frow18_col25,#T_b126e5ec_f5ec_11ea_8c17_80fa5b49927frow18_col26,#T_b126e5ec_f5ec_11ea_8c17_80fa5b49927frow18_col27,#T_b126e5ec_f5ec_11ea_8c17_80fa5b49927frow19_col0,#T_b126e5ec_f5ec_11ea_8c17_80fa5b49927frow19_col2,#T_b126e5ec_f5ec_11ea_8c17_80fa5b49927frow19_col3,#T_b126e5ec_f5ec_11ea_8c17_80fa5b49927frow19_col5,#T_b126e5ec_f5ec_11ea_8c17_80fa5b49927frow19_col22,#T_b126e5ec_f5ec_11ea_8c17_80fa5b49927frow19_col24,#T_b126e5ec_f5ec_11ea_8c17_80fa5b49927frow19_col25,#T_b126e5ec_f5ec_11ea_8c17_80fa5b49927frow19_col26,#T_b126e5ec_f5ec_11ea_8c17_80fa5b49927frow19_col27,#T_b126e5ec_f5ec_11ea_8c17_80fa5b49927frow20_col2,#T_b126e5ec_f5ec_11ea_8c17_80fa5b49927frow20_col3,#T_b126e5ec_f5ec_11ea_8c17_80fa5b49927frow20_col6,#T_b126e5ec_f5ec_11ea_8c17_80fa5b49927frow20_col22,#T_b126e5ec_f5ec_11ea_8c17_80fa5b49927frow20_col24,#T_b126e5ec_f5ec_11ea_8c17_80fa5b49927frow20_col25,#T_b126e5ec_f5ec_11ea_8c17_80fa5b49927frow20_col26,#T_b126e5ec_f5ec_11ea_8c17_80fa5b49927frow20_col27,#T_b126e5ec_f5ec_11ea_8c17_80fa5b49927frow21_col1,#T_b126e5ec_f5ec_11ea_8c17_80fa5b49927frow21_col3,#T_b126e5ec_f5ec_11ea_8c17_80fa5b49927frow21_col4,#T_b126e5ec_f5ec_11ea_8c17_80fa5b49927frow21_col6,#T_b126e5ec_f5ec_11ea_8c17_80fa5b49927frow21_col21,#T_b126e5ec_f5ec_11ea_8c17_80fa5b49927frow21_col22,#T_b126e5ec_f5ec_11ea_8c17_80fa5b49927frow21_col24,#T_b126e5ec_f5ec_11ea_8c17_80fa5b49927frow21_col25,#T_b126e5ec_f5ec_11ea_8c17_80fa5b49927frow21_col26,#T_b126e5ec_f5ec_11ea_8c17_80fa5b49927frow21_col27,#T_b126e5ec_f5ec_11ea_8c17_80fa5b49927frow22_col0,#T_b126e5ec_f5ec_11ea_8c17_80fa5b49927frow22_col1,#T_b126e5ec_f5ec_11ea_8c17_80fa5b49927frow22_col3,#T_b126e5ec_f5ec_11ea_8c17_80fa5b49927frow22_col4,#T_b126e5ec_f5ec_11ea_8c17_80fa5b49927frow22_col5,#T_b126e5ec_f5ec_11ea_8c17_80fa5b49927frow22_col7,#T_b126e5ec_f5ec_11ea_8c17_80fa5b49927frow22_col20,#T_b126e5ec_f5ec_11ea_8c17_80fa5b49927frow22_col22,#T_b126e5ec_f5ec_11ea_8c17_80fa5b49927frow22_col24,#T_b126e5ec_f5ec_11ea_8c17_80fa5b49927frow22_col25,#T_b126e5ec_f5ec_11ea_8c17_80fa5b49927frow22_col26,#T_b126e5ec_f5ec_11ea_8c17_80fa5b49927frow22_col27,#T_b126e5ec_f5ec_11ea_8c17_80fa5b49927frow23_col3,#T_b126e5ec_f5ec_11ea_8c17_80fa5b49927frow23_col4,#T_b126e5ec_f5ec_11ea_8c17_80fa5b49927frow23_col6,#T_b126e5ec_f5ec_11ea_8c17_80fa5b49927frow23_col8,#T_b126e5ec_f5ec_11ea_8c17_80fa5b49927frow23_col20,#T_b126e5ec_f5ec_11ea_8c17_80fa5b49927frow23_col21,#T_b126e5ec_f5ec_11ea_8c17_80fa5b49927frow23_col23,#T_b126e5ec_f5ec_11ea_8c17_80fa5b49927frow23_col24,#T_b126e5ec_f5ec_11ea_8c17_80fa5b49927frow23_col25,#T_b126e5ec_f5ec_11ea_8c17_80fa5b49927frow23_col26,#T_b126e5ec_f5ec_11ea_8c17_80fa5b49927frow23_col27,#T_b126e5ec_f5ec_11ea_8c17_80fa5b49927frow24_col0,#T_b126e5ec_f5ec_11ea_8c17_80fa5b49927frow24_col1,#T_b126e5ec_f5ec_11ea_8c17_80fa5b49927frow24_col2,#T_b126e5ec_f5ec_11ea_8c17_80fa5b49927frow24_col3,#T_b126e5ec_f5ec_11ea_8c17_80fa5b49927frow24_col4,#T_b126e5ec_f5ec_11ea_8c17_80fa5b49927frow24_col5,#T_b126e5ec_f5ec_11ea_8c17_80fa5b49927frow24_col6,#T_b126e5ec_f5ec_11ea_8c17_80fa5b49927frow24_col7,#T_b126e5ec_f5ec_11ea_8c17_80fa5b49927frow24_col8,#T_b126e5ec_f5ec_11ea_8c17_80fa5b49927frow24_col9,#T_b126e5ec_f5ec_11ea_8c17_80fa5b49927frow24_col10,#T_b126e5ec_f5ec_11ea_8c17_80fa5b49927frow24_col11,#T_b126e5ec_f5ec_11ea_8c17_80fa5b49927frow24_col12,#T_b126e5ec_f5ec_11ea_8c17_80fa5b49927frow24_col13,#T_b126e5ec_f5ec_11ea_8c17_80fa5b49927frow24_col14,#T_b126e5ec_f5ec_11ea_8c17_80fa5b49927frow24_col15,#T_b126e5ec_f5ec_11ea_8c17_80fa5b49927frow24_col16,#T_b126e5ec_f5ec_11ea_8c17_80fa5b49927frow24_col17,#T_b126e5ec_f5ec_11ea_8c17_80fa5b49927frow24_col18,#T_b126e5ec_f5ec_11ea_8c17_80fa5b49927frow24_col19,#T_b126e5ec_f5ec_11ea_8c17_80fa5b49927frow24_col20,#T_b126e5ec_f5ec_11ea_8c17_80fa5b49927frow24_col21,#T_b126e5ec_f5ec_11ea_8c17_80fa5b49927frow24_col22,#T_b126e5ec_f5ec_11ea_8c17_80fa5b49927frow24_col23,#T_b126e5ec_f5ec_11ea_8c17_80fa5b49927frow24_col24,#T_b126e5ec_f5ec_11ea_8c17_80fa5b49927frow24_col25,#T_b126e5ec_f5ec_11ea_8c17_80fa5b49927frow24_col26,#T_b126e5ec_f5ec_11ea_8c17_80fa5b49927frow24_col27,#T_b126e5ec_f5ec_11ea_8c17_80fa5b49927frow25_col0,#T_b126e5ec_f5ec_11ea_8c17_80fa5b49927frow25_col1,#T_b126e5ec_f5ec_11ea_8c17_80fa5b49927frow25_col2,#T_b126e5ec_f5ec_11ea_8c17_80fa5b49927frow25_col3,#T_b126e5ec_f5ec_11ea_8c17_80fa5b49927frow25_col4,#T_b126e5ec_f5ec_11ea_8c17_80fa5b49927frow25_col5,#T_b126e5ec_f5ec_11ea_8c17_80fa5b49927frow25_col6,#T_b126e5ec_f5ec_11ea_8c17_80fa5b49927frow25_col7,#T_b126e5ec_f5ec_11ea_8c17_80fa5b49927frow25_col8,#T_b126e5ec_f5ec_11ea_8c17_80fa5b49927frow25_col9,#T_b126e5ec_f5ec_11ea_8c17_80fa5b49927frow25_col10,#T_b126e5ec_f5ec_11ea_8c17_80fa5b49927frow25_col11,#T_b126e5ec_f5ec_11ea_8c17_80fa5b49927frow25_col12,#T_b126e5ec_f5ec_11ea_8c17_80fa5b49927frow25_col13,#T_b126e5ec_f5ec_11ea_8c17_80fa5b49927frow25_col14,#T_b126e5ec_f5ec_11ea_8c17_80fa5b49927frow25_col15,#T_b126e5ec_f5ec_11ea_8c17_80fa5b49927frow25_col16,#T_b126e5ec_f5ec_11ea_8c17_80fa5b49927frow25_col17,#T_b126e5ec_f5ec_11ea_8c17_80fa5b49927frow25_col18,#T_b126e5ec_f5ec_11ea_8c17_80fa5b49927frow25_col19,#T_b126e5ec_f5ec_11ea_8c17_80fa5b49927frow25_col20,#T_b126e5ec_f5ec_11ea_8c17_80fa5b49927frow25_col21,#T_b126e5ec_f5ec_11ea_8c17_80fa5b49927frow25_col22,#T_b126e5ec_f5ec_11ea_8c17_80fa5b49927frow25_col23,#T_b126e5ec_f5ec_11ea_8c17_80fa5b49927frow25_col24,#T_b126e5ec_f5ec_11ea_8c17_80fa5b49927frow25_col25,#T_b126e5ec_f5ec_11ea_8c17_80fa5b49927frow25_col26,#T_b126e5ec_f5ec_11ea_8c17_80fa5b49927frow25_col27,#T_b126e5ec_f5ec_11ea_8c17_80fa5b49927frow26_col0,#T_b126e5ec_f5ec_11ea_8c17_80fa5b49927frow26_col1,#T_b126e5ec_f5ec_11ea_8c17_80fa5b49927frow26_col2,#T_b126e5ec_f5ec_11ea_8c17_80fa5b49927frow26_col3,#T_b126e5ec_f5ec_11ea_8c17_80fa5b49927frow26_col4,#T_b126e5ec_f5ec_11ea_8c17_80fa5b49927frow26_col5,#T_b126e5ec_f5ec_11ea_8c17_80fa5b49927frow26_col6,#T_b126e5ec_f5ec_11ea_8c17_80fa5b49927frow26_col7,#T_b126e5ec_f5ec_11ea_8c17_80fa5b49927frow26_col8,#T_b126e5ec_f5ec_11ea_8c17_80fa5b49927frow26_col9,#T_b126e5ec_f5ec_11ea_8c17_80fa5b49927frow26_col10,#T_b126e5ec_f5ec_11ea_8c17_80fa5b49927frow26_col11,#T_b126e5ec_f5ec_11ea_8c17_80fa5b49927frow26_col12,#T_b126e5ec_f5ec_11ea_8c17_80fa5b49927frow26_col13,#T_b126e5ec_f5ec_11ea_8c17_80fa5b49927frow26_col14,#T_b126e5ec_f5ec_11ea_8c17_80fa5b49927frow26_col15,#T_b126e5ec_f5ec_11ea_8c17_80fa5b49927frow26_col16,#T_b126e5ec_f5ec_11ea_8c17_80fa5b49927frow26_col17,#T_b126e5ec_f5ec_11ea_8c17_80fa5b49927frow26_col18,#T_b126e5ec_f5ec_11ea_8c17_80fa5b49927frow26_col19,#T_b126e5ec_f5ec_11ea_8c17_80fa5b49927frow26_col20,#T_b126e5ec_f5ec_11ea_8c17_80fa5b49927frow26_col21,#T_b126e5ec_f5ec_11ea_8c17_80fa5b49927frow26_col22,#T_b126e5ec_f5ec_11ea_8c17_80fa5b49927frow26_col23,#T_b126e5ec_f5ec_11ea_8c17_80fa5b49927frow26_col24,#T_b126e5ec_f5ec_11ea_8c17_80fa5b49927frow26_col25,#T_b126e5ec_f5ec_11ea_8c17_80fa5b49927frow26_col26,#T_b126e5ec_f5ec_11ea_8c17_80fa5b49927frow26_col27,#T_b126e5ec_f5ec_11ea_8c17_80fa5b49927frow27_col0,#T_b126e5ec_f5ec_11ea_8c17_80fa5b49927frow27_col1,#T_b126e5ec_f5ec_11ea_8c17_80fa5b49927frow27_col2,#T_b126e5ec_f5ec_11ea_8c17_80fa5b49927frow27_col3,#T_b126e5ec_f5ec_11ea_8c17_80fa5b49927frow27_col4,#T_b126e5ec_f5ec_11ea_8c17_80fa5b49927frow27_col5,#T_b126e5ec_f5ec_11ea_8c17_80fa5b49927frow27_col6,#T_b126e5ec_f5ec_11ea_8c17_80fa5b49927frow27_col7,#T_b126e5ec_f5ec_11ea_8c17_80fa5b49927frow27_col8,#T_b126e5ec_f5ec_11ea_8c17_80fa5b49927frow27_col9,#T_b126e5ec_f5ec_11ea_8c17_80fa5b49927frow27_col10,#T_b126e5ec_f5ec_11ea_8c17_80fa5b49927frow27_col11,#T_b126e5ec_f5ec_11ea_8c17_80fa5b49927frow27_col12,#T_b126e5ec_f5ec_11ea_8c17_80fa5b49927frow27_col13,#T_b126e5ec_f5ec_11ea_8c17_80fa5b49927frow27_col14,#T_b126e5ec_f5ec_11ea_8c17_80fa5b49927frow27_col15,#T_b126e5ec_f5ec_11ea_8c17_80fa5b49927frow27_col16,#T_b126e5ec_f5ec_11ea_8c17_80fa5b49927frow27_col17,#T_b126e5ec_f5ec_11ea_8c17_80fa5b49927frow27_col18,#T_b126e5ec_f5ec_11ea_8c17_80fa5b49927frow27_col19,#T_b126e5ec_f5ec_11ea_8c17_80fa5b49927frow27_col20,#T_b126e5ec_f5ec_11ea_8c17_80fa5b49927frow27_col21,#T_b126e5ec_f5ec_11ea_8c17_80fa5b49927frow27_col22,#T_b126e5ec_f5ec_11ea_8c17_80fa5b49927frow27_col23,#T_b126e5ec_f5ec_11ea_8c17_80fa5b49927frow27_col24,#T_b126e5ec_f5ec_11ea_8c17_80fa5b49927frow27_col25,#T_b126e5ec_f5ec_11ea_8c17_80fa5b49927frow27_col26,#T_b126e5ec_f5ec_11ea_8c17_80fa5b49927frow27_col27{\n",
       "            background-color:  #ffffff;\n",
       "            color:  #000000;\n",
       "        }#T_b126e5ec_f5ec_11ea_8c17_80fa5b49927frow0_col3,#T_b126e5ec_f5ec_11ea_8c17_80fa5b49927frow6_col3,#T_b126e5ec_f5ec_11ea_8c17_80fa5b49927frow17_col3{\n",
       "            background-color:  #d9d9d9;\n",
       "            color:  #000000;\n",
       "        }#T_b126e5ec_f5ec_11ea_8c17_80fa5b49927frow0_col4,#T_b126e5ec_f5ec_11ea_8c17_80fa5b49927frow10_col9{\n",
       "            background-color:  #bebebe;\n",
       "            color:  #000000;\n",
       "        }#T_b126e5ec_f5ec_11ea_8c17_80fa5b49927frow0_col5,#T_b126e5ec_f5ec_11ea_8c17_80fa5b49927frow0_col7,#T_b126e5ec_f5ec_11ea_8c17_80fa5b49927frow0_col12,#T_b126e5ec_f5ec_11ea_8c17_80fa5b49927frow0_col15,#T_b126e5ec_f5ec_11ea_8c17_80fa5b49927frow0_col19,#T_b126e5ec_f5ec_11ea_8c17_80fa5b49927frow1_col17,#T_b126e5ec_f5ec_11ea_8c17_80fa5b49927frow1_col19,#T_b126e5ec_f5ec_11ea_8c17_80fa5b49927frow2_col7,#T_b126e5ec_f5ec_11ea_8c17_80fa5b49927frow2_col21,#T_b126e5ec_f5ec_11ea_8c17_80fa5b49927frow3_col5,#T_b126e5ec_f5ec_11ea_8c17_80fa5b49927frow3_col6,#T_b126e5ec_f5ec_11ea_8c17_80fa5b49927frow3_col19,#T_b126e5ec_f5ec_11ea_8c17_80fa5b49927frow4_col5,#T_b126e5ec_f5ec_11ea_8c17_80fa5b49927frow4_col20,#T_b126e5ec_f5ec_11ea_8c17_80fa5b49927frow5_col8,#T_b126e5ec_f5ec_11ea_8c17_80fa5b49927frow5_col21,#T_b126e5ec_f5ec_11ea_8c17_80fa5b49927frow5_col22,#T_b126e5ec_f5ec_11ea_8c17_80fa5b49927frow11_col11,#T_b126e5ec_f5ec_11ea_8c17_80fa5b49927frow11_col16,#T_b126e5ec_f5ec_11ea_8c17_80fa5b49927frow13_col10,#T_b126e5ec_f5ec_11ea_8c17_80fa5b49927frow14_col10,#T_b126e5ec_f5ec_11ea_8c17_80fa5b49927frow15_col17,#T_b126e5ec_f5ec_11ea_8c17_80fa5b49927frow17_col15,#T_b126e5ec_f5ec_11ea_8c17_80fa5b49927frow18_col16{\n",
       "            background-color:  #fefefe;\n",
       "            color:  #000000;\n",
       "        }#T_b126e5ec_f5ec_11ea_8c17_80fa5b49927frow0_col9,#T_b126e5ec_f5ec_11ea_8c17_80fa5b49927frow2_col16,#T_b126e5ec_f5ec_11ea_8c17_80fa5b49927frow3_col18,#T_b126e5ec_f5ec_11ea_8c17_80fa5b49927frow12_col10,#T_b126e5ec_f5ec_11ea_8c17_80fa5b49927frow12_col16,#T_b126e5ec_f5ec_11ea_8c17_80fa5b49927frow12_col18,#T_b126e5ec_f5ec_11ea_8c17_80fa5b49927frow13_col12,#T_b126e5ec_f5ec_11ea_8c17_80fa5b49927frow16_col10,#T_b126e5ec_f5ec_11ea_8c17_80fa5b49927frow18_col5,#T_b126e5ec_f5ec_11ea_8c17_80fa5b49927frow20_col5{\n",
       "            background-color:  #fafafa;\n",
       "            color:  #000000;\n",
       "        }#T_b126e5ec_f5ec_11ea_8c17_80fa5b49927frow0_col16,#T_b126e5ec_f5ec_11ea_8c17_80fa5b49927frow1_col18,#T_b126e5ec_f5ec_11ea_8c17_80fa5b49927frow1_col22,#T_b126e5ec_f5ec_11ea_8c17_80fa5b49927frow2_col11,#T_b126e5ec_f5ec_11ea_8c17_80fa5b49927frow9_col15,#T_b126e5ec_f5ec_11ea_8c17_80fa5b49927frow13_col17,#T_b126e5ec_f5ec_11ea_8c17_80fa5b49927frow14_col15,#T_b126e5ec_f5ec_11ea_8c17_80fa5b49927frow14_col16,#T_b126e5ec_f5ec_11ea_8c17_80fa5b49927frow16_col13,#T_b126e5ec_f5ec_11ea_8c17_80fa5b49927frow16_col17,#T_b126e5ec_f5ec_11ea_8c17_80fa5b49927frow17_col14{\n",
       "            background-color:  #fbfbfb;\n",
       "            color:  #000000;\n",
       "        }#T_b126e5ec_f5ec_11ea_8c17_80fa5b49927frow0_col23,#T_b126e5ec_f5ec_11ea_8c17_80fa5b49927frow3_col13{\n",
       "            background-color:  #f4f4f4;\n",
       "            color:  #000000;\n",
       "        }#T_b126e5ec_f5ec_11ea_8c17_80fa5b49927frow1_col8,#T_b126e5ec_f5ec_11ea_8c17_80fa5b49927frow1_col15,#T_b126e5ec_f5ec_11ea_8c17_80fa5b49927frow1_col21,#T_b126e5ec_f5ec_11ea_8c17_80fa5b49927frow3_col22,#T_b126e5ec_f5ec_11ea_8c17_80fa5b49927frow6_col6,#T_b126e5ec_f5ec_11ea_8c17_80fa5b49927frow11_col10,#T_b126e5ec_f5ec_11ea_8c17_80fa5b49927frow11_col12,#T_b126e5ec_f5ec_11ea_8c17_80fa5b49927frow12_col15,#T_b126e5ec_f5ec_11ea_8c17_80fa5b49927frow13_col13,#T_b126e5ec_f5ec_11ea_8c17_80fa5b49927frow15_col12,#T_b126e5ec_f5ec_11ea_8c17_80fa5b49927frow15_col13,#T_b126e5ec_f5ec_11ea_8c17_80fa5b49927frow18_col14,#T_b126e5ec_f5ec_11ea_8c17_80fa5b49927frow21_col7,#T_b126e5ec_f5ec_11ea_8c17_80fa5b49927frow23_col5{\n",
       "            background-color:  #fdfdfd;\n",
       "            color:  #000000;\n",
       "        }#T_b126e5ec_f5ec_11ea_8c17_80fa5b49927frow1_col10,#T_b126e5ec_f5ec_11ea_8c17_80fa5b49927frow2_col9,#T_b126e5ec_f5ec_11ea_8c17_80fa5b49927frow3_col10,#T_b126e5ec_f5ec_11ea_8c17_80fa5b49927frow6_col23,#T_b126e5ec_f5ec_11ea_8c17_80fa5b49927frow19_col23,#T_b126e5ec_f5ec_11ea_8c17_80fa5b49927frow20_col23,#T_b126e5ec_f5ec_11ea_8c17_80fa5b49927frow21_col23,#T_b126e5ec_f5ec_11ea_8c17_80fa5b49927frow22_col6,#T_b126e5ec_f5ec_11ea_8c17_80fa5b49927frow22_col23{\n",
       "            background-color:  #f9f9f9;\n",
       "            color:  #000000;\n",
       "        }#T_b126e5ec_f5ec_11ea_8c17_80fa5b49927frow1_col12,#T_b126e5ec_f5ec_11ea_8c17_80fa5b49927frow7_col6,#T_b126e5ec_f5ec_11ea_8c17_80fa5b49927frow9_col5,#T_b126e5ec_f5ec_11ea_8c17_80fa5b49927frow17_col16,#T_b126e5ec_f5ec_11ea_8c17_80fa5b49927frow23_col19{\n",
       "            background-color:  #f7f7f7;\n",
       "            color:  #000000;\n",
       "        }#T_b126e5ec_f5ec_11ea_8c17_80fa5b49927frow2_col2,#T_b126e5ec_f5ec_11ea_8c17_80fa5b49927frow7_col7,#T_b126e5ec_f5ec_11ea_8c17_80fa5b49927frow12_col2,#T_b126e5ec_f5ec_11ea_8c17_80fa5b49927frow16_col2,#T_b126e5ec_f5ec_11ea_8c17_80fa5b49927frow19_col13{\n",
       "            background-color:  #dfdfdf;\n",
       "            color:  #000000;\n",
       "        }#T_b126e5ec_f5ec_11ea_8c17_80fa5b49927frow2_col14,#T_b126e5ec_f5ec_11ea_8c17_80fa5b49927frow2_col19,#T_b126e5ec_f5ec_11ea_8c17_80fa5b49927frow2_col20,#T_b126e5ec_f5ec_11ea_8c17_80fa5b49927frow4_col8,#T_b126e5ec_f5ec_11ea_8c17_80fa5b49927frow7_col21,#T_b126e5ec_f5ec_11ea_8c17_80fa5b49927frow9_col14,#T_b126e5ec_f5ec_11ea_8c17_80fa5b49927frow10_col11,#T_b126e5ec_f5ec_11ea_8c17_80fa5b49927frow10_col14,#T_b126e5ec_f5ec_11ea_8c17_80fa5b49927frow21_col5,#T_b126e5ec_f5ec_11ea_8c17_80fa5b49927frow23_col18,#T_b126e5ec_f5ec_11ea_8c17_80fa5b49927frow23_col22{\n",
       "            background-color:  #fcfcfc;\n",
       "            color:  #000000;\n",
       "        }#T_b126e5ec_f5ec_11ea_8c17_80fa5b49927frow3_col1,#T_b126e5ec_f5ec_11ea_8c17_80fa5b49927frow4_col1,#T_b126e5ec_f5ec_11ea_8c17_80fa5b49927frow4_col10,#T_b126e5ec_f5ec_11ea_8c17_80fa5b49927frow4_col17,#T_b126e5ec_f5ec_11ea_8c17_80fa5b49927frow10_col1,#T_b126e5ec_f5ec_11ea_8c17_80fa5b49927frow12_col9,#T_b126e5ec_f5ec_11ea_8c17_80fa5b49927frow19_col4,#T_b126e5ec_f5ec_11ea_8c17_80fa5b49927frow20_col1,#T_b126e5ec_f5ec_11ea_8c17_80fa5b49927frow20_col4,#T_b126e5ec_f5ec_11ea_8c17_80fa5b49927frow23_col1{\n",
       "            background-color:  #f3f3f3;\n",
       "            color:  #000000;\n",
       "        }#T_b126e5ec_f5ec_11ea_8c17_80fa5b49927frow3_col2,#T_b126e5ec_f5ec_11ea_8c17_80fa5b49927frow6_col0,#T_b126e5ec_f5ec_11ea_8c17_80fa5b49927frow13_col0,#T_b126e5ec_f5ec_11ea_8c17_80fa5b49927frow15_col2,#T_b126e5ec_f5ec_11ea_8c17_80fa5b49927frow18_col2,#T_b126e5ec_f5ec_11ea_8c17_80fa5b49927frow20_col0,#T_b126e5ec_f5ec_11ea_8c17_80fa5b49927frow21_col2,#T_b126e5ec_f5ec_11ea_8c17_80fa5b49927frow23_col0{\n",
       "            background-color:  #c6c6c6;\n",
       "            color:  #000000;\n",
       "        }#T_b126e5ec_f5ec_11ea_8c17_80fa5b49927frow4_col2,#T_b126e5ec_f5ec_11ea_8c17_80fa5b49927frow4_col11,#T_b126e5ec_f5ec_11ea_8c17_80fa5b49927frow6_col7,#T_b126e5ec_f5ec_11ea_8c17_80fa5b49927frow9_col2,#T_b126e5ec_f5ec_11ea_8c17_80fa5b49927frow14_col2,#T_b126e5ec_f5ec_11ea_8c17_80fa5b49927frow16_col9,#T_b126e5ec_f5ec_11ea_8c17_80fa5b49927frow19_col14,#T_b126e5ec_f5ec_11ea_8c17_80fa5b49927frow23_col9{\n",
       "            background-color:  #f2f2f2;\n",
       "            color:  #000000;\n",
       "        }#T_b126e5ec_f5ec_11ea_8c17_80fa5b49927frow4_col12,#T_b126e5ec_f5ec_11ea_8c17_80fa5b49927frow5_col17{\n",
       "            background-color:  #8d8d8d;\n",
       "            color:  #000000;\n",
       "        }#T_b126e5ec_f5ec_11ea_8c17_80fa5b49927frow4_col13{\n",
       "            background-color:  #8e8e8e;\n",
       "            color:  #000000;\n",
       "        }#T_b126e5ec_f5ec_11ea_8c17_80fa5b49927frow4_col14,#T_b126e5ec_f5ec_11ea_8c17_80fa5b49927frow17_col9{\n",
       "            background-color:  #555555;\n",
       "            color:  #f1f1f1;\n",
       "        }#T_b126e5ec_f5ec_11ea_8c17_80fa5b49927frow4_col15,#T_b126e5ec_f5ec_11ea_8c17_80fa5b49927frow6_col19,#T_b126e5ec_f5ec_11ea_8c17_80fa5b49927frow17_col5,#T_b126e5ec_f5ec_11ea_8c17_80fa5b49927frow21_col20{\n",
       "            background-color:  #c3c3c3;\n",
       "            color:  #000000;\n",
       "        }#T_b126e5ec_f5ec_11ea_8c17_80fa5b49927frow4_col16{\n",
       "            background-color:  #c7c7c7;\n",
       "            color:  #000000;\n",
       "        }#T_b126e5ec_f5ec_11ea_8c17_80fa5b49927frow5_col0,#T_b126e5ec_f5ec_11ea_8c17_80fa5b49927frow8_col0,#T_b126e5ec_f5ec_11ea_8c17_80fa5b49927frow14_col23,#T_b126e5ec_f5ec_11ea_8c17_80fa5b49927frow17_col2{\n",
       "            background-color:  #686868;\n",
       "            color:  #f1f1f1;\n",
       "        }#T_b126e5ec_f5ec_11ea_8c17_80fa5b49927frow5_col9,#T_b126e5ec_f5ec_11ea_8c17_80fa5b49927frow8_col14,#T_b126e5ec_f5ec_11ea_8c17_80fa5b49927frow13_col5{\n",
       "            background-color:  #c4c4c4;\n",
       "            color:  #000000;\n",
       "        }#T_b126e5ec_f5ec_11ea_8c17_80fa5b49927frow5_col10,#T_b126e5ec_f5ec_11ea_8c17_80fa5b49927frow8_col17,#T_b126e5ec_f5ec_11ea_8c17_80fa5b49927frow15_col8,#T_b126e5ec_f5ec_11ea_8c17_80fa5b49927frow15_col22,#T_b126e5ec_f5ec_11ea_8c17_80fa5b49927frow16_col6,#T_b126e5ec_f5ec_11ea_8c17_80fa5b49927frow17_col20,#T_b126e5ec_f5ec_11ea_8c17_80fa5b49927frow18_col7,#T_b126e5ec_f5ec_11ea_8c17_80fa5b49927frow18_col21,#T_b126e5ec_f5ec_11ea_8c17_80fa5b49927frow20_col13,#T_b126e5ec_f5ec_11ea_8c17_80fa5b49927frow21_col13{\n",
       "            background-color:  #090909;\n",
       "            color:  #f1f1f1;\n",
       "        }#T_b126e5ec_f5ec_11ea_8c17_80fa5b49927frow5_col11{\n",
       "            background-color:  #161616;\n",
       "            color:  #f1f1f1;\n",
       "        }#T_b126e5ec_f5ec_11ea_8c17_80fa5b49927frow5_col12,#T_b126e5ec_f5ec_11ea_8c17_80fa5b49927frow6_col11,#T_b126e5ec_f5ec_11ea_8c17_80fa5b49927frow6_col12,#T_b126e5ec_f5ec_11ea_8c17_80fa5b49927frow6_col13,#T_b126e5ec_f5ec_11ea_8c17_80fa5b49927frow6_col14,#T_b126e5ec_f5ec_11ea_8c17_80fa5b49927frow6_col17,#T_b126e5ec_f5ec_11ea_8c17_80fa5b49927frow7_col9,#T_b126e5ec_f5ec_11ea_8c17_80fa5b49927frow7_col13,#T_b126e5ec_f5ec_11ea_8c17_80fa5b49927frow7_col15,#T_b126e5ec_f5ec_11ea_8c17_80fa5b49927frow7_col16,#T_b126e5ec_f5ec_11ea_8c17_80fa5b49927frow7_col18,#T_b126e5ec_f5ec_11ea_8c17_80fa5b49927frow8_col3,#T_b126e5ec_f5ec_11ea_8c17_80fa5b49927frow8_col9,#T_b126e5ec_f5ec_11ea_8c17_80fa5b49927frow8_col10,#T_b126e5ec_f5ec_11ea_8c17_80fa5b49927frow8_col12,#T_b126e5ec_f5ec_11ea_8c17_80fa5b49927frow8_col16,#T_b126e5ec_f5ec_11ea_8c17_80fa5b49927frow8_col19,#T_b126e5ec_f5ec_11ea_8c17_80fa5b49927frow9_col1,#T_b126e5ec_f5ec_11ea_8c17_80fa5b49927frow9_col8,#T_b126e5ec_f5ec_11ea_8c17_80fa5b49927frow9_col18,#T_b126e5ec_f5ec_11ea_8c17_80fa5b49927frow9_col19,#T_b126e5ec_f5ec_11ea_8c17_80fa5b49927frow10_col7,#T_b126e5ec_f5ec_11ea_8c17_80fa5b49927frow10_col19,#T_b126e5ec_f5ec_11ea_8c17_80fa5b49927frow10_col20,#T_b126e5ec_f5ec_11ea_8c17_80fa5b49927frow12_col6,#T_b126e5ec_f5ec_11ea_8c17_80fa5b49927frow12_col7,#T_b126e5ec_f5ec_11ea_8c17_80fa5b49927frow12_col19,#T_b126e5ec_f5ec_11ea_8c17_80fa5b49927frow13_col3,#T_b126e5ec_f5ec_11ea_8c17_80fa5b49927frow13_col7,#T_b126e5ec_f5ec_11ea_8c17_80fa5b49927frow13_col21,#T_b126e5ec_f5ec_11ea_8c17_80fa5b49927frow14_col4,#T_b126e5ec_f5ec_11ea_8c17_80fa5b49927frow14_col6,#T_b126e5ec_f5ec_11ea_8c17_80fa5b49927frow14_col8,#T_b126e5ec_f5ec_11ea_8c17_80fa5b49927frow14_col22,#T_b126e5ec_f5ec_11ea_8c17_80fa5b49927frow15_col4,#T_b126e5ec_f5ec_11ea_8c17_80fa5b49927frow15_col5,#T_b126e5ec_f5ec_11ea_8c17_80fa5b49927frow15_col7,#T_b126e5ec_f5ec_11ea_8c17_80fa5b49927frow15_col20,#T_b126e5ec_f5ec_11ea_8c17_80fa5b49927frow15_col21,#T_b126e5ec_f5ec_11ea_8c17_80fa5b49927frow15_col23,#T_b126e5ec_f5ec_11ea_8c17_80fa5b49927frow16_col0,#T_b126e5ec_f5ec_11ea_8c17_80fa5b49927frow16_col21,#T_b126e5ec_f5ec_11ea_8c17_80fa5b49927frow16_col22,#T_b126e5ec_f5ec_11ea_8c17_80fa5b49927frow17_col6,#T_b126e5ec_f5ec_11ea_8c17_80fa5b49927frow17_col8,#T_b126e5ec_f5ec_11ea_8c17_80fa5b49927frow18_col9,#T_b126e5ec_f5ec_11ea_8c17_80fa5b49927frow18_col19,#T_b126e5ec_f5ec_11ea_8c17_80fa5b49927frow18_col20,#T_b126e5ec_f5ec_11ea_8c17_80fa5b49927frow19_col8,#T_b126e5ec_f5ec_11ea_8c17_80fa5b49927frow19_col10,#T_b126e5ec_f5ec_11ea_8c17_80fa5b49927frow20_col9,#T_b126e5ec_f5ec_11ea_8c17_80fa5b49927frow20_col11,#T_b126e5ec_f5ec_11ea_8c17_80fa5b49927frow20_col15,#T_b126e5ec_f5ec_11ea_8c17_80fa5b49927frow20_col16,#T_b126e5ec_f5ec_11ea_8c17_80fa5b49927frow20_col18,#T_b126e5ec_f5ec_11ea_8c17_80fa5b49927frow20_col20,#T_b126e5ec_f5ec_11ea_8c17_80fa5b49927frow21_col9,#T_b126e5ec_f5ec_11ea_8c17_80fa5b49927frow21_col10,#T_b126e5ec_f5ec_11ea_8c17_80fa5b49927frow21_col11,#T_b126e5ec_f5ec_11ea_8c17_80fa5b49927frow21_col12,#T_b126e5ec_f5ec_11ea_8c17_80fa5b49927frow22_col2,#T_b126e5ec_f5ec_11ea_8c17_80fa5b49927frow22_col10,#T_b126e5ec_f5ec_11ea_8c17_80fa5b49927frow22_col13,#T_b126e5ec_f5ec_11ea_8c17_80fa5b49927frow22_col14,#T_b126e5ec_f5ec_11ea_8c17_80fa5b49927frow22_col17,#T_b126e5ec_f5ec_11ea_8c17_80fa5b49927frow23_col12,#T_b126e5ec_f5ec_11ea_8c17_80fa5b49927frow23_col13,#T_b126e5ec_f5ec_11ea_8c17_80fa5b49927frow23_col15{\n",
       "            background-color:  #000000;\n",
       "            color:  #f1f1f1;\n",
       "        }#T_b126e5ec_f5ec_11ea_8c17_80fa5b49927frow5_col13,#T_b126e5ec_f5ec_11ea_8c17_80fa5b49927frow11_col19,#T_b126e5ec_f5ec_11ea_8c17_80fa5b49927frow11_col21,#T_b126e5ec_f5ec_11ea_8c17_80fa5b49927frow16_col20,#T_b126e5ec_f5ec_11ea_8c17_80fa5b49927frow18_col8,#T_b126e5ec_f5ec_11ea_8c17_80fa5b49927frow21_col14{\n",
       "            background-color:  #070707;\n",
       "            color:  #f1f1f1;\n",
       "        }#T_b126e5ec_f5ec_11ea_8c17_80fa5b49927frow5_col14,#T_b126e5ec_f5ec_11ea_8c17_80fa5b49927frow8_col18,#T_b126e5ec_f5ec_11ea_8c17_80fa5b49927frow12_col21,#T_b126e5ec_f5ec_11ea_8c17_80fa5b49927frow16_col8,#T_b126e5ec_f5ec_11ea_8c17_80fa5b49927frow20_col17{\n",
       "            background-color:  #060606;\n",
       "            color:  #f1f1f1;\n",
       "        }#T_b126e5ec_f5ec_11ea_8c17_80fa5b49927frow5_col15{\n",
       "            background-color:  #212121;\n",
       "            color:  #f1f1f1;\n",
       "        }#T_b126e5ec_f5ec_11ea_8c17_80fa5b49927frow5_col16,#T_b126e5ec_f5ec_11ea_8c17_80fa5b49927frow6_col15,#T_b126e5ec_f5ec_11ea_8c17_80fa5b49927frow19_col9,#T_b126e5ec_f5ec_11ea_8c17_80fa5b49927frow20_col10{\n",
       "            background-color:  #111111;\n",
       "            color:  #f1f1f1;\n",
       "        }#T_b126e5ec_f5ec_11ea_8c17_80fa5b49927frow5_col18{\n",
       "            background-color:  #ececec;\n",
       "            color:  #000000;\n",
       "        }#T_b126e5ec_f5ec_11ea_8c17_80fa5b49927frow6_col8{\n",
       "            background-color:  #505050;\n",
       "            color:  #f1f1f1;\n",
       "        }#T_b126e5ec_f5ec_11ea_8c17_80fa5b49927frow6_col9,#T_b126e5ec_f5ec_11ea_8c17_80fa5b49927frow7_col12,#T_b126e5ec_f5ec_11ea_8c17_80fa5b49927frow8_col11,#T_b126e5ec_f5ec_11ea_8c17_80fa5b49927frow13_col20,#T_b126e5ec_f5ec_11ea_8c17_80fa5b49927frow17_col7,#T_b126e5ec_f5ec_11ea_8c17_80fa5b49927frow17_col21,#T_b126e5ec_f5ec_11ea_8c17_80fa5b49927frow19_col19,#T_b126e5ec_f5ec_11ea_8c17_80fa5b49927frow21_col16,#T_b126e5ec_f5ec_11ea_8c17_80fa5b49927frow21_col19{\n",
       "            background-color:  #050505;\n",
       "            color:  #f1f1f1;\n",
       "        }#T_b126e5ec_f5ec_11ea_8c17_80fa5b49927frow6_col10,#T_b126e5ec_f5ec_11ea_8c17_80fa5b49927frow7_col10,#T_b126e5ec_f5ec_11ea_8c17_80fa5b49927frow11_col8,#T_b126e5ec_f5ec_11ea_8c17_80fa5b49927frow20_col12,#T_b126e5ec_f5ec_11ea_8c17_80fa5b49927frow21_col15,#T_b126e5ec_f5ec_11ea_8c17_80fa5b49927frow22_col12{\n",
       "            background-color:  #020202;\n",
       "            color:  #f1f1f1;\n",
       "        }#T_b126e5ec_f5ec_11ea_8c17_80fa5b49927frow6_col16,#T_b126e5ec_f5ec_11ea_8c17_80fa5b49927frow7_col17,#T_b126e5ec_f5ec_11ea_8c17_80fa5b49927frow10_col8,#T_b126e5ec_f5ec_11ea_8c17_80fa5b49927frow21_col17,#T_b126e5ec_f5ec_11ea_8c17_80fa5b49927frow22_col15{\n",
       "            background-color:  #010101;\n",
       "            color:  #f1f1f1;\n",
       "        }#T_b126e5ec_f5ec_11ea_8c17_80fa5b49927frow6_col18,#T_b126e5ec_f5ec_11ea_8c17_80fa5b49927frow11_col0{\n",
       "            background-color:  #333333;\n",
       "            color:  #f1f1f1;\n",
       "        }#T_b126e5ec_f5ec_11ea_8c17_80fa5b49927frow6_col22,#T_b126e5ec_f5ec_11ea_8c17_80fa5b49927frow15_col14,#T_b126e5ec_f5ec_11ea_8c17_80fa5b49927frow17_col12,#T_b126e5ec_f5ec_11ea_8c17_80fa5b49927frow22_col8,#T_b126e5ec_f5ec_11ea_8c17_80fa5b49927frow23_col7{\n",
       "            background-color:  #f8f8f8;\n",
       "            color:  #000000;\n",
       "        }#T_b126e5ec_f5ec_11ea_8c17_80fa5b49927frow7_col8,#T_b126e5ec_f5ec_11ea_8c17_80fa5b49927frow8_col8,#T_b126e5ec_f5ec_11ea_8c17_80fa5b49927frow12_col20,#T_b126e5ec_f5ec_11ea_8c17_80fa5b49927frow19_col18,#T_b126e5ec_f5ec_11ea_8c17_80fa5b49927frow22_col11{\n",
       "            background-color:  #0a0a0a;\n",
       "            color:  #f1f1f1;\n",
       "        }#T_b126e5ec_f5ec_11ea_8c17_80fa5b49927frow7_col11,#T_b126e5ec_f5ec_11ea_8c17_80fa5b49927frow14_col7{\n",
       "            background-color:  #0e0e0e;\n",
       "            color:  #f1f1f1;\n",
       "        }#T_b126e5ec_f5ec_11ea_8c17_80fa5b49927frow7_col14,#T_b126e5ec_f5ec_11ea_8c17_80fa5b49927frow12_col8,#T_b126e5ec_f5ec_11ea_8c17_80fa5b49927frow14_col20{\n",
       "            background-color:  #0c0c0c;\n",
       "            color:  #f1f1f1;\n",
       "        }#T_b126e5ec_f5ec_11ea_8c17_80fa5b49927frow7_col19{\n",
       "            background-color:  #1c1c1c;\n",
       "            color:  #f1f1f1;\n",
       "        }#T_b126e5ec_f5ec_11ea_8c17_80fa5b49927frow7_col20{\n",
       "            background-color:  #a0a0a0;\n",
       "            color:  #000000;\n",
       "        }#T_b126e5ec_f5ec_11ea_8c17_80fa5b49927frow7_col23,#T_b126e5ec_f5ec_11ea_8c17_80fa5b49927frow19_col6{\n",
       "            background-color:  #dcdcdc;\n",
       "            color:  #000000;\n",
       "        }#T_b126e5ec_f5ec_11ea_8c17_80fa5b49927frow8_col4{\n",
       "            background-color:  #636363;\n",
       "            color:  #f1f1f1;\n",
       "        }#T_b126e5ec_f5ec_11ea_8c17_80fa5b49927frow8_col6{\n",
       "            background-color:  #d8d8d8;\n",
       "            color:  #000000;\n",
       "        }#T_b126e5ec_f5ec_11ea_8c17_80fa5b49927frow8_col7{\n",
       "            background-color:  #535353;\n",
       "            color:  #f1f1f1;\n",
       "        }#T_b126e5ec_f5ec_11ea_8c17_80fa5b49927frow8_col13{\n",
       "            background-color:  #adadad;\n",
       "            color:  #000000;\n",
       "        }#T_b126e5ec_f5ec_11ea_8c17_80fa5b49927frow8_col15,#T_b126e5ec_f5ec_11ea_8c17_80fa5b49927frow13_col2,#T_b126e5ec_f5ec_11ea_8c17_80fa5b49927frow23_col2{\n",
       "            background-color:  #474747;\n",
       "            color:  #f1f1f1;\n",
       "        }#T_b126e5ec_f5ec_11ea_8c17_80fa5b49927frow8_col20,#T_b126e5ec_f5ec_11ea_8c17_80fa5b49927frow14_col5{\n",
       "            background-color:  #181818;\n",
       "            color:  #f1f1f1;\n",
       "        }#T_b126e5ec_f5ec_11ea_8c17_80fa5b49927frow8_col21{\n",
       "            background-color:  #c0c0c0;\n",
       "            color:  #000000;\n",
       "        }#T_b126e5ec_f5ec_11ea_8c17_80fa5b49927frow9_col6{\n",
       "            background-color:  #6f6f6f;\n",
       "            color:  #000000;\n",
       "        }#T_b126e5ec_f5ec_11ea_8c17_80fa5b49927frow9_col7,#T_b126e5ec_f5ec_11ea_8c17_80fa5b49927frow11_col20{\n",
       "            background-color:  #080808;\n",
       "            color:  #f1f1f1;\n",
       "        }#T_b126e5ec_f5ec_11ea_8c17_80fa5b49927frow9_col9,#T_b126e5ec_f5ec_11ea_8c17_80fa5b49927frow11_col7{\n",
       "            background-color:  #171717;\n",
       "            color:  #f1f1f1;\n",
       "        }#T_b126e5ec_f5ec_11ea_8c17_80fa5b49927frow9_col10{\n",
       "            background-color:  #2f2f2f;\n",
       "            color:  #f1f1f1;\n",
       "        }#T_b126e5ec_f5ec_11ea_8c17_80fa5b49927frow9_col11{\n",
       "            background-color:  #7d7d7d;\n",
       "            color:  #000000;\n",
       "        }#T_b126e5ec_f5ec_11ea_8c17_80fa5b49927frow9_col13{\n",
       "            background-color:  #e7e7e7;\n",
       "            color:  #000000;\n",
       "        }#T_b126e5ec_f5ec_11ea_8c17_80fa5b49927frow9_col16,#T_b126e5ec_f5ec_11ea_8c17_80fa5b49927frow17_col10,#T_b126e5ec_f5ec_11ea_8c17_80fa5b49927frow18_col3,#T_b126e5ec_f5ec_11ea_8c17_80fa5b49927frow23_col17{\n",
       "            background-color:  #f5f5f5;\n",
       "            color:  #000000;\n",
       "        }#T_b126e5ec_f5ec_11ea_8c17_80fa5b49927frow9_col17{\n",
       "            background-color:  #353535;\n",
       "            color:  #f1f1f1;\n",
       "        }#T_b126e5ec_f5ec_11ea_8c17_80fa5b49927frow9_col20,#T_b126e5ec_f5ec_11ea_8c17_80fa5b49927frow11_col6,#T_b126e5ec_f5ec_11ea_8c17_80fa5b49927frow16_col7,#T_b126e5ec_f5ec_11ea_8c17_80fa5b49927frow23_col14{\n",
       "            background-color:  #030303;\n",
       "            color:  #f1f1f1;\n",
       "        }#T_b126e5ec_f5ec_11ea_8c17_80fa5b49927frow9_col21{\n",
       "            background-color:  #666666;\n",
       "            color:  #f1f1f1;\n",
       "        }#T_b126e5ec_f5ec_11ea_8c17_80fa5b49927frow9_col23,#T_b126e5ec_f5ec_11ea_8c17_80fa5b49927frow13_col23,#T_b126e5ec_f5ec_11ea_8c17_80fa5b49927frow19_col11{\n",
       "            background-color:  #5c5c5c;\n",
       "            color:  #f1f1f1;\n",
       "        }#T_b126e5ec_f5ec_11ea_8c17_80fa5b49927frow10_col2{\n",
       "            background-color:  #a8a8a8;\n",
       "            color:  #000000;\n",
       "        }#T_b126e5ec_f5ec_11ea_8c17_80fa5b49927frow10_col3{\n",
       "            background-color:  #b0b0b0;\n",
       "            color:  #000000;\n",
       "        }#T_b126e5ec_f5ec_11ea_8c17_80fa5b49927frow10_col6{\n",
       "            background-color:  #565656;\n",
       "            color:  #f1f1f1;\n",
       "        }#T_b126e5ec_f5ec_11ea_8c17_80fa5b49927frow10_col10,#T_b126e5ec_f5ec_11ea_8c17_80fa5b49927frow11_col5{\n",
       "            background-color:  #dedede;\n",
       "            color:  #000000;\n",
       "        }#T_b126e5ec_f5ec_11ea_8c17_80fa5b49927frow10_col17{\n",
       "            background-color:  #898989;\n",
       "            color:  #000000;\n",
       "        }#T_b126e5ec_f5ec_11ea_8c17_80fa5b49927frow10_col18,#T_b126e5ec_f5ec_11ea_8c17_80fa5b49927frow14_col21,#T_b126e5ec_f5ec_11ea_8c17_80fa5b49927frow22_col16{\n",
       "            background-color:  #0f0f0f;\n",
       "            color:  #f1f1f1;\n",
       "        }#T_b126e5ec_f5ec_11ea_8c17_80fa5b49927frow10_col21{\n",
       "            background-color:  #2c2c2c;\n",
       "            color:  #f1f1f1;\n",
       "        }#T_b126e5ec_f5ec_11ea_8c17_80fa5b49927frow10_col22{\n",
       "            background-color:  #dadada;\n",
       "            color:  #000000;\n",
       "        }#T_b126e5ec_f5ec_11ea_8c17_80fa5b49927frow11_col1{\n",
       "            background-color:  #e2e2e2;\n",
       "            color:  #000000;\n",
       "        }#T_b126e5ec_f5ec_11ea_8c17_80fa5b49927frow11_col4{\n",
       "            background-color:  #7f7f7f;\n",
       "            color:  #000000;\n",
       "        }#T_b126e5ec_f5ec_11ea_8c17_80fa5b49927frow11_col9,#T_b126e5ec_f5ec_11ea_8c17_80fa5b49927frow22_col21{\n",
       "            background-color:  #f6f6f6;\n",
       "            color:  #000000;\n",
       "        }#T_b126e5ec_f5ec_11ea_8c17_80fa5b49927frow11_col18,#T_b126e5ec_f5ec_11ea_8c17_80fa5b49927frow11_col23{\n",
       "            background-color:  #bbbbbb;\n",
       "            color:  #000000;\n",
       "        }#T_b126e5ec_f5ec_11ea_8c17_80fa5b49927frow11_col22{\n",
       "            background-color:  #6c6c6c;\n",
       "            color:  #000000;\n",
       "        }#T_b126e5ec_f5ec_11ea_8c17_80fa5b49927frow12_col5{\n",
       "            background-color:  #d3d3d3;\n",
       "            color:  #000000;\n",
       "        }#T_b126e5ec_f5ec_11ea_8c17_80fa5b49927frow12_col22{\n",
       "            background-color:  #787878;\n",
       "            color:  #000000;\n",
       "        }#T_b126e5ec_f5ec_11ea_8c17_80fa5b49927frow13_col6{\n",
       "            background-color:  #222222;\n",
       "            color:  #f1f1f1;\n",
       "        }#T_b126e5ec_f5ec_11ea_8c17_80fa5b49927frow13_col8{\n",
       "            background-color:  #5a5a5a;\n",
       "            color:  #f1f1f1;\n",
       "        }#T_b126e5ec_f5ec_11ea_8c17_80fa5b49927frow13_col19{\n",
       "            background-color:  #5b5b5b;\n",
       "            color:  #f1f1f1;\n",
       "        }#T_b126e5ec_f5ec_11ea_8c17_80fa5b49927frow13_col22{\n",
       "            background-color:  #272727;\n",
       "            color:  #f1f1f1;\n",
       "        }#T_b126e5ec_f5ec_11ea_8c17_80fa5b49927frow14_col9,#T_b126e5ec_f5ec_11ea_8c17_80fa5b49927frow17_col18{\n",
       "            background-color:  #eeeeee;\n",
       "            color:  #000000;\n",
       "        }#T_b126e5ec_f5ec_11ea_8c17_80fa5b49927frow14_col19{\n",
       "            background-color:  #d4d4d4;\n",
       "            color:  #000000;\n",
       "        }#T_b126e5ec_f5ec_11ea_8c17_80fa5b49927frow15_col1{\n",
       "            background-color:  #b5b5b5;\n",
       "            color:  #000000;\n",
       "        }#T_b126e5ec_f5ec_11ea_8c17_80fa5b49927frow15_col6,#T_b126e5ec_f5ec_11ea_8c17_80fa5b49927frow19_col17,#T_b126e5ec_f5ec_11ea_8c17_80fa5b49927frow20_col8,#T_b126e5ec_f5ec_11ea_8c17_80fa5b49927frow20_col19{\n",
       "            background-color:  #131313;\n",
       "            color:  #f1f1f1;\n",
       "        }#T_b126e5ec_f5ec_11ea_8c17_80fa5b49927frow15_col9{\n",
       "            background-color:  #f1f1f1;\n",
       "            color:  #000000;\n",
       "        }#T_b126e5ec_f5ec_11ea_8c17_80fa5b49927frow15_col19,#T_b126e5ec_f5ec_11ea_8c17_80fa5b49927frow18_col22{\n",
       "            background-color:  #e5e5e5;\n",
       "            color:  #000000;\n",
       "        }#T_b126e5ec_f5ec_11ea_8c17_80fa5b49927frow16_col3,#T_b126e5ec_f5ec_11ea_8c17_80fa5b49927frow19_col12,#T_b126e5ec_f5ec_11ea_8c17_80fa5b49927frow19_col16,#T_b126e5ec_f5ec_11ea_8c17_80fa5b49927frow21_col0{\n",
       "            background-color:  #e9e9e9;\n",
       "            color:  #000000;\n",
       "        }#T_b126e5ec_f5ec_11ea_8c17_80fa5b49927frow16_col5{\n",
       "            background-color:  #626262;\n",
       "            color:  #f1f1f1;\n",
       "        }#T_b126e5ec_f5ec_11ea_8c17_80fa5b49927frow16_col19{\n",
       "            background-color:  #d6d6d6;\n",
       "            color:  #000000;\n",
       "        }#T_b126e5ec_f5ec_11ea_8c17_80fa5b49927frow16_col23{\n",
       "            background-color:  #828282;\n",
       "            color:  #000000;\n",
       "        }#T_b126e5ec_f5ec_11ea_8c17_80fa5b49927frow17_col19{\n",
       "            background-color:  #464646;\n",
       "            color:  #f1f1f1;\n",
       "        }#T_b126e5ec_f5ec_11ea_8c17_80fa5b49927frow17_col22{\n",
       "            background-color:  #8f8f8f;\n",
       "            color:  #000000;\n",
       "        }#T_b126e5ec_f5ec_11ea_8c17_80fa5b49927frow17_col23{\n",
       "            background-color:  #e4e4e4;\n",
       "            color:  #000000;\n",
       "        }#T_b126e5ec_f5ec_11ea_8c17_80fa5b49927frow18_col1,#T_b126e5ec_f5ec_11ea_8c17_80fa5b49927frow18_col11{\n",
       "            background-color:  #cecece;\n",
       "            color:  #000000;\n",
       "        }#T_b126e5ec_f5ec_11ea_8c17_80fa5b49927frow18_col6{\n",
       "            background-color:  #363636;\n",
       "            color:  #f1f1f1;\n",
       "        }#T_b126e5ec_f5ec_11ea_8c17_80fa5b49927frow18_col10{\n",
       "            background-color:  #545454;\n",
       "            color:  #f1f1f1;\n",
       "        }#T_b126e5ec_f5ec_11ea_8c17_80fa5b49927frow18_col18{\n",
       "            background-color:  #696969;\n",
       "            color:  #000000;\n",
       "        }#T_b126e5ec_f5ec_11ea_8c17_80fa5b49927frow19_col1{\n",
       "            background-color:  #7a7a7a;\n",
       "            color:  #000000;\n",
       "        }#T_b126e5ec_f5ec_11ea_8c17_80fa5b49927frow19_col7{\n",
       "            background-color:  #3f3f3f;\n",
       "            color:  #f1f1f1;\n",
       "        }#T_b126e5ec_f5ec_11ea_8c17_80fa5b49927frow19_col15{\n",
       "            background-color:  #efefef;\n",
       "            color:  #000000;\n",
       "        }#T_b126e5ec_f5ec_11ea_8c17_80fa5b49927frow19_col20{\n",
       "            background-color:  #141414;\n",
       "            color:  #f1f1f1;\n",
       "        }#T_b126e5ec_f5ec_11ea_8c17_80fa5b49927frow19_col21{\n",
       "            background-color:  #767676;\n",
       "            color:  #000000;\n",
       "        }#T_b126e5ec_f5ec_11ea_8c17_80fa5b49927frow20_col7{\n",
       "            background-color:  #b3b3b3;\n",
       "            color:  #000000;\n",
       "        }#T_b126e5ec_f5ec_11ea_8c17_80fa5b49927frow20_col14,#T_b126e5ec_f5ec_11ea_8c17_80fa5b49927frow21_col18{\n",
       "            background-color:  #151515;\n",
       "            color:  #f1f1f1;\n",
       "        }#T_b126e5ec_f5ec_11ea_8c17_80fa5b49927frow20_col21{\n",
       "            background-color:  #b8b8b8;\n",
       "            color:  #000000;\n",
       "        }#T_b126e5ec_f5ec_11ea_8c17_80fa5b49927frow21_col8{\n",
       "            background-color:  #a7a7a7;\n",
       "            color:  #000000;\n",
       "        }#T_b126e5ec_f5ec_11ea_8c17_80fa5b49927frow22_col9{\n",
       "            background-color:  #6b6b6b;\n",
       "            color:  #000000;\n",
       "        }#T_b126e5ec_f5ec_11ea_8c17_80fa5b49927frow22_col18{\n",
       "            background-color:  #0d0d0d;\n",
       "            color:  #f1f1f1;\n",
       "        }#T_b126e5ec_f5ec_11ea_8c17_80fa5b49927frow22_col19,#T_b126e5ec_f5ec_11ea_8c17_80fa5b49927frow23_col10{\n",
       "            background-color:  #dbdbdb;\n",
       "            color:  #000000;\n",
       "        }#T_b126e5ec_f5ec_11ea_8c17_80fa5b49927frow23_col11{\n",
       "            background-color:  #858585;\n",
       "            color:  #000000;\n",
       "        }#T_b126e5ec_f5ec_11ea_8c17_80fa5b49927frow23_col16{\n",
       "            background-color:  #7e7e7e;\n",
       "            color:  #000000;\n",
       "        }</style><table id=\"T_b126e5ec_f5ec_11ea_8c17_80fa5b49927f\" ><thead>    <tr>        <th class=\"blank level0\" ></th>        <th class=\"col_heading level0 col0\" >0</th>        <th class=\"col_heading level0 col1\" >1</th>        <th class=\"col_heading level0 col2\" >2</th>        <th class=\"col_heading level0 col3\" >3</th>        <th class=\"col_heading level0 col4\" >4</th>        <th class=\"col_heading level0 col5\" >5</th>        <th class=\"col_heading level0 col6\" >6</th>        <th class=\"col_heading level0 col7\" >7</th>        <th class=\"col_heading level0 col8\" >8</th>        <th class=\"col_heading level0 col9\" >9</th>        <th class=\"col_heading level0 col10\" >10</th>        <th class=\"col_heading level0 col11\" >11</th>        <th class=\"col_heading level0 col12\" >12</th>        <th class=\"col_heading level0 col13\" >13</th>        <th class=\"col_heading level0 col14\" >14</th>        <th class=\"col_heading level0 col15\" >15</th>        <th class=\"col_heading level0 col16\" >16</th>        <th class=\"col_heading level0 col17\" >17</th>        <th class=\"col_heading level0 col18\" >18</th>        <th class=\"col_heading level0 col19\" >19</th>        <th class=\"col_heading level0 col20\" >20</th>        <th class=\"col_heading level0 col21\" >21</th>        <th class=\"col_heading level0 col22\" >22</th>        <th class=\"col_heading level0 col23\" >23</th>        <th class=\"col_heading level0 col24\" >24</th>        <th class=\"col_heading level0 col25\" >25</th>        <th class=\"col_heading level0 col26\" >26</th>        <th class=\"col_heading level0 col27\" >27</th>    </tr></thead><tbody>\n",
       "                <tr>\n",
       "                        <th id=\"T_b126e5ec_f5ec_11ea_8c17_80fa5b49927flevel0_row0\" class=\"row_heading level0 row0\" >0</th>\n",
       "                        <td id=\"T_b126e5ec_f5ec_11ea_8c17_80fa5b49927frow0_col0\" class=\"data row0 col0\" >3</td>\n",
       "                        <td id=\"T_b126e5ec_f5ec_11ea_8c17_80fa5b49927frow0_col1\" class=\"data row0 col1\" >0</td>\n",
       "                        <td id=\"T_b126e5ec_f5ec_11ea_8c17_80fa5b49927frow0_col2\" class=\"data row0 col2\" >0</td>\n",
       "                        <td id=\"T_b126e5ec_f5ec_11ea_8c17_80fa5b49927frow0_col3\" class=\"data row0 col3\" >3</td>\n",
       "                        <td id=\"T_b126e5ec_f5ec_11ea_8c17_80fa5b49927frow0_col4\" class=\"data row0 col4\" >7</td>\n",
       "                        <td id=\"T_b126e5ec_f5ec_11ea_8c17_80fa5b49927frow0_col5\" class=\"data row0 col5\" >3</td>\n",
       "                        <td id=\"T_b126e5ec_f5ec_11ea_8c17_80fa5b49927frow0_col6\" class=\"data row0 col6\" >0</td>\n",
       "                        <td id=\"T_b126e5ec_f5ec_11ea_8c17_80fa5b49927frow0_col7\" class=\"data row0 col7\" >3</td>\n",
       "                        <td id=\"T_b126e5ec_f5ec_11ea_8c17_80fa5b49927frow0_col8\" class=\"data row0 col8\" >0</td>\n",
       "                        <td id=\"T_b126e5ec_f5ec_11ea_8c17_80fa5b49927frow0_col9\" class=\"data row0 col9\" >11</td>\n",
       "                        <td id=\"T_b126e5ec_f5ec_11ea_8c17_80fa5b49927frow0_col10\" class=\"data row0 col10\" >0</td>\n",
       "                        <td id=\"T_b126e5ec_f5ec_11ea_8c17_80fa5b49927frow0_col11\" class=\"data row0 col11\" >0</td>\n",
       "                        <td id=\"T_b126e5ec_f5ec_11ea_8c17_80fa5b49927frow0_col12\" class=\"data row0 col12\" >3</td>\n",
       "                        <td id=\"T_b126e5ec_f5ec_11ea_8c17_80fa5b49927frow0_col13\" class=\"data row0 col13\" >0</td>\n",
       "                        <td id=\"T_b126e5ec_f5ec_11ea_8c17_80fa5b49927frow0_col14\" class=\"data row0 col14\" >0</td>\n",
       "                        <td id=\"T_b126e5ec_f5ec_11ea_8c17_80fa5b49927frow0_col15\" class=\"data row0 col15\" >3</td>\n",
       "                        <td id=\"T_b126e5ec_f5ec_11ea_8c17_80fa5b49927frow0_col16\" class=\"data row0 col16\" >8</td>\n",
       "                        <td id=\"T_b126e5ec_f5ec_11ea_8c17_80fa5b49927frow0_col17\" class=\"data row0 col17\" >0</td>\n",
       "                        <td id=\"T_b126e5ec_f5ec_11ea_8c17_80fa5b49927frow0_col18\" class=\"data row0 col18\" >0</td>\n",
       "                        <td id=\"T_b126e5ec_f5ec_11ea_8c17_80fa5b49927frow0_col19\" class=\"data row0 col19\" >3</td>\n",
       "                        <td id=\"T_b126e5ec_f5ec_11ea_8c17_80fa5b49927frow0_col20\" class=\"data row0 col20\" >0</td>\n",
       "                        <td id=\"T_b126e5ec_f5ec_11ea_8c17_80fa5b49927frow0_col21\" class=\"data row0 col21\" >0</td>\n",
       "                        <td id=\"T_b126e5ec_f5ec_11ea_8c17_80fa5b49927frow0_col22\" class=\"data row0 col22\" >0</td>\n",
       "                        <td id=\"T_b126e5ec_f5ec_11ea_8c17_80fa5b49927frow0_col23\" class=\"data row0 col23\" >2</td>\n",
       "                        <td id=\"T_b126e5ec_f5ec_11ea_8c17_80fa5b49927frow0_col24\" class=\"data row0 col24\" >0</td>\n",
       "                        <td id=\"T_b126e5ec_f5ec_11ea_8c17_80fa5b49927frow0_col25\" class=\"data row0 col25\" >0</td>\n",
       "                        <td id=\"T_b126e5ec_f5ec_11ea_8c17_80fa5b49927frow0_col26\" class=\"data row0 col26\" >0</td>\n",
       "                        <td id=\"T_b126e5ec_f5ec_11ea_8c17_80fa5b49927frow0_col27\" class=\"data row0 col27\" >0</td>\n",
       "            </tr>\n",
       "            <tr>\n",
       "                        <th id=\"T_b126e5ec_f5ec_11ea_8c17_80fa5b49927flevel0_row1\" class=\"row_heading level0 row1\" >1</th>\n",
       "                        <td id=\"T_b126e5ec_f5ec_11ea_8c17_80fa5b49927frow1_col0\" class=\"data row1 col0\" >0</td>\n",
       "                        <td id=\"T_b126e5ec_f5ec_11ea_8c17_80fa5b49927frow1_col1\" class=\"data row1 col1\" >0</td>\n",
       "                        <td id=\"T_b126e5ec_f5ec_11ea_8c17_80fa5b49927frow1_col2\" class=\"data row1 col2\" >0</td>\n",
       "                        <td id=\"T_b126e5ec_f5ec_11ea_8c17_80fa5b49927frow1_col3\" class=\"data row1 col3\" >0</td>\n",
       "                        <td id=\"T_b126e5ec_f5ec_11ea_8c17_80fa5b49927frow1_col4\" class=\"data row1 col4\" >0</td>\n",
       "                        <td id=\"T_b126e5ec_f5ec_11ea_8c17_80fa5b49927frow1_col5\" class=\"data row1 col5\" >0</td>\n",
       "                        <td id=\"T_b126e5ec_f5ec_11ea_8c17_80fa5b49927frow1_col6\" class=\"data row1 col6\" >0</td>\n",
       "                        <td id=\"T_b126e5ec_f5ec_11ea_8c17_80fa5b49927frow1_col7\" class=\"data row1 col7\" >1</td>\n",
       "                        <td id=\"T_b126e5ec_f5ec_11ea_8c17_80fa5b49927frow1_col8\" class=\"data row1 col8\" >5</td>\n",
       "                        <td id=\"T_b126e5ec_f5ec_11ea_8c17_80fa5b49927frow1_col9\" class=\"data row1 col9\" >0</td>\n",
       "                        <td id=\"T_b126e5ec_f5ec_11ea_8c17_80fa5b49927frow1_col10\" class=\"data row1 col10\" >12</td>\n",
       "                        <td id=\"T_b126e5ec_f5ec_11ea_8c17_80fa5b49927frow1_col11\" class=\"data row1 col11\" >0</td>\n",
       "                        <td id=\"T_b126e5ec_f5ec_11ea_8c17_80fa5b49927frow1_col12\" class=\"data row1 col12\" >16</td>\n",
       "                        <td id=\"T_b126e5ec_f5ec_11ea_8c17_80fa5b49927frow1_col13\" class=\"data row1 col13\" >0</td>\n",
       "                        <td id=\"T_b126e5ec_f5ec_11ea_8c17_80fa5b49927frow1_col14\" class=\"data row1 col14\" >0</td>\n",
       "                        <td id=\"T_b126e5ec_f5ec_11ea_8c17_80fa5b49927frow1_col15\" class=\"data row1 col15\" >4</td>\n",
       "                        <td id=\"T_b126e5ec_f5ec_11ea_8c17_80fa5b49927frow1_col16\" class=\"data row1 col16\" >0</td>\n",
       "                        <td id=\"T_b126e5ec_f5ec_11ea_8c17_80fa5b49927frow1_col17\" class=\"data row1 col17\" >2</td>\n",
       "                        <td id=\"T_b126e5ec_f5ec_11ea_8c17_80fa5b49927frow1_col18\" class=\"data row1 col18\" >8</td>\n",
       "                        <td id=\"T_b126e5ec_f5ec_11ea_8c17_80fa5b49927frow1_col19\" class=\"data row1 col19\" >3</td>\n",
       "                        <td id=\"T_b126e5ec_f5ec_11ea_8c17_80fa5b49927frow1_col20\" class=\"data row1 col20\" >0</td>\n",
       "                        <td id=\"T_b126e5ec_f5ec_11ea_8c17_80fa5b49927frow1_col21\" class=\"data row1 col21\" >4</td>\n",
       "                        <td id=\"T_b126e5ec_f5ec_11ea_8c17_80fa5b49927frow1_col22\" class=\"data row1 col22\" >8</td>\n",
       "                        <td id=\"T_b126e5ec_f5ec_11ea_8c17_80fa5b49927frow1_col23\" class=\"data row1 col23\" >0</td>\n",
       "                        <td id=\"T_b126e5ec_f5ec_11ea_8c17_80fa5b49927frow1_col24\" class=\"data row1 col24\" >0</td>\n",
       "                        <td id=\"T_b126e5ec_f5ec_11ea_8c17_80fa5b49927frow1_col25\" class=\"data row1 col25\" >0</td>\n",
       "                        <td id=\"T_b126e5ec_f5ec_11ea_8c17_80fa5b49927frow1_col26\" class=\"data row1 col26\" >0</td>\n",
       "                        <td id=\"T_b126e5ec_f5ec_11ea_8c17_80fa5b49927frow1_col27\" class=\"data row1 col27\" >0</td>\n",
       "            </tr>\n",
       "            <tr>\n",
       "                        <th id=\"T_b126e5ec_f5ec_11ea_8c17_80fa5b49927flevel0_row2\" class=\"row_heading level0 row2\" >2</th>\n",
       "                        <td id=\"T_b126e5ec_f5ec_11ea_8c17_80fa5b49927frow2_col0\" class=\"data row2 col0\" >0</td>\n",
       "                        <td id=\"T_b126e5ec_f5ec_11ea_8c17_80fa5b49927frow2_col1\" class=\"data row2 col1\" >0</td>\n",
       "                        <td id=\"T_b126e5ec_f5ec_11ea_8c17_80fa5b49927frow2_col2\" class=\"data row2 col2\" >2</td>\n",
       "                        <td id=\"T_b126e5ec_f5ec_11ea_8c17_80fa5b49927frow2_col3\" class=\"data row2 col3\" >0</td>\n",
       "                        <td id=\"T_b126e5ec_f5ec_11ea_8c17_80fa5b49927frow2_col4\" class=\"data row2 col4\" >0</td>\n",
       "                        <td id=\"T_b126e5ec_f5ec_11ea_8c17_80fa5b49927frow2_col5\" class=\"data row2 col5\" >0</td>\n",
       "                        <td id=\"T_b126e5ec_f5ec_11ea_8c17_80fa5b49927frow2_col6\" class=\"data row2 col6\" >1</td>\n",
       "                        <td id=\"T_b126e5ec_f5ec_11ea_8c17_80fa5b49927frow2_col7\" class=\"data row2 col7\" >2</td>\n",
       "                        <td id=\"T_b126e5ec_f5ec_11ea_8c17_80fa5b49927frow2_col8\" class=\"data row2 col8\" >1</td>\n",
       "                        <td id=\"T_b126e5ec_f5ec_11ea_8c17_80fa5b49927frow2_col9\" class=\"data row2 col9\" >12</td>\n",
       "                        <td id=\"T_b126e5ec_f5ec_11ea_8c17_80fa5b49927frow2_col10\" class=\"data row2 col10\" >0</td>\n",
       "                        <td id=\"T_b126e5ec_f5ec_11ea_8c17_80fa5b49927frow2_col11\" class=\"data row2 col11\" >8</td>\n",
       "                        <td id=\"T_b126e5ec_f5ec_11ea_8c17_80fa5b49927frow2_col12\" class=\"data row2 col12\" >0</td>\n",
       "                        <td id=\"T_b126e5ec_f5ec_11ea_8c17_80fa5b49927frow2_col13\" class=\"data row2 col13\" >0</td>\n",
       "                        <td id=\"T_b126e5ec_f5ec_11ea_8c17_80fa5b49927frow2_col14\" class=\"data row2 col14\" >6</td>\n",
       "                        <td id=\"T_b126e5ec_f5ec_11ea_8c17_80fa5b49927frow2_col15\" class=\"data row2 col15\" >0</td>\n",
       "                        <td id=\"T_b126e5ec_f5ec_11ea_8c17_80fa5b49927frow2_col16\" class=\"data row2 col16\" >11</td>\n",
       "                        <td id=\"T_b126e5ec_f5ec_11ea_8c17_80fa5b49927frow2_col17\" class=\"data row2 col17\" >0</td>\n",
       "                        <td id=\"T_b126e5ec_f5ec_11ea_8c17_80fa5b49927frow2_col18\" class=\"data row2 col18\" >0</td>\n",
       "                        <td id=\"T_b126e5ec_f5ec_11ea_8c17_80fa5b49927frow2_col19\" class=\"data row2 col19\" >6</td>\n",
       "                        <td id=\"T_b126e5ec_f5ec_11ea_8c17_80fa5b49927frow2_col20\" class=\"data row2 col20\" >7</td>\n",
       "                        <td id=\"T_b126e5ec_f5ec_11ea_8c17_80fa5b49927frow2_col21\" class=\"data row2 col21\" >2</td>\n",
       "                        <td id=\"T_b126e5ec_f5ec_11ea_8c17_80fa5b49927frow2_col22\" class=\"data row2 col22\" >0</td>\n",
       "                        <td id=\"T_b126e5ec_f5ec_11ea_8c17_80fa5b49927frow2_col23\" class=\"data row2 col23\" >0</td>\n",
       "                        <td id=\"T_b126e5ec_f5ec_11ea_8c17_80fa5b49927frow2_col24\" class=\"data row2 col24\" >0</td>\n",
       "                        <td id=\"T_b126e5ec_f5ec_11ea_8c17_80fa5b49927frow2_col25\" class=\"data row2 col25\" >0</td>\n",
       "                        <td id=\"T_b126e5ec_f5ec_11ea_8c17_80fa5b49927frow2_col26\" class=\"data row2 col26\" >0</td>\n",
       "                        <td id=\"T_b126e5ec_f5ec_11ea_8c17_80fa5b49927frow2_col27\" class=\"data row2 col27\" >0</td>\n",
       "            </tr>\n",
       "            <tr>\n",
       "                        <th id=\"T_b126e5ec_f5ec_11ea_8c17_80fa5b49927flevel0_row3\" class=\"row_heading level0 row3\" >3</th>\n",
       "                        <td id=\"T_b126e5ec_f5ec_11ea_8c17_80fa5b49927frow3_col0\" class=\"data row3 col0\" >0</td>\n",
       "                        <td id=\"T_b126e5ec_f5ec_11ea_8c17_80fa5b49927frow3_col1\" class=\"data row3 col1\" >1</td>\n",
       "                        <td id=\"T_b126e5ec_f5ec_11ea_8c17_80fa5b49927frow3_col2\" class=\"data row3 col2\" >3</td>\n",
       "                        <td id=\"T_b126e5ec_f5ec_11ea_8c17_80fa5b49927frow3_col3\" class=\"data row3 col3\" >0</td>\n",
       "                        <td id=\"T_b126e5ec_f5ec_11ea_8c17_80fa5b49927frow3_col4\" class=\"data row3 col4\" >0</td>\n",
       "                        <td id=\"T_b126e5ec_f5ec_11ea_8c17_80fa5b49927frow3_col5\" class=\"data row3 col5\" >2</td>\n",
       "                        <td id=\"T_b126e5ec_f5ec_11ea_8c17_80fa5b49927frow3_col6\" class=\"data row3 col6\" >3</td>\n",
       "                        <td id=\"T_b126e5ec_f5ec_11ea_8c17_80fa5b49927frow3_col7\" class=\"data row3 col7\" >0</td>\n",
       "                        <td id=\"T_b126e5ec_f5ec_11ea_8c17_80fa5b49927frow3_col8\" class=\"data row3 col8\" >0</td>\n",
       "                        <td id=\"T_b126e5ec_f5ec_11ea_8c17_80fa5b49927frow3_col9\" class=\"data row3 col9\" >0</td>\n",
       "                        <td id=\"T_b126e5ec_f5ec_11ea_8c17_80fa5b49927frow3_col10\" class=\"data row3 col10\" >12</td>\n",
       "                        <td id=\"T_b126e5ec_f5ec_11ea_8c17_80fa5b49927frow3_col11\" class=\"data row3 col11\" >0</td>\n",
       "                        <td id=\"T_b126e5ec_f5ec_11ea_8c17_80fa5b49927frow3_col12\" class=\"data row3 col12\" >0</td>\n",
       "                        <td id=\"T_b126e5ec_f5ec_11ea_8c17_80fa5b49927frow3_col13\" class=\"data row3 col13\" >23</td>\n",
       "                        <td id=\"T_b126e5ec_f5ec_11ea_8c17_80fa5b49927frow3_col14\" class=\"data row3 col14\" >0</td>\n",
       "                        <td id=\"T_b126e5ec_f5ec_11ea_8c17_80fa5b49927frow3_col15\" class=\"data row3 col15\" >0</td>\n",
       "                        <td id=\"T_b126e5ec_f5ec_11ea_8c17_80fa5b49927frow3_col16\" class=\"data row3 col16\" >0</td>\n",
       "                        <td id=\"T_b126e5ec_f5ec_11ea_8c17_80fa5b49927frow3_col17\" class=\"data row3 col17\" >0</td>\n",
       "                        <td id=\"T_b126e5ec_f5ec_11ea_8c17_80fa5b49927frow3_col18\" class=\"data row3 col18\" >11</td>\n",
       "                        <td id=\"T_b126e5ec_f5ec_11ea_8c17_80fa5b49927frow3_col19\" class=\"data row3 col19\" >3</td>\n",
       "                        <td id=\"T_b126e5ec_f5ec_11ea_8c17_80fa5b49927frow3_col20\" class=\"data row3 col20\" >0</td>\n",
       "                        <td id=\"T_b126e5ec_f5ec_11ea_8c17_80fa5b49927frow3_col21\" class=\"data row3 col21\" >0</td>\n",
       "                        <td id=\"T_b126e5ec_f5ec_11ea_8c17_80fa5b49927frow3_col22\" class=\"data row3 col22\" >4</td>\n",
       "                        <td id=\"T_b126e5ec_f5ec_11ea_8c17_80fa5b49927frow3_col23\" class=\"data row3 col23\" >0</td>\n",
       "                        <td id=\"T_b126e5ec_f5ec_11ea_8c17_80fa5b49927frow3_col24\" class=\"data row3 col24\" >0</td>\n",
       "                        <td id=\"T_b126e5ec_f5ec_11ea_8c17_80fa5b49927frow3_col25\" class=\"data row3 col25\" >0</td>\n",
       "                        <td id=\"T_b126e5ec_f5ec_11ea_8c17_80fa5b49927frow3_col26\" class=\"data row3 col26\" >0</td>\n",
       "                        <td id=\"T_b126e5ec_f5ec_11ea_8c17_80fa5b49927frow3_col27\" class=\"data row3 col27\" >0</td>\n",
       "            </tr>\n",
       "            <tr>\n",
       "                        <th id=\"T_b126e5ec_f5ec_11ea_8c17_80fa5b49927flevel0_row4\" class=\"row_heading level0 row4\" >4</th>\n",
       "                        <td id=\"T_b126e5ec_f5ec_11ea_8c17_80fa5b49927frow4_col0\" class=\"data row4 col0\" >0</td>\n",
       "                        <td id=\"T_b126e5ec_f5ec_11ea_8c17_80fa5b49927frow4_col1\" class=\"data row4 col1\" >1</td>\n",
       "                        <td id=\"T_b126e5ec_f5ec_11ea_8c17_80fa5b49927frow4_col2\" class=\"data row4 col2\" >1</td>\n",
       "                        <td id=\"T_b126e5ec_f5ec_11ea_8c17_80fa5b49927frow4_col3\" class=\"data row4 col3\" >0</td>\n",
       "                        <td id=\"T_b126e5ec_f5ec_11ea_8c17_80fa5b49927frow4_col4\" class=\"data row4 col4\" >0</td>\n",
       "                        <td id=\"T_b126e5ec_f5ec_11ea_8c17_80fa5b49927frow4_col5\" class=\"data row4 col5\" >2</td>\n",
       "                        <td id=\"T_b126e5ec_f5ec_11ea_8c17_80fa5b49927frow4_col6\" class=\"data row4 col6\" >0</td>\n",
       "                        <td id=\"T_b126e5ec_f5ec_11ea_8c17_80fa5b49927frow4_col7\" class=\"data row4 col7\" >0</td>\n",
       "                        <td id=\"T_b126e5ec_f5ec_11ea_8c17_80fa5b49927frow4_col8\" class=\"data row4 col8\" >6</td>\n",
       "                        <td id=\"T_b126e5ec_f5ec_11ea_8c17_80fa5b49927frow4_col9\" class=\"data row4 col9\" >0</td>\n",
       "                        <td id=\"T_b126e5ec_f5ec_11ea_8c17_80fa5b49927frow4_col10\" class=\"data row4 col10\" >25</td>\n",
       "                        <td id=\"T_b126e5ec_f5ec_11ea_8c17_80fa5b49927frow4_col11\" class=\"data row4 col11\" >27</td>\n",
       "                        <td id=\"T_b126e5ec_f5ec_11ea_8c17_80fa5b49927frow4_col12\" class=\"data row4 col12\" >136</td>\n",
       "                        <td id=\"T_b126e5ec_f5ec_11ea_8c17_80fa5b49927frow4_col13\" class=\"data row4 col13\" >135</td>\n",
       "                        <td id=\"T_b126e5ec_f5ec_11ea_8c17_80fa5b49927frow4_col14\" class=\"data row4 col14\" >188</td>\n",
       "                        <td id=\"T_b126e5ec_f5ec_11ea_8c17_80fa5b49927frow4_col15\" class=\"data row4 col15\" >89</td>\n",
       "                        <td id=\"T_b126e5ec_f5ec_11ea_8c17_80fa5b49927frow4_col16\" class=\"data row4 col16\" >84</td>\n",
       "                        <td id=\"T_b126e5ec_f5ec_11ea_8c17_80fa5b49927frow4_col17\" class=\"data row4 col17\" >25</td>\n",
       "                        <td id=\"T_b126e5ec_f5ec_11ea_8c17_80fa5b49927frow4_col18\" class=\"data row4 col18\" >0</td>\n",
       "                        <td id=\"T_b126e5ec_f5ec_11ea_8c17_80fa5b49927frow4_col19\" class=\"data row4 col19\" >0</td>\n",
       "                        <td id=\"T_b126e5ec_f5ec_11ea_8c17_80fa5b49927frow4_col20\" class=\"data row4 col20\" >3</td>\n",
       "                        <td id=\"T_b126e5ec_f5ec_11ea_8c17_80fa5b49927frow4_col21\" class=\"data row4 col21\" >1</td>\n",
       "                        <td id=\"T_b126e5ec_f5ec_11ea_8c17_80fa5b49927frow4_col22\" class=\"data row4 col22\" >0</td>\n",
       "                        <td id=\"T_b126e5ec_f5ec_11ea_8c17_80fa5b49927frow4_col23\" class=\"data row4 col23\" >0</td>\n",
       "                        <td id=\"T_b126e5ec_f5ec_11ea_8c17_80fa5b49927frow4_col24\" class=\"data row4 col24\" >0</td>\n",
       "                        <td id=\"T_b126e5ec_f5ec_11ea_8c17_80fa5b49927frow4_col25\" class=\"data row4 col25\" >0</td>\n",
       "                        <td id=\"T_b126e5ec_f5ec_11ea_8c17_80fa5b49927frow4_col26\" class=\"data row4 col26\" >0</td>\n",
       "                        <td id=\"T_b126e5ec_f5ec_11ea_8c17_80fa5b49927frow4_col27\" class=\"data row4 col27\" >0</td>\n",
       "            </tr>\n",
       "            <tr>\n",
       "                        <th id=\"T_b126e5ec_f5ec_11ea_8c17_80fa5b49927flevel0_row5\" class=\"row_heading level0 row5\" >5</th>\n",
       "                        <td id=\"T_b126e5ec_f5ec_11ea_8c17_80fa5b49927frow5_col0\" class=\"data row5 col0\" >4</td>\n",
       "                        <td id=\"T_b126e5ec_f5ec_11ea_8c17_80fa5b49927frow5_col1\" class=\"data row5 col1\" >0</td>\n",
       "                        <td id=\"T_b126e5ec_f5ec_11ea_8c17_80fa5b49927frow5_col2\" class=\"data row5 col2\" >0</td>\n",
       "                        <td id=\"T_b126e5ec_f5ec_11ea_8c17_80fa5b49927frow5_col3\" class=\"data row5 col3\" >0</td>\n",
       "                        <td id=\"T_b126e5ec_f5ec_11ea_8c17_80fa5b49927frow5_col4\" class=\"data row5 col4\" >0</td>\n",
       "                        <td id=\"T_b126e5ec_f5ec_11ea_8c17_80fa5b49927frow5_col5\" class=\"data row5 col5\" >0</td>\n",
       "                        <td id=\"T_b126e5ec_f5ec_11ea_8c17_80fa5b49927frow5_col6\" class=\"data row5 col6\" >0</td>\n",
       "                        <td id=\"T_b126e5ec_f5ec_11ea_8c17_80fa5b49927frow5_col7\" class=\"data row5 col7\" >0</td>\n",
       "                        <td id=\"T_b126e5ec_f5ec_11ea_8c17_80fa5b49927frow5_col8\" class=\"data row5 col8\" >3</td>\n",
       "                        <td id=\"T_b126e5ec_f5ec_11ea_8c17_80fa5b49927frow5_col9\" class=\"data row5 col9\" >88</td>\n",
       "                        <td id=\"T_b126e5ec_f5ec_11ea_8c17_80fa5b49927frow5_col10\" class=\"data row5 col10\" >247</td>\n",
       "                        <td id=\"T_b126e5ec_f5ec_11ea_8c17_80fa5b49927frow5_col11\" class=\"data row5 col11\" >236</td>\n",
       "                        <td id=\"T_b126e5ec_f5ec_11ea_8c17_80fa5b49927frow5_col12\" class=\"data row5 col12\" >255</td>\n",
       "                        <td id=\"T_b126e5ec_f5ec_11ea_8c17_80fa5b49927frow5_col13\" class=\"data row5 col13\" >249</td>\n",
       "                        <td id=\"T_b126e5ec_f5ec_11ea_8c17_80fa5b49927frow5_col14\" class=\"data row5 col14\" >250</td>\n",
       "                        <td id=\"T_b126e5ec_f5ec_11ea_8c17_80fa5b49927frow5_col15\" class=\"data row5 col15\" >227</td>\n",
       "                        <td id=\"T_b126e5ec_f5ec_11ea_8c17_80fa5b49927frow5_col16\" class=\"data row5 col16\" >240</td>\n",
       "                        <td id=\"T_b126e5ec_f5ec_11ea_8c17_80fa5b49927frow5_col17\" class=\"data row5 col17\" >136</td>\n",
       "                        <td id=\"T_b126e5ec_f5ec_11ea_8c17_80fa5b49927frow5_col18\" class=\"data row5 col18\" >37</td>\n",
       "                        <td id=\"T_b126e5ec_f5ec_11ea_8c17_80fa5b49927frow5_col19\" class=\"data row5 col19\" >1</td>\n",
       "                        <td id=\"T_b126e5ec_f5ec_11ea_8c17_80fa5b49927frow5_col20\" class=\"data row5 col20\" >0</td>\n",
       "                        <td id=\"T_b126e5ec_f5ec_11ea_8c17_80fa5b49927frow5_col21\" class=\"data row5 col21\" >2</td>\n",
       "                        <td id=\"T_b126e5ec_f5ec_11ea_8c17_80fa5b49927frow5_col22\" class=\"data row5 col22\" >2</td>\n",
       "                        <td id=\"T_b126e5ec_f5ec_11ea_8c17_80fa5b49927frow5_col23\" class=\"data row5 col23\" >0</td>\n",
       "                        <td id=\"T_b126e5ec_f5ec_11ea_8c17_80fa5b49927frow5_col24\" class=\"data row5 col24\" >0</td>\n",
       "                        <td id=\"T_b126e5ec_f5ec_11ea_8c17_80fa5b49927frow5_col25\" class=\"data row5 col25\" >0</td>\n",
       "                        <td id=\"T_b126e5ec_f5ec_11ea_8c17_80fa5b49927frow5_col26\" class=\"data row5 col26\" >0</td>\n",
       "                        <td id=\"T_b126e5ec_f5ec_11ea_8c17_80fa5b49927frow5_col27\" class=\"data row5 col27\" >0</td>\n",
       "            </tr>\n",
       "            <tr>\n",
       "                        <th id=\"T_b126e5ec_f5ec_11ea_8c17_80fa5b49927flevel0_row6\" class=\"row_heading level0 row6\" >6</th>\n",
       "                        <td id=\"T_b126e5ec_f5ec_11ea_8c17_80fa5b49927frow6_col0\" class=\"data row6 col0\" >2</td>\n",
       "                        <td id=\"T_b126e5ec_f5ec_11ea_8c17_80fa5b49927frow6_col1\" class=\"data row6 col1\" >0</td>\n",
       "                        <td id=\"T_b126e5ec_f5ec_11ea_8c17_80fa5b49927frow6_col2\" class=\"data row6 col2\" >0</td>\n",
       "                        <td id=\"T_b126e5ec_f5ec_11ea_8c17_80fa5b49927frow6_col3\" class=\"data row6 col3\" >3</td>\n",
       "                        <td id=\"T_b126e5ec_f5ec_11ea_8c17_80fa5b49927frow6_col4\" class=\"data row6 col4\" >0</td>\n",
       "                        <td id=\"T_b126e5ec_f5ec_11ea_8c17_80fa5b49927frow6_col5\" class=\"data row6 col5\" >0</td>\n",
       "                        <td id=\"T_b126e5ec_f5ec_11ea_8c17_80fa5b49927frow6_col6\" class=\"data row6 col6\" >4</td>\n",
       "                        <td id=\"T_b126e5ec_f5ec_11ea_8c17_80fa5b49927frow6_col7\" class=\"data row6 col7\" >27</td>\n",
       "                        <td id=\"T_b126e5ec_f5ec_11ea_8c17_80fa5b49927frow6_col8\" class=\"data row6 col8\" >193</td>\n",
       "                        <td id=\"T_b126e5ec_f5ec_11ea_8c17_80fa5b49927frow6_col9\" class=\"data row6 col9\" >251</td>\n",
       "                        <td id=\"T_b126e5ec_f5ec_11ea_8c17_80fa5b49927frow6_col10\" class=\"data row6 col10\" >253</td>\n",
       "                        <td id=\"T_b126e5ec_f5ec_11ea_8c17_80fa5b49927frow6_col11\" class=\"data row6 col11\" >255</td>\n",
       "                        <td id=\"T_b126e5ec_f5ec_11ea_8c17_80fa5b49927frow6_col12\" class=\"data row6 col12\" >255</td>\n",
       "                        <td id=\"T_b126e5ec_f5ec_11ea_8c17_80fa5b49927frow6_col13\" class=\"data row6 col13\" >255</td>\n",
       "                        <td id=\"T_b126e5ec_f5ec_11ea_8c17_80fa5b49927frow6_col14\" class=\"data row6 col14\" >255</td>\n",
       "                        <td id=\"T_b126e5ec_f5ec_11ea_8c17_80fa5b49927frow6_col15\" class=\"data row6 col15\" >240</td>\n",
       "                        <td id=\"T_b126e5ec_f5ec_11ea_8c17_80fa5b49927frow6_col16\" class=\"data row6 col16\" >254</td>\n",
       "                        <td id=\"T_b126e5ec_f5ec_11ea_8c17_80fa5b49927frow6_col17\" class=\"data row6 col17\" >255</td>\n",
       "                        <td id=\"T_b126e5ec_f5ec_11ea_8c17_80fa5b49927frow6_col18\" class=\"data row6 col18\" >213</td>\n",
       "                        <td id=\"T_b126e5ec_f5ec_11ea_8c17_80fa5b49927frow6_col19\" class=\"data row6 col19\" >89</td>\n",
       "                        <td id=\"T_b126e5ec_f5ec_11ea_8c17_80fa5b49927frow6_col20\" class=\"data row6 col20\" >0</td>\n",
       "                        <td id=\"T_b126e5ec_f5ec_11ea_8c17_80fa5b49927frow6_col21\" class=\"data row6 col21\" >0</td>\n",
       "                        <td id=\"T_b126e5ec_f5ec_11ea_8c17_80fa5b49927frow6_col22\" class=\"data row6 col22\" >14</td>\n",
       "                        <td id=\"T_b126e5ec_f5ec_11ea_8c17_80fa5b49927frow6_col23\" class=\"data row6 col23\" >1</td>\n",
       "                        <td id=\"T_b126e5ec_f5ec_11ea_8c17_80fa5b49927frow6_col24\" class=\"data row6 col24\" >0</td>\n",
       "                        <td id=\"T_b126e5ec_f5ec_11ea_8c17_80fa5b49927frow6_col25\" class=\"data row6 col25\" >0</td>\n",
       "                        <td id=\"T_b126e5ec_f5ec_11ea_8c17_80fa5b49927frow6_col26\" class=\"data row6 col26\" >0</td>\n",
       "                        <td id=\"T_b126e5ec_f5ec_11ea_8c17_80fa5b49927frow6_col27\" class=\"data row6 col27\" >0</td>\n",
       "            </tr>\n",
       "            <tr>\n",
       "                        <th id=\"T_b126e5ec_f5ec_11ea_8c17_80fa5b49927flevel0_row7\" class=\"row_heading level0 row7\" >7</th>\n",
       "                        <td id=\"T_b126e5ec_f5ec_11ea_8c17_80fa5b49927frow7_col0\" class=\"data row7 col0\" >0</td>\n",
       "                        <td id=\"T_b126e5ec_f5ec_11ea_8c17_80fa5b49927frow7_col1\" class=\"data row7 col1\" >0</td>\n",
       "                        <td id=\"T_b126e5ec_f5ec_11ea_8c17_80fa5b49927frow7_col2\" class=\"data row7 col2\" >0</td>\n",
       "                        <td id=\"T_b126e5ec_f5ec_11ea_8c17_80fa5b49927frow7_col3\" class=\"data row7 col3\" >6</td>\n",
       "                        <td id=\"T_b126e5ec_f5ec_11ea_8c17_80fa5b49927frow7_col4\" class=\"data row7 col4\" >0</td>\n",
       "                        <td id=\"T_b126e5ec_f5ec_11ea_8c17_80fa5b49927frow7_col5\" class=\"data row7 col5\" >0</td>\n",
       "                        <td id=\"T_b126e5ec_f5ec_11ea_8c17_80fa5b49927frow7_col6\" class=\"data row7 col6\" >18</td>\n",
       "                        <td id=\"T_b126e5ec_f5ec_11ea_8c17_80fa5b49927frow7_col7\" class=\"data row7 col7\" >56</td>\n",
       "                        <td id=\"T_b126e5ec_f5ec_11ea_8c17_80fa5b49927frow7_col8\" class=\"data row7 col8\" >246</td>\n",
       "                        <td id=\"T_b126e5ec_f5ec_11ea_8c17_80fa5b49927frow7_col9\" class=\"data row7 col9\" >255</td>\n",
       "                        <td id=\"T_b126e5ec_f5ec_11ea_8c17_80fa5b49927frow7_col10\" class=\"data row7 col10\" >253</td>\n",
       "                        <td id=\"T_b126e5ec_f5ec_11ea_8c17_80fa5b49927frow7_col11\" class=\"data row7 col11\" >243</td>\n",
       "                        <td id=\"T_b126e5ec_f5ec_11ea_8c17_80fa5b49927frow7_col12\" class=\"data row7 col12\" >251</td>\n",
       "                        <td id=\"T_b126e5ec_f5ec_11ea_8c17_80fa5b49927frow7_col13\" class=\"data row7 col13\" >255</td>\n",
       "                        <td id=\"T_b126e5ec_f5ec_11ea_8c17_80fa5b49927frow7_col14\" class=\"data row7 col14\" >245</td>\n",
       "                        <td id=\"T_b126e5ec_f5ec_11ea_8c17_80fa5b49927frow7_col15\" class=\"data row7 col15\" >255</td>\n",
       "                        <td id=\"T_b126e5ec_f5ec_11ea_8c17_80fa5b49927frow7_col16\" class=\"data row7 col16\" >255</td>\n",
       "                        <td id=\"T_b126e5ec_f5ec_11ea_8c17_80fa5b49927frow7_col17\" class=\"data row7 col17\" >254</td>\n",
       "                        <td id=\"T_b126e5ec_f5ec_11ea_8c17_80fa5b49927frow7_col18\" class=\"data row7 col18\" >255</td>\n",
       "                        <td id=\"T_b126e5ec_f5ec_11ea_8c17_80fa5b49927frow7_col19\" class=\"data row7 col19\" >231</td>\n",
       "                        <td id=\"T_b126e5ec_f5ec_11ea_8c17_80fa5b49927frow7_col20\" class=\"data row7 col20\" >119</td>\n",
       "                        <td id=\"T_b126e5ec_f5ec_11ea_8c17_80fa5b49927frow7_col21\" class=\"data row7 col21\" >7</td>\n",
       "                        <td id=\"T_b126e5ec_f5ec_11ea_8c17_80fa5b49927frow7_col22\" class=\"data row7 col22\" >0</td>\n",
       "                        <td id=\"T_b126e5ec_f5ec_11ea_8c17_80fa5b49927frow7_col23\" class=\"data row7 col23\" >5</td>\n",
       "                        <td id=\"T_b126e5ec_f5ec_11ea_8c17_80fa5b49927frow7_col24\" class=\"data row7 col24\" >0</td>\n",
       "                        <td id=\"T_b126e5ec_f5ec_11ea_8c17_80fa5b49927frow7_col25\" class=\"data row7 col25\" >0</td>\n",
       "                        <td id=\"T_b126e5ec_f5ec_11ea_8c17_80fa5b49927frow7_col26\" class=\"data row7 col26\" >0</td>\n",
       "                        <td id=\"T_b126e5ec_f5ec_11ea_8c17_80fa5b49927frow7_col27\" class=\"data row7 col27\" >0</td>\n",
       "            </tr>\n",
       "            <tr>\n",
       "                        <th id=\"T_b126e5ec_f5ec_11ea_8c17_80fa5b49927flevel0_row8\" class=\"row_heading level0 row8\" >8</th>\n",
       "                        <td id=\"T_b126e5ec_f5ec_11ea_8c17_80fa5b49927frow8_col0\" class=\"data row8 col0\" >4</td>\n",
       "                        <td id=\"T_b126e5ec_f5ec_11ea_8c17_80fa5b49927frow8_col1\" class=\"data row8 col1\" >0</td>\n",
       "                        <td id=\"T_b126e5ec_f5ec_11ea_8c17_80fa5b49927frow8_col2\" class=\"data row8 col2\" >0</td>\n",
       "                        <td id=\"T_b126e5ec_f5ec_11ea_8c17_80fa5b49927frow8_col3\" class=\"data row8 col3\" >12</td>\n",
       "                        <td id=\"T_b126e5ec_f5ec_11ea_8c17_80fa5b49927frow8_col4\" class=\"data row8 col4\" >13</td>\n",
       "                        <td id=\"T_b126e5ec_f5ec_11ea_8c17_80fa5b49927frow8_col5\" class=\"data row8 col5\" >0</td>\n",
       "                        <td id=\"T_b126e5ec_f5ec_11ea_8c17_80fa5b49927frow8_col6\" class=\"data row8 col6\" >65</td>\n",
       "                        <td id=\"T_b126e5ec_f5ec_11ea_8c17_80fa5b49927frow8_col7\" class=\"data row8 col7\" >190</td>\n",
       "                        <td id=\"T_b126e5ec_f5ec_11ea_8c17_80fa5b49927frow8_col8\" class=\"data row8 col8\" >246</td>\n",
       "                        <td id=\"T_b126e5ec_f5ec_11ea_8c17_80fa5b49927frow8_col9\" class=\"data row8 col9\" >255</td>\n",
       "                        <td id=\"T_b126e5ec_f5ec_11ea_8c17_80fa5b49927frow8_col10\" class=\"data row8 col10\" >255</td>\n",
       "                        <td id=\"T_b126e5ec_f5ec_11ea_8c17_80fa5b49927frow8_col11\" class=\"data row8 col11\" >251</td>\n",
       "                        <td id=\"T_b126e5ec_f5ec_11ea_8c17_80fa5b49927frow8_col12\" class=\"data row8 col12\" >255</td>\n",
       "                        <td id=\"T_b126e5ec_f5ec_11ea_8c17_80fa5b49927frow8_col13\" class=\"data row8 col13\" >109</td>\n",
       "                        <td id=\"T_b126e5ec_f5ec_11ea_8c17_80fa5b49927frow8_col14\" class=\"data row8 col14\" >88</td>\n",
       "                        <td id=\"T_b126e5ec_f5ec_11ea_8c17_80fa5b49927frow8_col15\" class=\"data row8 col15\" >199</td>\n",
       "                        <td id=\"T_b126e5ec_f5ec_11ea_8c17_80fa5b49927frow8_col16\" class=\"data row8 col16\" >255</td>\n",
       "                        <td id=\"T_b126e5ec_f5ec_11ea_8c17_80fa5b49927frow8_col17\" class=\"data row8 col17\" >247</td>\n",
       "                        <td id=\"T_b126e5ec_f5ec_11ea_8c17_80fa5b49927frow8_col18\" class=\"data row8 col18\" >250</td>\n",
       "                        <td id=\"T_b126e5ec_f5ec_11ea_8c17_80fa5b49927frow8_col19\" class=\"data row8 col19\" >255</td>\n",
       "                        <td id=\"T_b126e5ec_f5ec_11ea_8c17_80fa5b49927frow8_col20\" class=\"data row8 col20\" >234</td>\n",
       "                        <td id=\"T_b126e5ec_f5ec_11ea_8c17_80fa5b49927frow8_col21\" class=\"data row8 col21\" >92</td>\n",
       "                        <td id=\"T_b126e5ec_f5ec_11ea_8c17_80fa5b49927frow8_col22\" class=\"data row8 col22\" >0</td>\n",
       "                        <td id=\"T_b126e5ec_f5ec_11ea_8c17_80fa5b49927frow8_col23\" class=\"data row8 col23\" >0</td>\n",
       "                        <td id=\"T_b126e5ec_f5ec_11ea_8c17_80fa5b49927frow8_col24\" class=\"data row8 col24\" >0</td>\n",
       "                        <td id=\"T_b126e5ec_f5ec_11ea_8c17_80fa5b49927frow8_col25\" class=\"data row8 col25\" >0</td>\n",
       "                        <td id=\"T_b126e5ec_f5ec_11ea_8c17_80fa5b49927frow8_col26\" class=\"data row8 col26\" >0</td>\n",
       "                        <td id=\"T_b126e5ec_f5ec_11ea_8c17_80fa5b49927frow8_col27\" class=\"data row8 col27\" >0</td>\n",
       "            </tr>\n",
       "            <tr>\n",
       "                        <th id=\"T_b126e5ec_f5ec_11ea_8c17_80fa5b49927flevel0_row9\" class=\"row_heading level0 row9\" >9</th>\n",
       "                        <td id=\"T_b126e5ec_f5ec_11ea_8c17_80fa5b49927frow9_col0\" class=\"data row9 col0\" >0</td>\n",
       "                        <td id=\"T_b126e5ec_f5ec_11ea_8c17_80fa5b49927frow9_col1\" class=\"data row9 col1\" >10</td>\n",
       "                        <td id=\"T_b126e5ec_f5ec_11ea_8c17_80fa5b49927frow9_col2\" class=\"data row9 col2\" >1</td>\n",
       "                        <td id=\"T_b126e5ec_f5ec_11ea_8c17_80fa5b49927frow9_col3\" class=\"data row9 col3\" >0</td>\n",
       "                        <td id=\"T_b126e5ec_f5ec_11ea_8c17_80fa5b49927frow9_col4\" class=\"data row9 col4\" >0</td>\n",
       "                        <td id=\"T_b126e5ec_f5ec_11ea_8c17_80fa5b49927frow9_col5\" class=\"data row9 col5\" >18</td>\n",
       "                        <td id=\"T_b126e5ec_f5ec_11ea_8c17_80fa5b49927frow9_col6\" class=\"data row9 col6\" >163</td>\n",
       "                        <td id=\"T_b126e5ec_f5ec_11ea_8c17_80fa5b49927frow9_col7\" class=\"data row9 col7\" >248</td>\n",
       "                        <td id=\"T_b126e5ec_f5ec_11ea_8c17_80fa5b49927frow9_col8\" class=\"data row9 col8\" >255</td>\n",
       "                        <td id=\"T_b126e5ec_f5ec_11ea_8c17_80fa5b49927frow9_col9\" class=\"data row9 col9\" >235</td>\n",
       "                        <td id=\"T_b126e5ec_f5ec_11ea_8c17_80fa5b49927frow9_col10\" class=\"data row9 col10\" >216</td>\n",
       "                        <td id=\"T_b126e5ec_f5ec_11ea_8c17_80fa5b49927frow9_col11\" class=\"data row9 col11\" >150</td>\n",
       "                        <td id=\"T_b126e5ec_f5ec_11ea_8c17_80fa5b49927frow9_col12\" class=\"data row9 col12\" >128</td>\n",
       "                        <td id=\"T_b126e5ec_f5ec_11ea_8c17_80fa5b49927frow9_col13\" class=\"data row9 col13\" >45</td>\n",
       "                        <td id=\"T_b126e5ec_f5ec_11ea_8c17_80fa5b49927frow9_col14\" class=\"data row9 col14\" >6</td>\n",
       "                        <td id=\"T_b126e5ec_f5ec_11ea_8c17_80fa5b49927frow9_col15\" class=\"data row9 col15\" >8</td>\n",
       "                        <td id=\"T_b126e5ec_f5ec_11ea_8c17_80fa5b49927frow9_col16\" class=\"data row9 col16\" >22</td>\n",
       "                        <td id=\"T_b126e5ec_f5ec_11ea_8c17_80fa5b49927frow9_col17\" class=\"data row9 col17\" >212</td>\n",
       "                        <td id=\"T_b126e5ec_f5ec_11ea_8c17_80fa5b49927frow9_col18\" class=\"data row9 col18\" >255</td>\n",
       "                        <td id=\"T_b126e5ec_f5ec_11ea_8c17_80fa5b49927frow9_col19\" class=\"data row9 col19\" >255</td>\n",
       "                        <td id=\"T_b126e5ec_f5ec_11ea_8c17_80fa5b49927frow9_col20\" class=\"data row9 col20\" >252</td>\n",
       "                        <td id=\"T_b126e5ec_f5ec_11ea_8c17_80fa5b49927frow9_col21\" class=\"data row9 col21\" >172</td>\n",
       "                        <td id=\"T_b126e5ec_f5ec_11ea_8c17_80fa5b49927frow9_col22\" class=\"data row9 col22\" >0</td>\n",
       "                        <td id=\"T_b126e5ec_f5ec_11ea_8c17_80fa5b49927frow9_col23\" class=\"data row9 col23\" >15</td>\n",
       "                        <td id=\"T_b126e5ec_f5ec_11ea_8c17_80fa5b49927frow9_col24\" class=\"data row9 col24\" >0</td>\n",
       "                        <td id=\"T_b126e5ec_f5ec_11ea_8c17_80fa5b49927frow9_col25\" class=\"data row9 col25\" >0</td>\n",
       "                        <td id=\"T_b126e5ec_f5ec_11ea_8c17_80fa5b49927frow9_col26\" class=\"data row9 col26\" >0</td>\n",
       "                        <td id=\"T_b126e5ec_f5ec_11ea_8c17_80fa5b49927frow9_col27\" class=\"data row9 col27\" >0</td>\n",
       "            </tr>\n",
       "            <tr>\n",
       "                        <th id=\"T_b126e5ec_f5ec_11ea_8c17_80fa5b49927flevel0_row10\" class=\"row_heading level0 row10\" >10</th>\n",
       "                        <td id=\"T_b126e5ec_f5ec_11ea_8c17_80fa5b49927frow10_col0\" class=\"data row10 col0\" >0</td>\n",
       "                        <td id=\"T_b126e5ec_f5ec_11ea_8c17_80fa5b49927frow10_col1\" class=\"data row10 col1\" >1</td>\n",
       "                        <td id=\"T_b126e5ec_f5ec_11ea_8c17_80fa5b49927frow10_col2\" class=\"data row10 col2\" >4</td>\n",
       "                        <td id=\"T_b126e5ec_f5ec_11ea_8c17_80fa5b49927frow10_col3\" class=\"data row10 col3\" >5</td>\n",
       "                        <td id=\"T_b126e5ec_f5ec_11ea_8c17_80fa5b49927frow10_col4\" class=\"data row10 col4\" >0</td>\n",
       "                        <td id=\"T_b126e5ec_f5ec_11ea_8c17_80fa5b49927frow10_col5\" class=\"data row10 col5\" >0</td>\n",
       "                        <td id=\"T_b126e5ec_f5ec_11ea_8c17_80fa5b49927frow10_col6\" class=\"data row10 col6\" >187</td>\n",
       "                        <td id=\"T_b126e5ec_f5ec_11ea_8c17_80fa5b49927frow10_col7\" class=\"data row10 col7\" >255</td>\n",
       "                        <td id=\"T_b126e5ec_f5ec_11ea_8c17_80fa5b49927frow10_col8\" class=\"data row10 col8\" >254</td>\n",
       "                        <td id=\"T_b126e5ec_f5ec_11ea_8c17_80fa5b49927frow10_col9\" class=\"data row10 col9\" >94</td>\n",
       "                        <td id=\"T_b126e5ec_f5ec_11ea_8c17_80fa5b49927frow10_col10\" class=\"data row10 col10\" >57</td>\n",
       "                        <td id=\"T_b126e5ec_f5ec_11ea_8c17_80fa5b49927frow10_col11\" class=\"data row10 col11\" >7</td>\n",
       "                        <td id=\"T_b126e5ec_f5ec_11ea_8c17_80fa5b49927frow10_col12\" class=\"data row10 col12\" >1</td>\n",
       "                        <td id=\"T_b126e5ec_f5ec_11ea_8c17_80fa5b49927frow10_col13\" class=\"data row10 col13\" >0</td>\n",
       "                        <td id=\"T_b126e5ec_f5ec_11ea_8c17_80fa5b49927frow10_col14\" class=\"data row10 col14\" >6</td>\n",
       "                        <td id=\"T_b126e5ec_f5ec_11ea_8c17_80fa5b49927frow10_col15\" class=\"data row10 col15\" >0</td>\n",
       "                        <td id=\"T_b126e5ec_f5ec_11ea_8c17_80fa5b49927frow10_col16\" class=\"data row10 col16\" >0</td>\n",
       "                        <td id=\"T_b126e5ec_f5ec_11ea_8c17_80fa5b49927frow10_col17\" class=\"data row10 col17\" >139</td>\n",
       "                        <td id=\"T_b126e5ec_f5ec_11ea_8c17_80fa5b49927frow10_col18\" class=\"data row10 col18\" >242</td>\n",
       "                        <td id=\"T_b126e5ec_f5ec_11ea_8c17_80fa5b49927frow10_col19\" class=\"data row10 col19\" >255</td>\n",
       "                        <td id=\"T_b126e5ec_f5ec_11ea_8c17_80fa5b49927frow10_col20\" class=\"data row10 col20\" >255</td>\n",
       "                        <td id=\"T_b126e5ec_f5ec_11ea_8c17_80fa5b49927frow10_col21\" class=\"data row10 col21\" >218</td>\n",
       "                        <td id=\"T_b126e5ec_f5ec_11ea_8c17_80fa5b49927frow10_col22\" class=\"data row10 col22\" >62</td>\n",
       "                        <td id=\"T_b126e5ec_f5ec_11ea_8c17_80fa5b49927frow10_col23\" class=\"data row10 col23\" >0</td>\n",
       "                        <td id=\"T_b126e5ec_f5ec_11ea_8c17_80fa5b49927frow10_col24\" class=\"data row10 col24\" >0</td>\n",
       "                        <td id=\"T_b126e5ec_f5ec_11ea_8c17_80fa5b49927frow10_col25\" class=\"data row10 col25\" >0</td>\n",
       "                        <td id=\"T_b126e5ec_f5ec_11ea_8c17_80fa5b49927frow10_col26\" class=\"data row10 col26\" >0</td>\n",
       "                        <td id=\"T_b126e5ec_f5ec_11ea_8c17_80fa5b49927frow10_col27\" class=\"data row10 col27\" >0</td>\n",
       "            </tr>\n",
       "            <tr>\n",
       "                        <th id=\"T_b126e5ec_f5ec_11ea_8c17_80fa5b49927flevel0_row11\" class=\"row_heading level0 row11\" >11</th>\n",
       "                        <td id=\"T_b126e5ec_f5ec_11ea_8c17_80fa5b49927frow11_col0\" class=\"data row11 col0\" >5</td>\n",
       "                        <td id=\"T_b126e5ec_f5ec_11ea_8c17_80fa5b49927frow11_col1\" class=\"data row11 col1\" >2</td>\n",
       "                        <td id=\"T_b126e5ec_f5ec_11ea_8c17_80fa5b49927frow11_col2\" class=\"data row11 col2\" >0</td>\n",
       "                        <td id=\"T_b126e5ec_f5ec_11ea_8c17_80fa5b49927frow11_col3\" class=\"data row11 col3\" >0</td>\n",
       "                        <td id=\"T_b126e5ec_f5ec_11ea_8c17_80fa5b49927frow11_col4\" class=\"data row11 col4\" >11</td>\n",
       "                        <td id=\"T_b126e5ec_f5ec_11ea_8c17_80fa5b49927frow11_col5\" class=\"data row11 col5\" >56</td>\n",
       "                        <td id=\"T_b126e5ec_f5ec_11ea_8c17_80fa5b49927frow11_col6\" class=\"data row11 col6\" >252</td>\n",
       "                        <td id=\"T_b126e5ec_f5ec_11ea_8c17_80fa5b49927frow11_col7\" class=\"data row11 col7\" >235</td>\n",
       "                        <td id=\"T_b126e5ec_f5ec_11ea_8c17_80fa5b49927frow11_col8\" class=\"data row11 col8\" >253</td>\n",
       "                        <td id=\"T_b126e5ec_f5ec_11ea_8c17_80fa5b49927frow11_col9\" class=\"data row11 col9\" >20</td>\n",
       "                        <td id=\"T_b126e5ec_f5ec_11ea_8c17_80fa5b49927frow11_col10\" class=\"data row11 col10\" >5</td>\n",
       "                        <td id=\"T_b126e5ec_f5ec_11ea_8c17_80fa5b49927frow11_col11\" class=\"data row11 col11\" >2</td>\n",
       "                        <td id=\"T_b126e5ec_f5ec_11ea_8c17_80fa5b49927frow11_col12\" class=\"data row11 col12\" >5</td>\n",
       "                        <td id=\"T_b126e5ec_f5ec_11ea_8c17_80fa5b49927frow11_col13\" class=\"data row11 col13\" >1</td>\n",
       "                        <td id=\"T_b126e5ec_f5ec_11ea_8c17_80fa5b49927frow11_col14\" class=\"data row11 col14\" >0</td>\n",
       "                        <td id=\"T_b126e5ec_f5ec_11ea_8c17_80fa5b49927frow11_col15\" class=\"data row11 col15\" >1</td>\n",
       "                        <td id=\"T_b126e5ec_f5ec_11ea_8c17_80fa5b49927frow11_col16\" class=\"data row11 col16\" >2</td>\n",
       "                        <td id=\"T_b126e5ec_f5ec_11ea_8c17_80fa5b49927frow11_col17\" class=\"data row11 col17\" >0</td>\n",
       "                        <td id=\"T_b126e5ec_f5ec_11ea_8c17_80fa5b49927frow11_col18\" class=\"data row11 col18\" >97</td>\n",
       "                        <td id=\"T_b126e5ec_f5ec_11ea_8c17_80fa5b49927frow11_col19\" class=\"data row11 col19\" >249</td>\n",
       "                        <td id=\"T_b126e5ec_f5ec_11ea_8c17_80fa5b49927frow11_col20\" class=\"data row11 col20\" >248</td>\n",
       "                        <td id=\"T_b126e5ec_f5ec_11ea_8c17_80fa5b49927frow11_col21\" class=\"data row11 col21\" >249</td>\n",
       "                        <td id=\"T_b126e5ec_f5ec_11ea_8c17_80fa5b49927frow11_col22\" class=\"data row11 col22\" >166</td>\n",
       "                        <td id=\"T_b126e5ec_f5ec_11ea_8c17_80fa5b49927frow11_col23\" class=\"data row11 col23\" >8</td>\n",
       "                        <td id=\"T_b126e5ec_f5ec_11ea_8c17_80fa5b49927frow11_col24\" class=\"data row11 col24\" >0</td>\n",
       "                        <td id=\"T_b126e5ec_f5ec_11ea_8c17_80fa5b49927frow11_col25\" class=\"data row11 col25\" >0</td>\n",
       "                        <td id=\"T_b126e5ec_f5ec_11ea_8c17_80fa5b49927frow11_col26\" class=\"data row11 col26\" >0</td>\n",
       "                        <td id=\"T_b126e5ec_f5ec_11ea_8c17_80fa5b49927frow11_col27\" class=\"data row11 col27\" >0</td>\n",
       "            </tr>\n",
       "            <tr>\n",
       "                        <th id=\"T_b126e5ec_f5ec_11ea_8c17_80fa5b49927flevel0_row12\" class=\"row_heading level0 row12\" >12</th>\n",
       "                        <td id=\"T_b126e5ec_f5ec_11ea_8c17_80fa5b49927frow12_col0\" class=\"data row12 col0\" >0</td>\n",
       "                        <td id=\"T_b126e5ec_f5ec_11ea_8c17_80fa5b49927frow12_col1\" class=\"data row12 col1\" >0</td>\n",
       "                        <td id=\"T_b126e5ec_f5ec_11ea_8c17_80fa5b49927frow12_col2\" class=\"data row12 col2\" >2</td>\n",
       "                        <td id=\"T_b126e5ec_f5ec_11ea_8c17_80fa5b49927frow12_col3\" class=\"data row12 col3\" >0</td>\n",
       "                        <td id=\"T_b126e5ec_f5ec_11ea_8c17_80fa5b49927frow12_col4\" class=\"data row12 col4\" >0</td>\n",
       "                        <td id=\"T_b126e5ec_f5ec_11ea_8c17_80fa5b49927frow12_col5\" class=\"data row12 col5\" >70</td>\n",
       "                        <td id=\"T_b126e5ec_f5ec_11ea_8c17_80fa5b49927frow12_col6\" class=\"data row12 col6\" >255</td>\n",
       "                        <td id=\"T_b126e5ec_f5ec_11ea_8c17_80fa5b49927frow12_col7\" class=\"data row12 col7\" >255</td>\n",
       "                        <td id=\"T_b126e5ec_f5ec_11ea_8c17_80fa5b49927frow12_col8\" class=\"data row12 col8\" >245</td>\n",
       "                        <td id=\"T_b126e5ec_f5ec_11ea_8c17_80fa5b49927frow12_col9\" class=\"data row12 col9\" >25</td>\n",
       "                        <td id=\"T_b126e5ec_f5ec_11ea_8c17_80fa5b49927frow12_col10\" class=\"data row12 col10\" >10</td>\n",
       "                        <td id=\"T_b126e5ec_f5ec_11ea_8c17_80fa5b49927frow12_col11\" class=\"data row12 col11\" >0</td>\n",
       "                        <td id=\"T_b126e5ec_f5ec_11ea_8c17_80fa5b49927frow12_col12\" class=\"data row12 col12\" >0</td>\n",
       "                        <td id=\"T_b126e5ec_f5ec_11ea_8c17_80fa5b49927frow12_col13\" class=\"data row12 col13\" >1</td>\n",
       "                        <td id=\"T_b126e5ec_f5ec_11ea_8c17_80fa5b49927frow12_col14\" class=\"data row12 col14\" >0</td>\n",
       "                        <td id=\"T_b126e5ec_f5ec_11ea_8c17_80fa5b49927frow12_col15\" class=\"data row12 col15\" >4</td>\n",
       "                        <td id=\"T_b126e5ec_f5ec_11ea_8c17_80fa5b49927frow12_col16\" class=\"data row12 col16\" >10</td>\n",
       "                        <td id=\"T_b126e5ec_f5ec_11ea_8c17_80fa5b49927frow12_col17\" class=\"data row12 col17\" >0</td>\n",
       "                        <td id=\"T_b126e5ec_f5ec_11ea_8c17_80fa5b49927frow12_col18\" class=\"data row12 col18\" >10</td>\n",
       "                        <td id=\"T_b126e5ec_f5ec_11ea_8c17_80fa5b49927frow12_col19\" class=\"data row12 col19\" >255</td>\n",
       "                        <td id=\"T_b126e5ec_f5ec_11ea_8c17_80fa5b49927frow12_col20\" class=\"data row12 col20\" >246</td>\n",
       "                        <td id=\"T_b126e5ec_f5ec_11ea_8c17_80fa5b49927frow12_col21\" class=\"data row12 col21\" >250</td>\n",
       "                        <td id=\"T_b126e5ec_f5ec_11ea_8c17_80fa5b49927frow12_col22\" class=\"data row12 col22\" >155</td>\n",
       "                        <td id=\"T_b126e5ec_f5ec_11ea_8c17_80fa5b49927frow12_col23\" class=\"data row12 col23\" >0</td>\n",
       "                        <td id=\"T_b126e5ec_f5ec_11ea_8c17_80fa5b49927frow12_col24\" class=\"data row12 col24\" >0</td>\n",
       "                        <td id=\"T_b126e5ec_f5ec_11ea_8c17_80fa5b49927frow12_col25\" class=\"data row12 col25\" >0</td>\n",
       "                        <td id=\"T_b126e5ec_f5ec_11ea_8c17_80fa5b49927frow12_col26\" class=\"data row12 col26\" >0</td>\n",
       "                        <td id=\"T_b126e5ec_f5ec_11ea_8c17_80fa5b49927frow12_col27\" class=\"data row12 col27\" >0</td>\n",
       "            </tr>\n",
       "            <tr>\n",
       "                        <th id=\"T_b126e5ec_f5ec_11ea_8c17_80fa5b49927flevel0_row13\" class=\"row_heading level0 row13\" >13</th>\n",
       "                        <td id=\"T_b126e5ec_f5ec_11ea_8c17_80fa5b49927frow13_col0\" class=\"data row13 col0\" >2</td>\n",
       "                        <td id=\"T_b126e5ec_f5ec_11ea_8c17_80fa5b49927frow13_col1\" class=\"data row13 col1\" >0</td>\n",
       "                        <td id=\"T_b126e5ec_f5ec_11ea_8c17_80fa5b49927frow13_col2\" class=\"data row13 col2\" >7</td>\n",
       "                        <td id=\"T_b126e5ec_f5ec_11ea_8c17_80fa5b49927frow13_col3\" class=\"data row13 col3\" >12</td>\n",
       "                        <td id=\"T_b126e5ec_f5ec_11ea_8c17_80fa5b49927frow13_col4\" class=\"data row13 col4\" >0</td>\n",
       "                        <td id=\"T_b126e5ec_f5ec_11ea_8c17_80fa5b49927frow13_col5\" class=\"data row13 col5\" >87</td>\n",
       "                        <td id=\"T_b126e5ec_f5ec_11ea_8c17_80fa5b49927frow13_col6\" class=\"data row13 col6\" >226</td>\n",
       "                        <td id=\"T_b126e5ec_f5ec_11ea_8c17_80fa5b49927frow13_col7\" class=\"data row13 col7\" >255</td>\n",
       "                        <td id=\"T_b126e5ec_f5ec_11ea_8c17_80fa5b49927frow13_col8\" class=\"data row13 col8\" >184</td>\n",
       "                        <td id=\"T_b126e5ec_f5ec_11ea_8c17_80fa5b49927frow13_col9\" class=\"data row13 col9\" >0</td>\n",
       "                        <td id=\"T_b126e5ec_f5ec_11ea_8c17_80fa5b49927frow13_col10\" class=\"data row13 col10\" >3</td>\n",
       "                        <td id=\"T_b126e5ec_f5ec_11ea_8c17_80fa5b49927frow13_col11\" class=\"data row13 col11\" >0</td>\n",
       "                        <td id=\"T_b126e5ec_f5ec_11ea_8c17_80fa5b49927frow13_col12\" class=\"data row13 col12\" >10</td>\n",
       "                        <td id=\"T_b126e5ec_f5ec_11ea_8c17_80fa5b49927frow13_col13\" class=\"data row13 col13\" >5</td>\n",
       "                        <td id=\"T_b126e5ec_f5ec_11ea_8c17_80fa5b49927frow13_col14\" class=\"data row13 col14\" >0</td>\n",
       "                        <td id=\"T_b126e5ec_f5ec_11ea_8c17_80fa5b49927frow13_col15\" class=\"data row13 col15\" >0</td>\n",
       "                        <td id=\"T_b126e5ec_f5ec_11ea_8c17_80fa5b49927frow13_col16\" class=\"data row13 col16\" >0</td>\n",
       "                        <td id=\"T_b126e5ec_f5ec_11ea_8c17_80fa5b49927frow13_col17\" class=\"data row13 col17\" >9</td>\n",
       "                        <td id=\"T_b126e5ec_f5ec_11ea_8c17_80fa5b49927frow13_col18\" class=\"data row13 col18\" >0</td>\n",
       "                        <td id=\"T_b126e5ec_f5ec_11ea_8c17_80fa5b49927frow13_col19\" class=\"data row13 col19\" >183</td>\n",
       "                        <td id=\"T_b126e5ec_f5ec_11ea_8c17_80fa5b49927frow13_col20\" class=\"data row13 col20\" >251</td>\n",
       "                        <td id=\"T_b126e5ec_f5ec_11ea_8c17_80fa5b49927frow13_col21\" class=\"data row13 col21\" >255</td>\n",
       "                        <td id=\"T_b126e5ec_f5ec_11ea_8c17_80fa5b49927frow13_col22\" class=\"data row13 col22\" >222</td>\n",
       "                        <td id=\"T_b126e5ec_f5ec_11ea_8c17_80fa5b49927frow13_col23\" class=\"data row13 col23\" >15</td>\n",
       "                        <td id=\"T_b126e5ec_f5ec_11ea_8c17_80fa5b49927frow13_col24\" class=\"data row13 col24\" >0</td>\n",
       "                        <td id=\"T_b126e5ec_f5ec_11ea_8c17_80fa5b49927frow13_col25\" class=\"data row13 col25\" >0</td>\n",
       "                        <td id=\"T_b126e5ec_f5ec_11ea_8c17_80fa5b49927frow13_col26\" class=\"data row13 col26\" >0</td>\n",
       "                        <td id=\"T_b126e5ec_f5ec_11ea_8c17_80fa5b49927frow13_col27\" class=\"data row13 col27\" >0</td>\n",
       "            </tr>\n",
       "            <tr>\n",
       "                        <th id=\"T_b126e5ec_f5ec_11ea_8c17_80fa5b49927flevel0_row14\" class=\"row_heading level0 row14\" >14</th>\n",
       "                        <td id=\"T_b126e5ec_f5ec_11ea_8c17_80fa5b49927frow14_col0\" class=\"data row14 col0\" >0</td>\n",
       "                        <td id=\"T_b126e5ec_f5ec_11ea_8c17_80fa5b49927frow14_col1\" class=\"data row14 col1\" >5</td>\n",
       "                        <td id=\"T_b126e5ec_f5ec_11ea_8c17_80fa5b49927frow14_col2\" class=\"data row14 col2\" >1</td>\n",
       "                        <td id=\"T_b126e5ec_f5ec_11ea_8c17_80fa5b49927frow14_col3\" class=\"data row14 col3\" >0</td>\n",
       "                        <td id=\"T_b126e5ec_f5ec_11ea_8c17_80fa5b49927frow14_col4\" class=\"data row14 col4\" >19</td>\n",
       "                        <td id=\"T_b126e5ec_f5ec_11ea_8c17_80fa5b49927frow14_col5\" class=\"data row14 col5\" >230</td>\n",
       "                        <td id=\"T_b126e5ec_f5ec_11ea_8c17_80fa5b49927frow14_col6\" class=\"data row14 col6\" >255</td>\n",
       "                        <td id=\"T_b126e5ec_f5ec_11ea_8c17_80fa5b49927frow14_col7\" class=\"data row14 col7\" >243</td>\n",
       "                        <td id=\"T_b126e5ec_f5ec_11ea_8c17_80fa5b49927frow14_col8\" class=\"data row14 col8\" >255</td>\n",
       "                        <td id=\"T_b126e5ec_f5ec_11ea_8c17_80fa5b49927frow14_col9\" class=\"data row14 col9\" >35</td>\n",
       "                        <td id=\"T_b126e5ec_f5ec_11ea_8c17_80fa5b49927frow14_col10\" class=\"data row14 col10\" >2</td>\n",
       "                        <td id=\"T_b126e5ec_f5ec_11ea_8c17_80fa5b49927frow14_col11\" class=\"data row14 col11\" >0</td>\n",
       "                        <td id=\"T_b126e5ec_f5ec_11ea_8c17_80fa5b49927frow14_col12\" class=\"data row14 col12\" >0</td>\n",
       "                        <td id=\"T_b126e5ec_f5ec_11ea_8c17_80fa5b49927frow14_col13\" class=\"data row14 col13\" >0</td>\n",
       "                        <td id=\"T_b126e5ec_f5ec_11ea_8c17_80fa5b49927frow14_col14\" class=\"data row14 col14\" >0</td>\n",
       "                        <td id=\"T_b126e5ec_f5ec_11ea_8c17_80fa5b49927frow14_col15\" class=\"data row14 col15\" >9</td>\n",
       "                        <td id=\"T_b126e5ec_f5ec_11ea_8c17_80fa5b49927frow14_col16\" class=\"data row14 col16\" >8</td>\n",
       "                        <td id=\"T_b126e5ec_f5ec_11ea_8c17_80fa5b49927frow14_col17\" class=\"data row14 col17\" >0</td>\n",
       "                        <td id=\"T_b126e5ec_f5ec_11ea_8c17_80fa5b49927frow14_col18\" class=\"data row14 col18\" >0</td>\n",
       "                        <td id=\"T_b126e5ec_f5ec_11ea_8c17_80fa5b49927frow14_col19\" class=\"data row14 col19\" >70</td>\n",
       "                        <td id=\"T_b126e5ec_f5ec_11ea_8c17_80fa5b49927frow14_col20\" class=\"data row14 col20\" >245</td>\n",
       "                        <td id=\"T_b126e5ec_f5ec_11ea_8c17_80fa5b49927frow14_col21\" class=\"data row14 col21\" >242</td>\n",
       "                        <td id=\"T_b126e5ec_f5ec_11ea_8c17_80fa5b49927frow14_col22\" class=\"data row14 col22\" >255</td>\n",
       "                        <td id=\"T_b126e5ec_f5ec_11ea_8c17_80fa5b49927frow14_col23\" class=\"data row14 col23\" >14</td>\n",
       "                        <td id=\"T_b126e5ec_f5ec_11ea_8c17_80fa5b49927frow14_col24\" class=\"data row14 col24\" >0</td>\n",
       "                        <td id=\"T_b126e5ec_f5ec_11ea_8c17_80fa5b49927frow14_col25\" class=\"data row14 col25\" >0</td>\n",
       "                        <td id=\"T_b126e5ec_f5ec_11ea_8c17_80fa5b49927frow14_col26\" class=\"data row14 col26\" >0</td>\n",
       "                        <td id=\"T_b126e5ec_f5ec_11ea_8c17_80fa5b49927frow14_col27\" class=\"data row14 col27\" >0</td>\n",
       "            </tr>\n",
       "            <tr>\n",
       "                        <th id=\"T_b126e5ec_f5ec_11ea_8c17_80fa5b49927flevel0_row15\" class=\"row_heading level0 row15\" >15</th>\n",
       "                        <td id=\"T_b126e5ec_f5ec_11ea_8c17_80fa5b49927frow15_col0\" class=\"data row15 col0\" >0</td>\n",
       "                        <td id=\"T_b126e5ec_f5ec_11ea_8c17_80fa5b49927frow15_col1\" class=\"data row15 col1\" >4</td>\n",
       "                        <td id=\"T_b126e5ec_f5ec_11ea_8c17_80fa5b49927frow15_col2\" class=\"data row15 col2\" >3</td>\n",
       "                        <td id=\"T_b126e5ec_f5ec_11ea_8c17_80fa5b49927frow15_col3\" class=\"data row15 col3\" >0</td>\n",
       "                        <td id=\"T_b126e5ec_f5ec_11ea_8c17_80fa5b49927frow15_col4\" class=\"data row15 col4\" >19</td>\n",
       "                        <td id=\"T_b126e5ec_f5ec_11ea_8c17_80fa5b49927frow15_col5\" class=\"data row15 col5\" >251</td>\n",
       "                        <td id=\"T_b126e5ec_f5ec_11ea_8c17_80fa5b49927frow15_col6\" class=\"data row15 col6\" >239</td>\n",
       "                        <td id=\"T_b126e5ec_f5ec_11ea_8c17_80fa5b49927frow15_col7\" class=\"data row15 col7\" >255</td>\n",
       "                        <td id=\"T_b126e5ec_f5ec_11ea_8c17_80fa5b49927frow15_col8\" class=\"data row15 col8\" >247</td>\n",
       "                        <td id=\"T_b126e5ec_f5ec_11ea_8c17_80fa5b49927frow15_col9\" class=\"data row15 col9\" >30</td>\n",
       "                        <td id=\"T_b126e5ec_f5ec_11ea_8c17_80fa5b49927frow15_col10\" class=\"data row15 col10\" >1</td>\n",
       "                        <td id=\"T_b126e5ec_f5ec_11ea_8c17_80fa5b49927frow15_col11\" class=\"data row15 col11\" >0</td>\n",
       "                        <td id=\"T_b126e5ec_f5ec_11ea_8c17_80fa5b49927frow15_col12\" class=\"data row15 col12\" >4</td>\n",
       "                        <td id=\"T_b126e5ec_f5ec_11ea_8c17_80fa5b49927frow15_col13\" class=\"data row15 col13\" >4</td>\n",
       "                        <td id=\"T_b126e5ec_f5ec_11ea_8c17_80fa5b49927frow15_col14\" class=\"data row15 col14\" >14</td>\n",
       "                        <td id=\"T_b126e5ec_f5ec_11ea_8c17_80fa5b49927frow15_col15\" class=\"data row15 col15\" >0</td>\n",
       "                        <td id=\"T_b126e5ec_f5ec_11ea_8c17_80fa5b49927frow15_col16\" class=\"data row15 col16\" >0</td>\n",
       "                        <td id=\"T_b126e5ec_f5ec_11ea_8c17_80fa5b49927frow15_col17\" class=\"data row15 col17\" >2</td>\n",
       "                        <td id=\"T_b126e5ec_f5ec_11ea_8c17_80fa5b49927frow15_col18\" class=\"data row15 col18\" >0</td>\n",
       "                        <td id=\"T_b126e5ec_f5ec_11ea_8c17_80fa5b49927frow15_col19\" class=\"data row15 col19\" >47</td>\n",
       "                        <td id=\"T_b126e5ec_f5ec_11ea_8c17_80fa5b49927frow15_col20\" class=\"data row15 col20\" >255</td>\n",
       "                        <td id=\"T_b126e5ec_f5ec_11ea_8c17_80fa5b49927frow15_col21\" class=\"data row15 col21\" >255</td>\n",
       "                        <td id=\"T_b126e5ec_f5ec_11ea_8c17_80fa5b49927frow15_col22\" class=\"data row15 col22\" >247</td>\n",
       "                        <td id=\"T_b126e5ec_f5ec_11ea_8c17_80fa5b49927frow15_col23\" class=\"data row15 col23\" >21</td>\n",
       "                        <td id=\"T_b126e5ec_f5ec_11ea_8c17_80fa5b49927frow15_col24\" class=\"data row15 col24\" >0</td>\n",
       "                        <td id=\"T_b126e5ec_f5ec_11ea_8c17_80fa5b49927frow15_col25\" class=\"data row15 col25\" >0</td>\n",
       "                        <td id=\"T_b126e5ec_f5ec_11ea_8c17_80fa5b49927frow15_col26\" class=\"data row15 col26\" >0</td>\n",
       "                        <td id=\"T_b126e5ec_f5ec_11ea_8c17_80fa5b49927frow15_col27\" class=\"data row15 col27\" >0</td>\n",
       "            </tr>\n",
       "            <tr>\n",
       "                        <th id=\"T_b126e5ec_f5ec_11ea_8c17_80fa5b49927flevel0_row16\" class=\"row_heading level0 row16\" >16</th>\n",
       "                        <td id=\"T_b126e5ec_f5ec_11ea_8c17_80fa5b49927frow16_col0\" class=\"data row16 col0\" >6</td>\n",
       "                        <td id=\"T_b126e5ec_f5ec_11ea_8c17_80fa5b49927frow16_col1\" class=\"data row16 col1\" >0</td>\n",
       "                        <td id=\"T_b126e5ec_f5ec_11ea_8c17_80fa5b49927frow16_col2\" class=\"data row16 col2\" >2</td>\n",
       "                        <td id=\"T_b126e5ec_f5ec_11ea_8c17_80fa5b49927frow16_col3\" class=\"data row16 col3\" >2</td>\n",
       "                        <td id=\"T_b126e5ec_f5ec_11ea_8c17_80fa5b49927frow16_col4\" class=\"data row16 col4\" >0</td>\n",
       "                        <td id=\"T_b126e5ec_f5ec_11ea_8c17_80fa5b49927frow16_col5\" class=\"data row16 col5\" >173</td>\n",
       "                        <td id=\"T_b126e5ec_f5ec_11ea_8c17_80fa5b49927frow16_col6\" class=\"data row16 col6\" >247</td>\n",
       "                        <td id=\"T_b126e5ec_f5ec_11ea_8c17_80fa5b49927frow16_col7\" class=\"data row16 col7\" >252</td>\n",
       "                        <td id=\"T_b126e5ec_f5ec_11ea_8c17_80fa5b49927frow16_col8\" class=\"data row16 col8\" >250</td>\n",
       "                        <td id=\"T_b126e5ec_f5ec_11ea_8c17_80fa5b49927frow16_col9\" class=\"data row16 col9\" >28</td>\n",
       "                        <td id=\"T_b126e5ec_f5ec_11ea_8c17_80fa5b49927frow16_col10\" class=\"data row16 col10\" >10</td>\n",
       "                        <td id=\"T_b126e5ec_f5ec_11ea_8c17_80fa5b49927frow16_col11\" class=\"data row16 col11\" >0</td>\n",
       "                        <td id=\"T_b126e5ec_f5ec_11ea_8c17_80fa5b49927frow16_col12\" class=\"data row16 col12\" >0</td>\n",
       "                        <td id=\"T_b126e5ec_f5ec_11ea_8c17_80fa5b49927frow16_col13\" class=\"data row16 col13\" >8</td>\n",
       "                        <td id=\"T_b126e5ec_f5ec_11ea_8c17_80fa5b49927frow16_col14\" class=\"data row16 col14\" >0</td>\n",
       "                        <td id=\"T_b126e5ec_f5ec_11ea_8c17_80fa5b49927frow16_col15\" class=\"data row16 col15\" >0</td>\n",
       "                        <td id=\"T_b126e5ec_f5ec_11ea_8c17_80fa5b49927frow16_col16\" class=\"data row16 col16\" >0</td>\n",
       "                        <td id=\"T_b126e5ec_f5ec_11ea_8c17_80fa5b49927frow16_col17\" class=\"data row16 col17\" >8</td>\n",
       "                        <td id=\"T_b126e5ec_f5ec_11ea_8c17_80fa5b49927frow16_col18\" class=\"data row16 col18\" >0</td>\n",
       "                        <td id=\"T_b126e5ec_f5ec_11ea_8c17_80fa5b49927frow16_col19\" class=\"data row16 col19\" >67</td>\n",
       "                        <td id=\"T_b126e5ec_f5ec_11ea_8c17_80fa5b49927frow16_col20\" class=\"data row16 col20\" >249</td>\n",
       "                        <td id=\"T_b126e5ec_f5ec_11ea_8c17_80fa5b49927frow16_col21\" class=\"data row16 col21\" >255</td>\n",
       "                        <td id=\"T_b126e5ec_f5ec_11ea_8c17_80fa5b49927frow16_col22\" class=\"data row16 col22\" >255</td>\n",
       "                        <td id=\"T_b126e5ec_f5ec_11ea_8c17_80fa5b49927frow16_col23\" class=\"data row16 col23\" >12</td>\n",
       "                        <td id=\"T_b126e5ec_f5ec_11ea_8c17_80fa5b49927frow16_col24\" class=\"data row16 col24\" >0</td>\n",
       "                        <td id=\"T_b126e5ec_f5ec_11ea_8c17_80fa5b49927frow16_col25\" class=\"data row16 col25\" >0</td>\n",
       "                        <td id=\"T_b126e5ec_f5ec_11ea_8c17_80fa5b49927frow16_col26\" class=\"data row16 col26\" >0</td>\n",
       "                        <td id=\"T_b126e5ec_f5ec_11ea_8c17_80fa5b49927frow16_col27\" class=\"data row16 col27\" >0</td>\n",
       "            </tr>\n",
       "            <tr>\n",
       "                        <th id=\"T_b126e5ec_f5ec_11ea_8c17_80fa5b49927flevel0_row17\" class=\"row_heading level0 row17\" >17</th>\n",
       "                        <td id=\"T_b126e5ec_f5ec_11ea_8c17_80fa5b49927frow17_col0\" class=\"data row17 col0\" >0</td>\n",
       "                        <td id=\"T_b126e5ec_f5ec_11ea_8c17_80fa5b49927frow17_col1\" class=\"data row17 col1\" >0</td>\n",
       "                        <td id=\"T_b126e5ec_f5ec_11ea_8c17_80fa5b49927frow17_col2\" class=\"data row17 col2\" >6</td>\n",
       "                        <td id=\"T_b126e5ec_f5ec_11ea_8c17_80fa5b49927frow17_col3\" class=\"data row17 col3\" >3</td>\n",
       "                        <td id=\"T_b126e5ec_f5ec_11ea_8c17_80fa5b49927frow17_col4\" class=\"data row17 col4\" >0</td>\n",
       "                        <td id=\"T_b126e5ec_f5ec_11ea_8c17_80fa5b49927frow17_col5\" class=\"data row17 col5\" >88</td>\n",
       "                        <td id=\"T_b126e5ec_f5ec_11ea_8c17_80fa5b49927frow17_col6\" class=\"data row17 col6\" >255</td>\n",
       "                        <td id=\"T_b126e5ec_f5ec_11ea_8c17_80fa5b49927frow17_col7\" class=\"data row17 col7\" >251</td>\n",
       "                        <td id=\"T_b126e5ec_f5ec_11ea_8c17_80fa5b49927frow17_col8\" class=\"data row17 col8\" >255</td>\n",
       "                        <td id=\"T_b126e5ec_f5ec_11ea_8c17_80fa5b49927frow17_col9\" class=\"data row17 col9\" >188</td>\n",
       "                        <td id=\"T_b126e5ec_f5ec_11ea_8c17_80fa5b49927frow17_col10\" class=\"data row17 col10\" >21</td>\n",
       "                        <td id=\"T_b126e5ec_f5ec_11ea_8c17_80fa5b49927frow17_col11\" class=\"data row17 col11\" >0</td>\n",
       "                        <td id=\"T_b126e5ec_f5ec_11ea_8c17_80fa5b49927frow17_col12\" class=\"data row17 col12\" >15</td>\n",
       "                        <td id=\"T_b126e5ec_f5ec_11ea_8c17_80fa5b49927frow17_col13\" class=\"data row17 col13\" >0</td>\n",
       "                        <td id=\"T_b126e5ec_f5ec_11ea_8c17_80fa5b49927frow17_col14\" class=\"data row17 col14\" >8</td>\n",
       "                        <td id=\"T_b126e5ec_f5ec_11ea_8c17_80fa5b49927frow17_col15\" class=\"data row17 col15\" >2</td>\n",
       "                        <td id=\"T_b126e5ec_f5ec_11ea_8c17_80fa5b49927frow17_col16\" class=\"data row17 col16\" >16</td>\n",
       "                        <td id=\"T_b126e5ec_f5ec_11ea_8c17_80fa5b49927frow17_col17\" class=\"data row17 col17\" >0</td>\n",
       "                        <td id=\"T_b126e5ec_f5ec_11ea_8c17_80fa5b49927frow17_col18\" class=\"data row17 col18\" >35</td>\n",
       "                        <td id=\"T_b126e5ec_f5ec_11ea_8c17_80fa5b49927frow17_col19\" class=\"data row17 col19\" >200</td>\n",
       "                        <td id=\"T_b126e5ec_f5ec_11ea_8c17_80fa5b49927frow17_col20\" class=\"data row17 col20\" >247</td>\n",
       "                        <td id=\"T_b126e5ec_f5ec_11ea_8c17_80fa5b49927frow17_col21\" class=\"data row17 col21\" >251</td>\n",
       "                        <td id=\"T_b126e5ec_f5ec_11ea_8c17_80fa5b49927frow17_col22\" class=\"data row17 col22\" >134</td>\n",
       "                        <td id=\"T_b126e5ec_f5ec_11ea_8c17_80fa5b49927frow17_col23\" class=\"data row17 col23\" >4</td>\n",
       "                        <td id=\"T_b126e5ec_f5ec_11ea_8c17_80fa5b49927frow17_col24\" class=\"data row17 col24\" >0</td>\n",
       "                        <td id=\"T_b126e5ec_f5ec_11ea_8c17_80fa5b49927frow17_col25\" class=\"data row17 col25\" >0</td>\n",
       "                        <td id=\"T_b126e5ec_f5ec_11ea_8c17_80fa5b49927frow17_col26\" class=\"data row17 col26\" >0</td>\n",
       "                        <td id=\"T_b126e5ec_f5ec_11ea_8c17_80fa5b49927frow17_col27\" class=\"data row17 col27\" >0</td>\n",
       "            </tr>\n",
       "            <tr>\n",
       "                        <th id=\"T_b126e5ec_f5ec_11ea_8c17_80fa5b49927flevel0_row18\" class=\"row_heading level0 row18\" >18</th>\n",
       "                        <td id=\"T_b126e5ec_f5ec_11ea_8c17_80fa5b49927frow18_col0\" class=\"data row18 col0\" >0</td>\n",
       "                        <td id=\"T_b126e5ec_f5ec_11ea_8c17_80fa5b49927frow18_col1\" class=\"data row18 col1\" >3</td>\n",
       "                        <td id=\"T_b126e5ec_f5ec_11ea_8c17_80fa5b49927frow18_col2\" class=\"data row18 col2\" >3</td>\n",
       "                        <td id=\"T_b126e5ec_f5ec_11ea_8c17_80fa5b49927frow18_col3\" class=\"data row18 col3\" >1</td>\n",
       "                        <td id=\"T_b126e5ec_f5ec_11ea_8c17_80fa5b49927frow18_col4\" class=\"data row18 col4\" >0</td>\n",
       "                        <td id=\"T_b126e5ec_f5ec_11ea_8c17_80fa5b49927frow18_col5\" class=\"data row18 col5\" >11</td>\n",
       "                        <td id=\"T_b126e5ec_f5ec_11ea_8c17_80fa5b49927frow18_col6\" class=\"data row18 col6\" >211</td>\n",
       "                        <td id=\"T_b126e5ec_f5ec_11ea_8c17_80fa5b49927frow18_col7\" class=\"data row18 col7\" >247</td>\n",
       "                        <td id=\"T_b126e5ec_f5ec_11ea_8c17_80fa5b49927frow18_col8\" class=\"data row18 col8\" >249</td>\n",
       "                        <td id=\"T_b126e5ec_f5ec_11ea_8c17_80fa5b49927frow18_col9\" class=\"data row18 col9\" >255</td>\n",
       "                        <td id=\"T_b126e5ec_f5ec_11ea_8c17_80fa5b49927frow18_col10\" class=\"data row18 col10\" >189</td>\n",
       "                        <td id=\"T_b126e5ec_f5ec_11ea_8c17_80fa5b49927frow18_col11\" class=\"data row18 col11\" >76</td>\n",
       "                        <td id=\"T_b126e5ec_f5ec_11ea_8c17_80fa5b49927frow18_col12\" class=\"data row18 col12\" >0</td>\n",
       "                        <td id=\"T_b126e5ec_f5ec_11ea_8c17_80fa5b49927frow18_col13\" class=\"data row18 col13\" >0</td>\n",
       "                        <td id=\"T_b126e5ec_f5ec_11ea_8c17_80fa5b49927frow18_col14\" class=\"data row18 col14\" >4</td>\n",
       "                        <td id=\"T_b126e5ec_f5ec_11ea_8c17_80fa5b49927frow18_col15\" class=\"data row18 col15\" >0</td>\n",
       "                        <td id=\"T_b126e5ec_f5ec_11ea_8c17_80fa5b49927frow18_col16\" class=\"data row18 col16\" >2</td>\n",
       "                        <td id=\"T_b126e5ec_f5ec_11ea_8c17_80fa5b49927frow18_col17\" class=\"data row18 col17\" >0</td>\n",
       "                        <td id=\"T_b126e5ec_f5ec_11ea_8c17_80fa5b49927frow18_col18\" class=\"data row18 col18\" >169</td>\n",
       "                        <td id=\"T_b126e5ec_f5ec_11ea_8c17_80fa5b49927frow18_col19\" class=\"data row18 col19\" >255</td>\n",
       "                        <td id=\"T_b126e5ec_f5ec_11ea_8c17_80fa5b49927frow18_col20\" class=\"data row18 col20\" >255</td>\n",
       "                        <td id=\"T_b126e5ec_f5ec_11ea_8c17_80fa5b49927frow18_col21\" class=\"data row18 col21\" >247</td>\n",
       "                        <td id=\"T_b126e5ec_f5ec_11ea_8c17_80fa5b49927frow18_col22\" class=\"data row18 col22\" >47</td>\n",
       "                        <td id=\"T_b126e5ec_f5ec_11ea_8c17_80fa5b49927frow18_col23\" class=\"data row18 col23\" >0</td>\n",
       "                        <td id=\"T_b126e5ec_f5ec_11ea_8c17_80fa5b49927frow18_col24\" class=\"data row18 col24\" >0</td>\n",
       "                        <td id=\"T_b126e5ec_f5ec_11ea_8c17_80fa5b49927frow18_col25\" class=\"data row18 col25\" >0</td>\n",
       "                        <td id=\"T_b126e5ec_f5ec_11ea_8c17_80fa5b49927frow18_col26\" class=\"data row18 col26\" >0</td>\n",
       "                        <td id=\"T_b126e5ec_f5ec_11ea_8c17_80fa5b49927frow18_col27\" class=\"data row18 col27\" >0</td>\n",
       "            </tr>\n",
       "            <tr>\n",
       "                        <th id=\"T_b126e5ec_f5ec_11ea_8c17_80fa5b49927flevel0_row19\" class=\"row_heading level0 row19\" >19</th>\n",
       "                        <td id=\"T_b126e5ec_f5ec_11ea_8c17_80fa5b49927frow19_col0\" class=\"data row19 col0\" >0</td>\n",
       "                        <td id=\"T_b126e5ec_f5ec_11ea_8c17_80fa5b49927frow19_col1\" class=\"data row19 col1\" >6</td>\n",
       "                        <td id=\"T_b126e5ec_f5ec_11ea_8c17_80fa5b49927frow19_col2\" class=\"data row19 col2\" >0</td>\n",
       "                        <td id=\"T_b126e5ec_f5ec_11ea_8c17_80fa5b49927frow19_col3\" class=\"data row19 col3\" >0</td>\n",
       "                        <td id=\"T_b126e5ec_f5ec_11ea_8c17_80fa5b49927frow19_col4\" class=\"data row19 col4\" >2</td>\n",
       "                        <td id=\"T_b126e5ec_f5ec_11ea_8c17_80fa5b49927frow19_col5\" class=\"data row19 col5\" >0</td>\n",
       "                        <td id=\"T_b126e5ec_f5ec_11ea_8c17_80fa5b49927frow19_col6\" class=\"data row19 col6\" >59</td>\n",
       "                        <td id=\"T_b126e5ec_f5ec_11ea_8c17_80fa5b49927frow19_col7\" class=\"data row19 col7\" >205</td>\n",
       "                        <td id=\"T_b126e5ec_f5ec_11ea_8c17_80fa5b49927frow19_col8\" class=\"data row19 col8\" >255</td>\n",
       "                        <td id=\"T_b126e5ec_f5ec_11ea_8c17_80fa5b49927frow19_col9\" class=\"data row19 col9\" >240</td>\n",
       "                        <td id=\"T_b126e5ec_f5ec_11ea_8c17_80fa5b49927frow19_col10\" class=\"data row19 col10\" >255</td>\n",
       "                        <td id=\"T_b126e5ec_f5ec_11ea_8c17_80fa5b49927frow19_col11\" class=\"data row19 col11\" >182</td>\n",
       "                        <td id=\"T_b126e5ec_f5ec_11ea_8c17_80fa5b49927frow19_col12\" class=\"data row19 col12\" >41</td>\n",
       "                        <td id=\"T_b126e5ec_f5ec_11ea_8c17_80fa5b49927frow19_col13\" class=\"data row19 col13\" >56</td>\n",
       "                        <td id=\"T_b126e5ec_f5ec_11ea_8c17_80fa5b49927frow19_col14\" class=\"data row19 col14\" >28</td>\n",
       "                        <td id=\"T_b126e5ec_f5ec_11ea_8c17_80fa5b49927frow19_col15\" class=\"data row19 col15\" >33</td>\n",
       "                        <td id=\"T_b126e5ec_f5ec_11ea_8c17_80fa5b49927frow19_col16\" class=\"data row19 col16\" >42</td>\n",
       "                        <td id=\"T_b126e5ec_f5ec_11ea_8c17_80fa5b49927frow19_col17\" class=\"data row19 col17\" >239</td>\n",
       "                        <td id=\"T_b126e5ec_f5ec_11ea_8c17_80fa5b49927frow19_col18\" class=\"data row19 col18\" >246</td>\n",
       "                        <td id=\"T_b126e5ec_f5ec_11ea_8c17_80fa5b49927frow19_col19\" class=\"data row19 col19\" >251</td>\n",
       "                        <td id=\"T_b126e5ec_f5ec_11ea_8c17_80fa5b49927frow19_col20\" class=\"data row19 col20\" >238</td>\n",
       "                        <td id=\"T_b126e5ec_f5ec_11ea_8c17_80fa5b49927frow19_col21\" class=\"data row19 col21\" >157</td>\n",
       "                        <td id=\"T_b126e5ec_f5ec_11ea_8c17_80fa5b49927frow19_col22\" class=\"data row19 col22\" >0</td>\n",
       "                        <td id=\"T_b126e5ec_f5ec_11ea_8c17_80fa5b49927frow19_col23\" class=\"data row19 col23\" >1</td>\n",
       "                        <td id=\"T_b126e5ec_f5ec_11ea_8c17_80fa5b49927frow19_col24\" class=\"data row19 col24\" >0</td>\n",
       "                        <td id=\"T_b126e5ec_f5ec_11ea_8c17_80fa5b49927frow19_col25\" class=\"data row19 col25\" >0</td>\n",
       "                        <td id=\"T_b126e5ec_f5ec_11ea_8c17_80fa5b49927frow19_col26\" class=\"data row19 col26\" >0</td>\n",
       "                        <td id=\"T_b126e5ec_f5ec_11ea_8c17_80fa5b49927frow19_col27\" class=\"data row19 col27\" >0</td>\n",
       "            </tr>\n",
       "            <tr>\n",
       "                        <th id=\"T_b126e5ec_f5ec_11ea_8c17_80fa5b49927flevel0_row20\" class=\"row_heading level0 row20\" >20</th>\n",
       "                        <td id=\"T_b126e5ec_f5ec_11ea_8c17_80fa5b49927frow20_col0\" class=\"data row20 col0\" >2</td>\n",
       "                        <td id=\"T_b126e5ec_f5ec_11ea_8c17_80fa5b49927frow20_col1\" class=\"data row20 col1\" >1</td>\n",
       "                        <td id=\"T_b126e5ec_f5ec_11ea_8c17_80fa5b49927frow20_col2\" class=\"data row20 col2\" >0</td>\n",
       "                        <td id=\"T_b126e5ec_f5ec_11ea_8c17_80fa5b49927frow20_col3\" class=\"data row20 col3\" >0</td>\n",
       "                        <td id=\"T_b126e5ec_f5ec_11ea_8c17_80fa5b49927frow20_col4\" class=\"data row20 col4\" >2</td>\n",
       "                        <td id=\"T_b126e5ec_f5ec_11ea_8c17_80fa5b49927frow20_col5\" class=\"data row20 col5\" >10</td>\n",
       "                        <td id=\"T_b126e5ec_f5ec_11ea_8c17_80fa5b49927frow20_col6\" class=\"data row20 col6\" >0</td>\n",
       "                        <td id=\"T_b126e5ec_f5ec_11ea_8c17_80fa5b49927frow20_col7\" class=\"data row20 col7\" >104</td>\n",
       "                        <td id=\"T_b126e5ec_f5ec_11ea_8c17_80fa5b49927frow20_col8\" class=\"data row20 col8\" >239</td>\n",
       "                        <td id=\"T_b126e5ec_f5ec_11ea_8c17_80fa5b49927frow20_col9\" class=\"data row20 col9\" >255</td>\n",
       "                        <td id=\"T_b126e5ec_f5ec_11ea_8c17_80fa5b49927frow20_col10\" class=\"data row20 col10\" >240</td>\n",
       "                        <td id=\"T_b126e5ec_f5ec_11ea_8c17_80fa5b49927frow20_col11\" class=\"data row20 col11\" >255</td>\n",
       "                        <td id=\"T_b126e5ec_f5ec_11ea_8c17_80fa5b49927frow20_col12\" class=\"data row20 col12\" >253</td>\n",
       "                        <td id=\"T_b126e5ec_f5ec_11ea_8c17_80fa5b49927frow20_col13\" class=\"data row20 col13\" >247</td>\n",
       "                        <td id=\"T_b126e5ec_f5ec_11ea_8c17_80fa5b49927frow20_col14\" class=\"data row20 col14\" >237</td>\n",
       "                        <td id=\"T_b126e5ec_f5ec_11ea_8c17_80fa5b49927frow20_col15\" class=\"data row20 col15\" >255</td>\n",
       "                        <td id=\"T_b126e5ec_f5ec_11ea_8c17_80fa5b49927frow20_col16\" class=\"data row20 col16\" >255</td>\n",
       "                        <td id=\"T_b126e5ec_f5ec_11ea_8c17_80fa5b49927frow20_col17\" class=\"data row20 col17\" >250</td>\n",
       "                        <td id=\"T_b126e5ec_f5ec_11ea_8c17_80fa5b49927frow20_col18\" class=\"data row20 col18\" >255</td>\n",
       "                        <td id=\"T_b126e5ec_f5ec_11ea_8c17_80fa5b49927frow20_col19\" class=\"data row20 col19\" >239</td>\n",
       "                        <td id=\"T_b126e5ec_f5ec_11ea_8c17_80fa5b49927frow20_col20\" class=\"data row20 col20\" >255</td>\n",
       "                        <td id=\"T_b126e5ec_f5ec_11ea_8c17_80fa5b49927frow20_col21\" class=\"data row20 col21\" >100</td>\n",
       "                        <td id=\"T_b126e5ec_f5ec_11ea_8c17_80fa5b49927frow20_col22\" class=\"data row20 col22\" >0</td>\n",
       "                        <td id=\"T_b126e5ec_f5ec_11ea_8c17_80fa5b49927frow20_col23\" class=\"data row20 col23\" >1</td>\n",
       "                        <td id=\"T_b126e5ec_f5ec_11ea_8c17_80fa5b49927frow20_col24\" class=\"data row20 col24\" >0</td>\n",
       "                        <td id=\"T_b126e5ec_f5ec_11ea_8c17_80fa5b49927frow20_col25\" class=\"data row20 col25\" >0</td>\n",
       "                        <td id=\"T_b126e5ec_f5ec_11ea_8c17_80fa5b49927frow20_col26\" class=\"data row20 col26\" >0</td>\n",
       "                        <td id=\"T_b126e5ec_f5ec_11ea_8c17_80fa5b49927frow20_col27\" class=\"data row20 col27\" >0</td>\n",
       "            </tr>\n",
       "            <tr>\n",
       "                        <th id=\"T_b126e5ec_f5ec_11ea_8c17_80fa5b49927flevel0_row21\" class=\"row_heading level0 row21\" >21</th>\n",
       "                        <td id=\"T_b126e5ec_f5ec_11ea_8c17_80fa5b49927frow21_col0\" class=\"data row21 col0\" >1</td>\n",
       "                        <td id=\"T_b126e5ec_f5ec_11ea_8c17_80fa5b49927frow21_col1\" class=\"data row21 col1\" >0</td>\n",
       "                        <td id=\"T_b126e5ec_f5ec_11ea_8c17_80fa5b49927frow21_col2\" class=\"data row21 col2\" >3</td>\n",
       "                        <td id=\"T_b126e5ec_f5ec_11ea_8c17_80fa5b49927frow21_col3\" class=\"data row21 col3\" >0</td>\n",
       "                        <td id=\"T_b126e5ec_f5ec_11ea_8c17_80fa5b49927frow21_col4\" class=\"data row21 col4\" >0</td>\n",
       "                        <td id=\"T_b126e5ec_f5ec_11ea_8c17_80fa5b49927frow21_col5\" class=\"data row21 col5\" >7</td>\n",
       "                        <td id=\"T_b126e5ec_f5ec_11ea_8c17_80fa5b49927frow21_col6\" class=\"data row21 col6\" >0</td>\n",
       "                        <td id=\"T_b126e5ec_f5ec_11ea_8c17_80fa5b49927frow21_col7\" class=\"data row21 col7\" >4</td>\n",
       "                        <td id=\"T_b126e5ec_f5ec_11ea_8c17_80fa5b49927frow21_col8\" class=\"data row21 col8\" >114</td>\n",
       "                        <td id=\"T_b126e5ec_f5ec_11ea_8c17_80fa5b49927frow21_col9\" class=\"data row21 col9\" >255</td>\n",
       "                        <td id=\"T_b126e5ec_f5ec_11ea_8c17_80fa5b49927frow21_col10\" class=\"data row21 col10\" >255</td>\n",
       "                        <td id=\"T_b126e5ec_f5ec_11ea_8c17_80fa5b49927frow21_col11\" class=\"data row21 col11\" >255</td>\n",
       "                        <td id=\"T_b126e5ec_f5ec_11ea_8c17_80fa5b49927frow21_col12\" class=\"data row21 col12\" >255</td>\n",
       "                        <td id=\"T_b126e5ec_f5ec_11ea_8c17_80fa5b49927frow21_col13\" class=\"data row21 col13\" >247</td>\n",
       "                        <td id=\"T_b126e5ec_f5ec_11ea_8c17_80fa5b49927frow21_col14\" class=\"data row21 col14\" >249</td>\n",
       "                        <td id=\"T_b126e5ec_f5ec_11ea_8c17_80fa5b49927frow21_col15\" class=\"data row21 col15\" >253</td>\n",
       "                        <td id=\"T_b126e5ec_f5ec_11ea_8c17_80fa5b49927frow21_col16\" class=\"data row21 col16\" >251</td>\n",
       "                        <td id=\"T_b126e5ec_f5ec_11ea_8c17_80fa5b49927frow21_col17\" class=\"data row21 col17\" >254</td>\n",
       "                        <td id=\"T_b126e5ec_f5ec_11ea_8c17_80fa5b49927frow21_col18\" class=\"data row21 col18\" >237</td>\n",
       "                        <td id=\"T_b126e5ec_f5ec_11ea_8c17_80fa5b49927frow21_col19\" class=\"data row21 col19\" >251</td>\n",
       "                        <td id=\"T_b126e5ec_f5ec_11ea_8c17_80fa5b49927frow21_col20\" class=\"data row21 col20\" >89</td>\n",
       "                        <td id=\"T_b126e5ec_f5ec_11ea_8c17_80fa5b49927frow21_col21\" class=\"data row21 col21\" >0</td>\n",
       "                        <td id=\"T_b126e5ec_f5ec_11ea_8c17_80fa5b49927frow21_col22\" class=\"data row21 col22\" >0</td>\n",
       "                        <td id=\"T_b126e5ec_f5ec_11ea_8c17_80fa5b49927frow21_col23\" class=\"data row21 col23\" >1</td>\n",
       "                        <td id=\"T_b126e5ec_f5ec_11ea_8c17_80fa5b49927frow21_col24\" class=\"data row21 col24\" >0</td>\n",
       "                        <td id=\"T_b126e5ec_f5ec_11ea_8c17_80fa5b49927frow21_col25\" class=\"data row21 col25\" >0</td>\n",
       "                        <td id=\"T_b126e5ec_f5ec_11ea_8c17_80fa5b49927frow21_col26\" class=\"data row21 col26\" >0</td>\n",
       "                        <td id=\"T_b126e5ec_f5ec_11ea_8c17_80fa5b49927frow21_col27\" class=\"data row21 col27\" >0</td>\n",
       "            </tr>\n",
       "            <tr>\n",
       "                        <th id=\"T_b126e5ec_f5ec_11ea_8c17_80fa5b49927flevel0_row22\" class=\"row_heading level0 row22\" >22</th>\n",
       "                        <td id=\"T_b126e5ec_f5ec_11ea_8c17_80fa5b49927frow22_col0\" class=\"data row22 col0\" >0</td>\n",
       "                        <td id=\"T_b126e5ec_f5ec_11ea_8c17_80fa5b49927frow22_col1\" class=\"data row22 col1\" >0</td>\n",
       "                        <td id=\"T_b126e5ec_f5ec_11ea_8c17_80fa5b49927frow22_col2\" class=\"data row22 col2\" >9</td>\n",
       "                        <td id=\"T_b126e5ec_f5ec_11ea_8c17_80fa5b49927frow22_col3\" class=\"data row22 col3\" >0</td>\n",
       "                        <td id=\"T_b126e5ec_f5ec_11ea_8c17_80fa5b49927frow22_col4\" class=\"data row22 col4\" >0</td>\n",
       "                        <td id=\"T_b126e5ec_f5ec_11ea_8c17_80fa5b49927frow22_col5\" class=\"data row22 col5\" >1</td>\n",
       "                        <td id=\"T_b126e5ec_f5ec_11ea_8c17_80fa5b49927frow22_col6\" class=\"data row22 col6\" >13</td>\n",
       "                        <td id=\"T_b126e5ec_f5ec_11ea_8c17_80fa5b49927frow22_col7\" class=\"data row22 col7\" >0</td>\n",
       "                        <td id=\"T_b126e5ec_f5ec_11ea_8c17_80fa5b49927frow22_col8\" class=\"data row22 col8\" >14</td>\n",
       "                        <td id=\"T_b126e5ec_f5ec_11ea_8c17_80fa5b49927frow22_col9\" class=\"data row22 col9\" >167</td>\n",
       "                        <td id=\"T_b126e5ec_f5ec_11ea_8c17_80fa5b49927frow22_col10\" class=\"data row22 col10\" >255</td>\n",
       "                        <td id=\"T_b126e5ec_f5ec_11ea_8c17_80fa5b49927frow22_col11\" class=\"data row22 col11\" >246</td>\n",
       "                        <td id=\"T_b126e5ec_f5ec_11ea_8c17_80fa5b49927frow22_col12\" class=\"data row22 col12\" >253</td>\n",
       "                        <td id=\"T_b126e5ec_f5ec_11ea_8c17_80fa5b49927frow22_col13\" class=\"data row22 col13\" >255</td>\n",
       "                        <td id=\"T_b126e5ec_f5ec_11ea_8c17_80fa5b49927frow22_col14\" class=\"data row22 col14\" >255</td>\n",
       "                        <td id=\"T_b126e5ec_f5ec_11ea_8c17_80fa5b49927frow22_col15\" class=\"data row22 col15\" >254</td>\n",
       "                        <td id=\"T_b126e5ec_f5ec_11ea_8c17_80fa5b49927frow22_col16\" class=\"data row22 col16\" >242</td>\n",
       "                        <td id=\"T_b126e5ec_f5ec_11ea_8c17_80fa5b49927frow22_col17\" class=\"data row22 col17\" >255</td>\n",
       "                        <td id=\"T_b126e5ec_f5ec_11ea_8c17_80fa5b49927frow22_col18\" class=\"data row22 col18\" >244</td>\n",
       "                        <td id=\"T_b126e5ec_f5ec_11ea_8c17_80fa5b49927frow22_col19\" class=\"data row22 col19\" >61</td>\n",
       "                        <td id=\"T_b126e5ec_f5ec_11ea_8c17_80fa5b49927frow22_col20\" class=\"data row22 col20\" >0</td>\n",
       "                        <td id=\"T_b126e5ec_f5ec_11ea_8c17_80fa5b49927frow22_col21\" class=\"data row22 col21\" >19</td>\n",
       "                        <td id=\"T_b126e5ec_f5ec_11ea_8c17_80fa5b49927frow22_col22\" class=\"data row22 col22\" >0</td>\n",
       "                        <td id=\"T_b126e5ec_f5ec_11ea_8c17_80fa5b49927frow22_col23\" class=\"data row22 col23\" >1</td>\n",
       "                        <td id=\"T_b126e5ec_f5ec_11ea_8c17_80fa5b49927frow22_col24\" class=\"data row22 col24\" >0</td>\n",
       "                        <td id=\"T_b126e5ec_f5ec_11ea_8c17_80fa5b49927frow22_col25\" class=\"data row22 col25\" >0</td>\n",
       "                        <td id=\"T_b126e5ec_f5ec_11ea_8c17_80fa5b49927frow22_col26\" class=\"data row22 col26\" >0</td>\n",
       "                        <td id=\"T_b126e5ec_f5ec_11ea_8c17_80fa5b49927frow22_col27\" class=\"data row22 col27\" >0</td>\n",
       "            </tr>\n",
       "            <tr>\n",
       "                        <th id=\"T_b126e5ec_f5ec_11ea_8c17_80fa5b49927flevel0_row23\" class=\"row_heading level0 row23\" >23</th>\n",
       "                        <td id=\"T_b126e5ec_f5ec_11ea_8c17_80fa5b49927frow23_col0\" class=\"data row23 col0\" >2</td>\n",
       "                        <td id=\"T_b126e5ec_f5ec_11ea_8c17_80fa5b49927frow23_col1\" class=\"data row23 col1\" >1</td>\n",
       "                        <td id=\"T_b126e5ec_f5ec_11ea_8c17_80fa5b49927frow23_col2\" class=\"data row23 col2\" >7</td>\n",
       "                        <td id=\"T_b126e5ec_f5ec_11ea_8c17_80fa5b49927frow23_col3\" class=\"data row23 col3\" >0</td>\n",
       "                        <td id=\"T_b126e5ec_f5ec_11ea_8c17_80fa5b49927frow23_col4\" class=\"data row23 col4\" >0</td>\n",
       "                        <td id=\"T_b126e5ec_f5ec_11ea_8c17_80fa5b49927frow23_col5\" class=\"data row23 col5\" >4</td>\n",
       "                        <td id=\"T_b126e5ec_f5ec_11ea_8c17_80fa5b49927frow23_col6\" class=\"data row23 col6\" >0</td>\n",
       "                        <td id=\"T_b126e5ec_f5ec_11ea_8c17_80fa5b49927frow23_col7\" class=\"data row23 col7\" >14</td>\n",
       "                        <td id=\"T_b126e5ec_f5ec_11ea_8c17_80fa5b49927frow23_col8\" class=\"data row23 col8\" >0</td>\n",
       "                        <td id=\"T_b126e5ec_f5ec_11ea_8c17_80fa5b49927frow23_col9\" class=\"data row23 col9\" >27</td>\n",
       "                        <td id=\"T_b126e5ec_f5ec_11ea_8c17_80fa5b49927frow23_col10\" class=\"data row23 col10\" >61</td>\n",
       "                        <td id=\"T_b126e5ec_f5ec_11ea_8c17_80fa5b49927frow23_col11\" class=\"data row23 col11\" >143</td>\n",
       "                        <td id=\"T_b126e5ec_f5ec_11ea_8c17_80fa5b49927frow23_col12\" class=\"data row23 col12\" >255</td>\n",
       "                        <td id=\"T_b126e5ec_f5ec_11ea_8c17_80fa5b49927frow23_col13\" class=\"data row23 col13\" >255</td>\n",
       "                        <td id=\"T_b126e5ec_f5ec_11ea_8c17_80fa5b49927frow23_col14\" class=\"data row23 col14\" >252</td>\n",
       "                        <td id=\"T_b126e5ec_f5ec_11ea_8c17_80fa5b49927frow23_col15\" class=\"data row23 col15\" >255</td>\n",
       "                        <td id=\"T_b126e5ec_f5ec_11ea_8c17_80fa5b49927frow23_col16\" class=\"data row23 col16\" >149</td>\n",
       "                        <td id=\"T_b126e5ec_f5ec_11ea_8c17_80fa5b49927frow23_col17\" class=\"data row23 col17\" >21</td>\n",
       "                        <td id=\"T_b126e5ec_f5ec_11ea_8c17_80fa5b49927frow23_col18\" class=\"data row23 col18\" >6</td>\n",
       "                        <td id=\"T_b126e5ec_f5ec_11ea_8c17_80fa5b49927frow23_col19\" class=\"data row23 col19\" >16</td>\n",
       "                        <td id=\"T_b126e5ec_f5ec_11ea_8c17_80fa5b49927frow23_col20\" class=\"data row23 col20\" >0</td>\n",
       "                        <td id=\"T_b126e5ec_f5ec_11ea_8c17_80fa5b49927frow23_col21\" class=\"data row23 col21\" >0</td>\n",
       "                        <td id=\"T_b126e5ec_f5ec_11ea_8c17_80fa5b49927frow23_col22\" class=\"data row23 col22\" >7</td>\n",
       "                        <td id=\"T_b126e5ec_f5ec_11ea_8c17_80fa5b49927frow23_col23\" class=\"data row23 col23\" >0</td>\n",
       "                        <td id=\"T_b126e5ec_f5ec_11ea_8c17_80fa5b49927frow23_col24\" class=\"data row23 col24\" >0</td>\n",
       "                        <td id=\"T_b126e5ec_f5ec_11ea_8c17_80fa5b49927frow23_col25\" class=\"data row23 col25\" >0</td>\n",
       "                        <td id=\"T_b126e5ec_f5ec_11ea_8c17_80fa5b49927frow23_col26\" class=\"data row23 col26\" >0</td>\n",
       "                        <td id=\"T_b126e5ec_f5ec_11ea_8c17_80fa5b49927frow23_col27\" class=\"data row23 col27\" >0</td>\n",
       "            </tr>\n",
       "            <tr>\n",
       "                        <th id=\"T_b126e5ec_f5ec_11ea_8c17_80fa5b49927flevel0_row24\" class=\"row_heading level0 row24\" >24</th>\n",
       "                        <td id=\"T_b126e5ec_f5ec_11ea_8c17_80fa5b49927frow24_col0\" class=\"data row24 col0\" >0</td>\n",
       "                        <td id=\"T_b126e5ec_f5ec_11ea_8c17_80fa5b49927frow24_col1\" class=\"data row24 col1\" >0</td>\n",
       "                        <td id=\"T_b126e5ec_f5ec_11ea_8c17_80fa5b49927frow24_col2\" class=\"data row24 col2\" >0</td>\n",
       "                        <td id=\"T_b126e5ec_f5ec_11ea_8c17_80fa5b49927frow24_col3\" class=\"data row24 col3\" >0</td>\n",
       "                        <td id=\"T_b126e5ec_f5ec_11ea_8c17_80fa5b49927frow24_col4\" class=\"data row24 col4\" >0</td>\n",
       "                        <td id=\"T_b126e5ec_f5ec_11ea_8c17_80fa5b49927frow24_col5\" class=\"data row24 col5\" >0</td>\n",
       "                        <td id=\"T_b126e5ec_f5ec_11ea_8c17_80fa5b49927frow24_col6\" class=\"data row24 col6\" >0</td>\n",
       "                        <td id=\"T_b126e5ec_f5ec_11ea_8c17_80fa5b49927frow24_col7\" class=\"data row24 col7\" >0</td>\n",
       "                        <td id=\"T_b126e5ec_f5ec_11ea_8c17_80fa5b49927frow24_col8\" class=\"data row24 col8\" >0</td>\n",
       "                        <td id=\"T_b126e5ec_f5ec_11ea_8c17_80fa5b49927frow24_col9\" class=\"data row24 col9\" >0</td>\n",
       "                        <td id=\"T_b126e5ec_f5ec_11ea_8c17_80fa5b49927frow24_col10\" class=\"data row24 col10\" >0</td>\n",
       "                        <td id=\"T_b126e5ec_f5ec_11ea_8c17_80fa5b49927frow24_col11\" class=\"data row24 col11\" >0</td>\n",
       "                        <td id=\"T_b126e5ec_f5ec_11ea_8c17_80fa5b49927frow24_col12\" class=\"data row24 col12\" >0</td>\n",
       "                        <td id=\"T_b126e5ec_f5ec_11ea_8c17_80fa5b49927frow24_col13\" class=\"data row24 col13\" >0</td>\n",
       "                        <td id=\"T_b126e5ec_f5ec_11ea_8c17_80fa5b49927frow24_col14\" class=\"data row24 col14\" >0</td>\n",
       "                        <td id=\"T_b126e5ec_f5ec_11ea_8c17_80fa5b49927frow24_col15\" class=\"data row24 col15\" >0</td>\n",
       "                        <td id=\"T_b126e5ec_f5ec_11ea_8c17_80fa5b49927frow24_col16\" class=\"data row24 col16\" >0</td>\n",
       "                        <td id=\"T_b126e5ec_f5ec_11ea_8c17_80fa5b49927frow24_col17\" class=\"data row24 col17\" >0</td>\n",
       "                        <td id=\"T_b126e5ec_f5ec_11ea_8c17_80fa5b49927frow24_col18\" class=\"data row24 col18\" >0</td>\n",
       "                        <td id=\"T_b126e5ec_f5ec_11ea_8c17_80fa5b49927frow24_col19\" class=\"data row24 col19\" >0</td>\n",
       "                        <td id=\"T_b126e5ec_f5ec_11ea_8c17_80fa5b49927frow24_col20\" class=\"data row24 col20\" >0</td>\n",
       "                        <td id=\"T_b126e5ec_f5ec_11ea_8c17_80fa5b49927frow24_col21\" class=\"data row24 col21\" >0</td>\n",
       "                        <td id=\"T_b126e5ec_f5ec_11ea_8c17_80fa5b49927frow24_col22\" class=\"data row24 col22\" >0</td>\n",
       "                        <td id=\"T_b126e5ec_f5ec_11ea_8c17_80fa5b49927frow24_col23\" class=\"data row24 col23\" >0</td>\n",
       "                        <td id=\"T_b126e5ec_f5ec_11ea_8c17_80fa5b49927frow24_col24\" class=\"data row24 col24\" >0</td>\n",
       "                        <td id=\"T_b126e5ec_f5ec_11ea_8c17_80fa5b49927frow24_col25\" class=\"data row24 col25\" >0</td>\n",
       "                        <td id=\"T_b126e5ec_f5ec_11ea_8c17_80fa5b49927frow24_col26\" class=\"data row24 col26\" >0</td>\n",
       "                        <td id=\"T_b126e5ec_f5ec_11ea_8c17_80fa5b49927frow24_col27\" class=\"data row24 col27\" >0</td>\n",
       "            </tr>\n",
       "            <tr>\n",
       "                        <th id=\"T_b126e5ec_f5ec_11ea_8c17_80fa5b49927flevel0_row25\" class=\"row_heading level0 row25\" >25</th>\n",
       "                        <td id=\"T_b126e5ec_f5ec_11ea_8c17_80fa5b49927frow25_col0\" class=\"data row25 col0\" >0</td>\n",
       "                        <td id=\"T_b126e5ec_f5ec_11ea_8c17_80fa5b49927frow25_col1\" class=\"data row25 col1\" >0</td>\n",
       "                        <td id=\"T_b126e5ec_f5ec_11ea_8c17_80fa5b49927frow25_col2\" class=\"data row25 col2\" >0</td>\n",
       "                        <td id=\"T_b126e5ec_f5ec_11ea_8c17_80fa5b49927frow25_col3\" class=\"data row25 col3\" >0</td>\n",
       "                        <td id=\"T_b126e5ec_f5ec_11ea_8c17_80fa5b49927frow25_col4\" class=\"data row25 col4\" >0</td>\n",
       "                        <td id=\"T_b126e5ec_f5ec_11ea_8c17_80fa5b49927frow25_col5\" class=\"data row25 col5\" >0</td>\n",
       "                        <td id=\"T_b126e5ec_f5ec_11ea_8c17_80fa5b49927frow25_col6\" class=\"data row25 col6\" >0</td>\n",
       "                        <td id=\"T_b126e5ec_f5ec_11ea_8c17_80fa5b49927frow25_col7\" class=\"data row25 col7\" >0</td>\n",
       "                        <td id=\"T_b126e5ec_f5ec_11ea_8c17_80fa5b49927frow25_col8\" class=\"data row25 col8\" >0</td>\n",
       "                        <td id=\"T_b126e5ec_f5ec_11ea_8c17_80fa5b49927frow25_col9\" class=\"data row25 col9\" >0</td>\n",
       "                        <td id=\"T_b126e5ec_f5ec_11ea_8c17_80fa5b49927frow25_col10\" class=\"data row25 col10\" >0</td>\n",
       "                        <td id=\"T_b126e5ec_f5ec_11ea_8c17_80fa5b49927frow25_col11\" class=\"data row25 col11\" >0</td>\n",
       "                        <td id=\"T_b126e5ec_f5ec_11ea_8c17_80fa5b49927frow25_col12\" class=\"data row25 col12\" >0</td>\n",
       "                        <td id=\"T_b126e5ec_f5ec_11ea_8c17_80fa5b49927frow25_col13\" class=\"data row25 col13\" >0</td>\n",
       "                        <td id=\"T_b126e5ec_f5ec_11ea_8c17_80fa5b49927frow25_col14\" class=\"data row25 col14\" >0</td>\n",
       "                        <td id=\"T_b126e5ec_f5ec_11ea_8c17_80fa5b49927frow25_col15\" class=\"data row25 col15\" >0</td>\n",
       "                        <td id=\"T_b126e5ec_f5ec_11ea_8c17_80fa5b49927frow25_col16\" class=\"data row25 col16\" >0</td>\n",
       "                        <td id=\"T_b126e5ec_f5ec_11ea_8c17_80fa5b49927frow25_col17\" class=\"data row25 col17\" >0</td>\n",
       "                        <td id=\"T_b126e5ec_f5ec_11ea_8c17_80fa5b49927frow25_col18\" class=\"data row25 col18\" >0</td>\n",
       "                        <td id=\"T_b126e5ec_f5ec_11ea_8c17_80fa5b49927frow25_col19\" class=\"data row25 col19\" >0</td>\n",
       "                        <td id=\"T_b126e5ec_f5ec_11ea_8c17_80fa5b49927frow25_col20\" class=\"data row25 col20\" >0</td>\n",
       "                        <td id=\"T_b126e5ec_f5ec_11ea_8c17_80fa5b49927frow25_col21\" class=\"data row25 col21\" >0</td>\n",
       "                        <td id=\"T_b126e5ec_f5ec_11ea_8c17_80fa5b49927frow25_col22\" class=\"data row25 col22\" >0</td>\n",
       "                        <td id=\"T_b126e5ec_f5ec_11ea_8c17_80fa5b49927frow25_col23\" class=\"data row25 col23\" >0</td>\n",
       "                        <td id=\"T_b126e5ec_f5ec_11ea_8c17_80fa5b49927frow25_col24\" class=\"data row25 col24\" >0</td>\n",
       "                        <td id=\"T_b126e5ec_f5ec_11ea_8c17_80fa5b49927frow25_col25\" class=\"data row25 col25\" >0</td>\n",
       "                        <td id=\"T_b126e5ec_f5ec_11ea_8c17_80fa5b49927frow25_col26\" class=\"data row25 col26\" >0</td>\n",
       "                        <td id=\"T_b126e5ec_f5ec_11ea_8c17_80fa5b49927frow25_col27\" class=\"data row25 col27\" >0</td>\n",
       "            </tr>\n",
       "            <tr>\n",
       "                        <th id=\"T_b126e5ec_f5ec_11ea_8c17_80fa5b49927flevel0_row26\" class=\"row_heading level0 row26\" >26</th>\n",
       "                        <td id=\"T_b126e5ec_f5ec_11ea_8c17_80fa5b49927frow26_col0\" class=\"data row26 col0\" >0</td>\n",
       "                        <td id=\"T_b126e5ec_f5ec_11ea_8c17_80fa5b49927frow26_col1\" class=\"data row26 col1\" >0</td>\n",
       "                        <td id=\"T_b126e5ec_f5ec_11ea_8c17_80fa5b49927frow26_col2\" class=\"data row26 col2\" >0</td>\n",
       "                        <td id=\"T_b126e5ec_f5ec_11ea_8c17_80fa5b49927frow26_col3\" class=\"data row26 col3\" >0</td>\n",
       "                        <td id=\"T_b126e5ec_f5ec_11ea_8c17_80fa5b49927frow26_col4\" class=\"data row26 col4\" >0</td>\n",
       "                        <td id=\"T_b126e5ec_f5ec_11ea_8c17_80fa5b49927frow26_col5\" class=\"data row26 col5\" >0</td>\n",
       "                        <td id=\"T_b126e5ec_f5ec_11ea_8c17_80fa5b49927frow26_col6\" class=\"data row26 col6\" >0</td>\n",
       "                        <td id=\"T_b126e5ec_f5ec_11ea_8c17_80fa5b49927frow26_col7\" class=\"data row26 col7\" >0</td>\n",
       "                        <td id=\"T_b126e5ec_f5ec_11ea_8c17_80fa5b49927frow26_col8\" class=\"data row26 col8\" >0</td>\n",
       "                        <td id=\"T_b126e5ec_f5ec_11ea_8c17_80fa5b49927frow26_col9\" class=\"data row26 col9\" >0</td>\n",
       "                        <td id=\"T_b126e5ec_f5ec_11ea_8c17_80fa5b49927frow26_col10\" class=\"data row26 col10\" >0</td>\n",
       "                        <td id=\"T_b126e5ec_f5ec_11ea_8c17_80fa5b49927frow26_col11\" class=\"data row26 col11\" >0</td>\n",
       "                        <td id=\"T_b126e5ec_f5ec_11ea_8c17_80fa5b49927frow26_col12\" class=\"data row26 col12\" >0</td>\n",
       "                        <td id=\"T_b126e5ec_f5ec_11ea_8c17_80fa5b49927frow26_col13\" class=\"data row26 col13\" >0</td>\n",
       "                        <td id=\"T_b126e5ec_f5ec_11ea_8c17_80fa5b49927frow26_col14\" class=\"data row26 col14\" >0</td>\n",
       "                        <td id=\"T_b126e5ec_f5ec_11ea_8c17_80fa5b49927frow26_col15\" class=\"data row26 col15\" >0</td>\n",
       "                        <td id=\"T_b126e5ec_f5ec_11ea_8c17_80fa5b49927frow26_col16\" class=\"data row26 col16\" >0</td>\n",
       "                        <td id=\"T_b126e5ec_f5ec_11ea_8c17_80fa5b49927frow26_col17\" class=\"data row26 col17\" >0</td>\n",
       "                        <td id=\"T_b126e5ec_f5ec_11ea_8c17_80fa5b49927frow26_col18\" class=\"data row26 col18\" >0</td>\n",
       "                        <td id=\"T_b126e5ec_f5ec_11ea_8c17_80fa5b49927frow26_col19\" class=\"data row26 col19\" >0</td>\n",
       "                        <td id=\"T_b126e5ec_f5ec_11ea_8c17_80fa5b49927frow26_col20\" class=\"data row26 col20\" >0</td>\n",
       "                        <td id=\"T_b126e5ec_f5ec_11ea_8c17_80fa5b49927frow26_col21\" class=\"data row26 col21\" >0</td>\n",
       "                        <td id=\"T_b126e5ec_f5ec_11ea_8c17_80fa5b49927frow26_col22\" class=\"data row26 col22\" >0</td>\n",
       "                        <td id=\"T_b126e5ec_f5ec_11ea_8c17_80fa5b49927frow26_col23\" class=\"data row26 col23\" >0</td>\n",
       "                        <td id=\"T_b126e5ec_f5ec_11ea_8c17_80fa5b49927frow26_col24\" class=\"data row26 col24\" >0</td>\n",
       "                        <td id=\"T_b126e5ec_f5ec_11ea_8c17_80fa5b49927frow26_col25\" class=\"data row26 col25\" >0</td>\n",
       "                        <td id=\"T_b126e5ec_f5ec_11ea_8c17_80fa5b49927frow26_col26\" class=\"data row26 col26\" >0</td>\n",
       "                        <td id=\"T_b126e5ec_f5ec_11ea_8c17_80fa5b49927frow26_col27\" class=\"data row26 col27\" >0</td>\n",
       "            </tr>\n",
       "            <tr>\n",
       "                        <th id=\"T_b126e5ec_f5ec_11ea_8c17_80fa5b49927flevel0_row27\" class=\"row_heading level0 row27\" >27</th>\n",
       "                        <td id=\"T_b126e5ec_f5ec_11ea_8c17_80fa5b49927frow27_col0\" class=\"data row27 col0\" >0</td>\n",
       "                        <td id=\"T_b126e5ec_f5ec_11ea_8c17_80fa5b49927frow27_col1\" class=\"data row27 col1\" >0</td>\n",
       "                        <td id=\"T_b126e5ec_f5ec_11ea_8c17_80fa5b49927frow27_col2\" class=\"data row27 col2\" >0</td>\n",
       "                        <td id=\"T_b126e5ec_f5ec_11ea_8c17_80fa5b49927frow27_col3\" class=\"data row27 col3\" >0</td>\n",
       "                        <td id=\"T_b126e5ec_f5ec_11ea_8c17_80fa5b49927frow27_col4\" class=\"data row27 col4\" >0</td>\n",
       "                        <td id=\"T_b126e5ec_f5ec_11ea_8c17_80fa5b49927frow27_col5\" class=\"data row27 col5\" >0</td>\n",
       "                        <td id=\"T_b126e5ec_f5ec_11ea_8c17_80fa5b49927frow27_col6\" class=\"data row27 col6\" >0</td>\n",
       "                        <td id=\"T_b126e5ec_f5ec_11ea_8c17_80fa5b49927frow27_col7\" class=\"data row27 col7\" >0</td>\n",
       "                        <td id=\"T_b126e5ec_f5ec_11ea_8c17_80fa5b49927frow27_col8\" class=\"data row27 col8\" >0</td>\n",
       "                        <td id=\"T_b126e5ec_f5ec_11ea_8c17_80fa5b49927frow27_col9\" class=\"data row27 col9\" >0</td>\n",
       "                        <td id=\"T_b126e5ec_f5ec_11ea_8c17_80fa5b49927frow27_col10\" class=\"data row27 col10\" >0</td>\n",
       "                        <td id=\"T_b126e5ec_f5ec_11ea_8c17_80fa5b49927frow27_col11\" class=\"data row27 col11\" >0</td>\n",
       "                        <td id=\"T_b126e5ec_f5ec_11ea_8c17_80fa5b49927frow27_col12\" class=\"data row27 col12\" >0</td>\n",
       "                        <td id=\"T_b126e5ec_f5ec_11ea_8c17_80fa5b49927frow27_col13\" class=\"data row27 col13\" >0</td>\n",
       "                        <td id=\"T_b126e5ec_f5ec_11ea_8c17_80fa5b49927frow27_col14\" class=\"data row27 col14\" >0</td>\n",
       "                        <td id=\"T_b126e5ec_f5ec_11ea_8c17_80fa5b49927frow27_col15\" class=\"data row27 col15\" >0</td>\n",
       "                        <td id=\"T_b126e5ec_f5ec_11ea_8c17_80fa5b49927frow27_col16\" class=\"data row27 col16\" >0</td>\n",
       "                        <td id=\"T_b126e5ec_f5ec_11ea_8c17_80fa5b49927frow27_col17\" class=\"data row27 col17\" >0</td>\n",
       "                        <td id=\"T_b126e5ec_f5ec_11ea_8c17_80fa5b49927frow27_col18\" class=\"data row27 col18\" >0</td>\n",
       "                        <td id=\"T_b126e5ec_f5ec_11ea_8c17_80fa5b49927frow27_col19\" class=\"data row27 col19\" >0</td>\n",
       "                        <td id=\"T_b126e5ec_f5ec_11ea_8c17_80fa5b49927frow27_col20\" class=\"data row27 col20\" >0</td>\n",
       "                        <td id=\"T_b126e5ec_f5ec_11ea_8c17_80fa5b49927frow27_col21\" class=\"data row27 col21\" >0</td>\n",
       "                        <td id=\"T_b126e5ec_f5ec_11ea_8c17_80fa5b49927frow27_col22\" class=\"data row27 col22\" >0</td>\n",
       "                        <td id=\"T_b126e5ec_f5ec_11ea_8c17_80fa5b49927frow27_col23\" class=\"data row27 col23\" >0</td>\n",
       "                        <td id=\"T_b126e5ec_f5ec_11ea_8c17_80fa5b49927frow27_col24\" class=\"data row27 col24\" >0</td>\n",
       "                        <td id=\"T_b126e5ec_f5ec_11ea_8c17_80fa5b49927frow27_col25\" class=\"data row27 col25\" >0</td>\n",
       "                        <td id=\"T_b126e5ec_f5ec_11ea_8c17_80fa5b49927frow27_col26\" class=\"data row27 col26\" >0</td>\n",
       "                        <td id=\"T_b126e5ec_f5ec_11ea_8c17_80fa5b49927frow27_col27\" class=\"data row27 col27\" >0</td>\n",
       "            </tr>\n",
       "    </tbody></table>"
      ],
      "text/plain": [
       "<pandas.io.formats.style.Styler at 0x1e43eb5b5c8>"
      ]
     },
     "execution_count": 5,
     "metadata": {},
     "output_type": "execute_result"
    }
   ],
   "source": [
    "df = pd.DataFrame(np.array(image))\n",
    "df.style.set_properties().background_gradient(\"Greys\")"
   ]
  },
  {
   "cell_type": "code",
   "execution_count": 6,
   "metadata": {},
   "outputs": [
    {
     "data": {
      "text/plain": [
       "[WindowsPath('data/mnist/train'), WindowsPath('data/mnist/validation')]"
      ]
     },
     "execution_count": 6,
     "metadata": {},
     "output_type": "execute_result"
    }
   ],
   "source": [
    "list(PATH.iterdir())"
   ]
  },
  {
   "cell_type": "code",
   "execution_count": 10,
   "metadata": {},
   "outputs": [],
   "source": [
    "Path.ls = lambda x: list(x.iterdir())"
   ]
  },
  {
   "cell_type": "code",
   "execution_count": 11,
   "metadata": {},
   "outputs": [
    {
     "data": {
      "image/png": "[encoded data removed]",
      "text/plain": [
       "<PIL.JpegImagePlugin.JpegImageFile image mode=L size=28x28 at 0x1E43EC45E48>"
      ]
     },
     "execution_count": 11,
     "metadata": {},
     "output_type": "execute_result"
    }
   ],
   "source": [
    "Image.open((PATH/\"train/1\").ls()[0])"
   ]
  },
  {
   "cell_type": "code",
   "execution_count": 12,
   "metadata": {},
   "outputs": [
    {
     "data": {
      "text/plain": [
       "[WindowsPath('data/mnist/train/0'),\n",
       " WindowsPath('data/mnist/train/1'),\n",
       " WindowsPath('data/mnist/train/2'),\n",
       " WindowsPath('data/mnist/train/3'),\n",
       " WindowsPath('data/mnist/train/4'),\n",
       " WindowsPath('data/mnist/train/5'),\n",
       " WindowsPath('data/mnist/train/6'),\n",
       " WindowsPath('data/mnist/train/7'),\n",
       " WindowsPath('data/mnist/train/8'),\n",
       " WindowsPath('data/mnist/train/9')]"
      ]
     },
     "execution_count": 12,
     "metadata": {},
     "output_type": "execute_result"
    }
   ],
   "source": [
    "(PATH/\"train\").ls()"
   ]
  },
  {
   "cell_type": "code",
   "execution_count": 13,
   "metadata": {},
   "outputs": [],
   "source": [
    "four =[torch.tensor(np.array(Image.open(img)), dtype = torch.float32) for img in (PATH/\"train/4\").ls()]\n",
    "five =[torch.tensor(np.array(Image.open(img)), dtype = torch.float32) for img in (PATH/\"train/5\").ls()]"
   ]
  },
  {
   "cell_type": "code",
   "execution_count": 14,
   "metadata": {},
   "outputs": [
    {
     "data": {
      "image/png": "[encoded data removed]",
      "text/plain": [
       "<Figure size 432x288 with 1 Axes>"
      ]
     },
     "metadata": {
      "needs_background": "light"
     },
     "output_type": "display_data"
    }
   ],
   "source": [
    "plt.imshow(four[0], cmap=\"gray\");"
   ]
  },
  {
   "cell_type": "code",
   "execution_count": 15,
   "metadata": {},
   "outputs": [
    {
     "data": {
      "image/png": "[encoded data removed]",
      "text/plain": [
       "<Figure size 432x288 with 1 Axes>"
      ]
     },
     "metadata": {
      "needs_background": "light"
     },
     "output_type": "display_data"
    }
   ],
   "source": [
    "plt.imshow(five[0], cmap=\"gray\");"
   ]
  },
  {
   "cell_type": "code",
   "execution_count": 16,
   "metadata": {},
   "outputs": [
    {
     "data": {
      "text/plain": [
       "torch.Size([2984, 28, 28])"
      ]
     },
     "execution_count": 16,
     "metadata": {},
     "output_type": "execute_result"
    }
   ],
   "source": [
    "four_stacked = torch.stack(four, dim=0)/255\n",
    "four_stacked.shape"
   ]
  },
  {
   "cell_type": "code",
   "execution_count": 17,
   "metadata": {},
   "outputs": [
    {
     "data": {
      "text/plain": [
       "torch.Size([2771, 28, 28])"
      ]
     },
     "execution_count": 17,
     "metadata": {},
     "output_type": "execute_result"
    }
   ],
   "source": [
    "five_stacked = torch.stack(five, dim=0)/255\n",
    "five_stacked.shape"
   ]
  },
  {
   "cell_type": "code",
   "execution_count": 18,
   "metadata": {},
   "outputs": [],
   "source": [
    "four_valid = torch.stack([torch.tensor(np.array(Image.open(img)), dtype=torch.float32) for img in (PATH/\"validation/4\").ls()])\n",
    "five_valid = torch.stack([torch.tensor(np.array(Image.open(img)), dtype=torch.float32) for img in (PATH/\"validation/5\").ls()])"
   ]
  },
  {
   "cell_type": "code",
   "execution_count": 19,
   "metadata": {},
   "outputs": [
    {
     "data": {
      "text/plain": [
       "torch.Size([1088, 28, 28])"
      ]
     },
     "execution_count": 19,
     "metadata": {},
     "output_type": "execute_result"
    }
   ],
   "source": [
    "four_valid.shape"
   ]
  },
  {
   "cell_type": "code",
   "execution_count": 20,
   "metadata": {},
   "outputs": [
    {
     "data": {
      "image/png": "[encoded data removed]",
      "text/plain": [
       "<Figure size 432x288 with 1 Axes>"
      ]
     },
     "metadata": {
      "needs_background": "light"
     },
     "output_type": "display_data"
    }
   ],
   "source": [
    "avr4 = four_stacked.mean(dim=0)\n",
    "plt.imshow(avr4, cmap=\"gray\");"
   ]
  },
  {
   "cell_type": "code",
   "execution_count": 21,
   "metadata": {},
   "outputs": [
    {
     "data": {
      "image/png": "[encoded data removed]",
      "text/plain": [
       "<Figure size 432x288 with 1 Axes>"
      ]
     },
     "metadata": {
      "needs_background": "light"
     },
     "output_type": "display_data"
    }
   ],
   "source": [
    "avr5= five_stacked.mean(dim=0)\n",
    "plt.imshow(avr5, cmap=\"gray\");"
   ]
  },
  {
   "cell_type": "code",
   "execution_count": 22,
   "metadata": {},
   "outputs": [
    {
     "data": {
      "image/png": "[encoded data removed]",
      "text/plain": [
       "<Figure size 432x288 with 1 Axes>"
      ]
     },
     "metadata": {
      "needs_background": "light"
     },
     "output_type": "display_data"
    }
   ],
   "source": [
    "sampled_5 = five_stacked[80]\n",
    "plt.imshow(sampled_5, cmap=\"gray\");"
   ]
  },
  {
   "cell_type": "code",
   "execution_count": 23,
   "metadata": {},
   "outputs": [
    {
     "data": {
      "text/plain": [
       "0.20431473851203918"
      ]
     },
     "execution_count": 23,
     "metadata": {},
     "output_type": "execute_result"
    }
   ],
   "source": [
    "dist_to_5 = ((sampled_5-avr5)**2).mean().sqrt()\n",
    "dist_to_5.item()"
   ]
  },
  {
   "cell_type": "code",
   "execution_count": 24,
   "metadata": {},
   "outputs": [
    {
     "data": {
      "text/plain": [
       "0.25160616636276245"
      ]
     },
     "execution_count": 24,
     "metadata": {},
     "output_type": "execute_result"
    }
   ],
   "source": [
    "dist_to_4 = ((sampled_5-avr4)**2).mean().sqrt()\n",
    "dist_to_4.item()"
   ]
  },
  {
   "cell_type": "code",
   "execution_count": 25,
   "metadata": {},
   "outputs": [],
   "source": [
    "def distance(x,y):\n",
    "    return ((x-y)**2).mean((-1,-2)).sqrt()"
   ]
  },
  {
   "cell_type": "code",
   "execution_count": 26,
   "metadata": {},
   "outputs": [
    {
     "data": {
      "text/plain": [
       "tensor(0.2043)"
      ]
     },
     "execution_count": 26,
     "metadata": {},
     "output_type": "execute_result"
    }
   ],
   "source": [
    "distance(sampled_5, avr5)"
   ]
  },
  {
   "cell_type": "code",
   "execution_count": 27,
   "metadata": {},
   "outputs": [
    {
     "data": {
      "text/plain": [
       "(tensor([0.2310, 0.2269, 0.2265,  ..., 0.2949, 0.2247, 0.2457]),\n",
       " torch.Size([2771]))"
      ]
     },
     "execution_count": 27,
     "metadata": {},
     "output_type": "execute_result"
    }
   ],
   "source": [
    "x = distance(five_stacked, avr5)\n",
    "x, x.shape"
   ]
  },
  {
   "cell_type": "code",
   "execution_count": 29,
   "metadata": {},
   "outputs": [],
   "source": [
    "def is_five(x):\n",
    "    return distance(x, avr5) < distance(x, avr4)"
   ]
  },
  {
   "cell_type": "code",
   "execution_count": 30,
   "metadata": {},
   "outputs": [
    {
     "data": {
      "text/plain": [
       "tensor(0.9131)"
      ]
     },
     "execution_count": 30,
     "metadata": {},
     "output_type": "execute_result"
    }
   ],
   "source": [
    "is_five(five_valid).float().mean()"
   ]
  },
  {
   "cell_type": "code",
   "execution_count": 31,
   "metadata": {},
   "outputs": [
    {
     "data": {
      "text/plain": [
       "tensor(0.9131)"
      ]
     },
     "execution_count": 31,
     "metadata": {},
     "output_type": "execute_result"
    }
   ],
   "source": [
    "accuracy_5 = is_five(five_valid).float().mean()\n",
    "accuracy_5"
   ]
  },
  {
   "cell_type": "code",
   "execution_count": 34,
   "metadata": {},
   "outputs": [
    {
     "data": {
      "text/plain": [
       "tensor(0.9844)"
      ]
     },
     "execution_count": 34,
     "metadata": {},
     "output_type": "execute_result"
    }
   ],
   "source": [
    "accuracy_4 = 1-is_five(four_valid).float().mean()\n",
    "accuracy_4"
   ]
  },
  {
   "cell_type": "code",
   "execution_count": 35,
   "metadata": {},
   "outputs": [
    {
     "data": {
      "text/plain": [
       "tensor(0.9487)"
      ]
     },
     "execution_count": 35,
     "metadata": {},
     "output_type": "execute_result"
    }
   ],
   "source": [
    "(accuracy_4 + accuracy_5)/2"
   ]
  },
  {
   "cell_type": "code",
   "execution_count": 36,
   "metadata": {},
   "outputs": [],
   "source": [
    "x = torch.tensor(4.).requires_grad_()"
   ]
  },
  {
   "cell_type": "code",
   "execution_count": 37,
   "metadata": {},
   "outputs": [],
   "source": [
    "def f(x):\n",
    "    return x**3"
   ]
  },
  {
   "cell_type": "code",
   "execution_count": 38,
   "metadata": {},
   "outputs": [],
   "source": [
    "grad = f(x)"
   ]
  },
  {
   "cell_type": "code",
   "execution_count": 39,
   "metadata": {},
   "outputs": [],
   "source": [
    "grad.backward()"
   ]
  },
  {
   "cell_type": "code",
   "execution_count": 40,
   "metadata": {},
   "outputs": [
    {
     "data": {
      "text/plain": [
       "tensor(48.)"
      ]
     },
     "execution_count": 40,
     "metadata": {},
     "output_type": "execute_result"
    }
   ],
   "source": [
    "x.grad"
   ]
  },
  {
   "cell_type": "code",
   "execution_count": 41,
   "metadata": {},
   "outputs": [],
   "source": [
    "train_x = torch.cat([five_stacked, four_stacked]).view(-1, 28*28)"
   ]
  },
  {
   "cell_type": "code",
   "execution_count": 42,
   "metadata": {},
   "outputs": [
    {
     "data": {
      "text/plain": [
       "tensor([1, 1, 1,  ..., 0, 0, 0])"
      ]
     },
     "execution_count": 42,
     "metadata": {},
     "output_type": "execute_result"
    }
   ],
   "source": [
    "train_y = torch.tensor([1] * len(five) + [0] * len(four))\n",
    "train_y"
   ]
  },
  {
   "cell_type": "code",
   "execution_count": 43,
   "metadata": {},
   "outputs": [
    {
     "data": {
      "text/plain": [
       "(torch.Size([5755, 784]), torch.Size([5755]))"
      ]
     },
     "execution_count": 43,
     "metadata": {},
     "output_type": "execute_result"
    }
   ],
   "source": [
    "train_x.shape, train_y.shape"
   ]
  },
  {
   "cell_type": "code",
   "execution_count": 44,
   "metadata": {},
   "outputs": [
    {
     "data": {
      "text/plain": [
       "tensor([[1],\n",
       "        [1],\n",
       "        [1],\n",
       "        ...,\n",
       "        [0],\n",
       "        [0],\n",
       "        [0]])"
      ]
     },
     "execution_count": 44,
     "metadata": {},
     "output_type": "execute_result"
    }
   ],
   "source": [
    "train_y.unsqueeze_(-1)"
   ]
  },
  {
   "cell_type": "code",
   "execution_count": 45,
   "metadata": {},
   "outputs": [],
   "source": [
    "valid_x = torch.cat([five_valid, four_valid]).view(-1, 28*28)\n",
    "valid_y = torch.tensor([1] * len(five_valid) + [0] * len(four_valid))"
   ]
  },
  {
   "cell_type": "code",
   "execution_count": 46,
   "metadata": {},
   "outputs": [
    {
     "data": {
      "text/plain": [
       "tensor([[1],\n",
       "        [1],\n",
       "        [1],\n",
       "        ...,\n",
       "        [0],\n",
       "        [0],\n",
       "        [0]])"
      ]
     },
     "execution_count": 46,
     "metadata": {},
     "output_type": "execute_result"
    }
   ],
   "source": [
    "valid_y.unsqueeze_(1)"
   ]
  },
  {
   "cell_type": "code",
   "execution_count": 47,
   "metadata": {},
   "outputs": [
    {
     "data": {
      "text/plain": [
       "tensor([[1],\n",
       "        [1],\n",
       "        [1],\n",
       "        ...,\n",
       "        [0],\n",
       "        [0],\n",
       "        [0]])"
      ]
     },
     "execution_count": 47,
     "metadata": {},
     "output_type": "execute_result"
    }
   ],
   "source": [
    "valid_y"
   ]
  },
  {
   "cell_type": "code",
   "execution_count": 48,
   "metadata": {},
   "outputs": [
    {
     "data": {
      "text/plain": [
       "tensor([[1],\n",
       "        [1],\n",
       "        [1],\n",
       "        ...,\n",
       "        [0],\n",
       "        [0],\n",
       "        [0]])"
      ]
     },
     "execution_count": 48,
     "metadata": {},
     "output_type": "execute_result"
    }
   ],
   "source": [
    "train_y"
   ]
  },
  {
   "cell_type": "code",
   "execution_count": 49,
   "metadata": {},
   "outputs": [],
   "source": [
    "ds_train = list(zip(train_x, train_y))"
   ]
  },
  {
   "cell_type": "code",
   "execution_count": 50,
   "metadata": {},
   "outputs": [],
   "source": [
    "df_valid = list(zip(valid_x, valid_y))"
   ]
  },
  {
   "cell_type": "code",
   "execution_count": 51,
   "metadata": {},
   "outputs": [
    {
     "data": {
      "text/plain": [
       "(tensor([0.0000, 0.0000, 0.0000, 0.0000, 0.0000, 0.0000, 0.0000, 0.0000, 0.0000,\n",
       "         0.0157, 0.0000, 0.0157, 0.0000, 0.0000, 0.0275, 0.0000, 0.0000, 0.0275,\n",
       "         0.0000, 0.0039, 0.0000, 0.0000, 0.0157, 0.0000, 0.0314, 0.0000, 0.0471,\n",
       "         0.0000, 0.0000, 0.0000, 0.0000, 0.0000, 0.0000, 0.0000, 0.0000, 0.0000,\n",
       "         0.0000, 0.0039, 0.0000, 0.0039, 0.0078, 0.0118, 0.0314, 0.0157, 0.0078,\n",
       "         0.0000, 0.0000, 0.0000, 0.0235, 0.0000, 0.0078, 0.0196, 0.0000, 0.0000,\n",
       "         0.0078, 0.0000, 0.0000, 0.0000, 0.0000, 0.0000, 0.0000, 0.0000, 0.0000,\n",
       "         0.0000, 0.0118, 0.0039, 0.0039, 0.0000, 0.0039, 0.0039, 0.0000, 0.0196,\n",
       "         0.0157, 0.0000, 0.0275, 0.0196, 0.0000, 0.0000, 0.0000, 0.0157, 0.0000,\n",
       "         0.0902, 0.0039, 0.0000, 0.0000, 0.0000, 0.0000, 0.0000, 0.0000, 0.0000,\n",
       "         0.0000, 0.0000, 0.0157, 0.0000, 0.0078, 0.0000, 0.0118, 0.0078, 0.0000,\n",
       "         0.0196, 0.0000, 0.0000, 0.0235, 0.0000, 0.0000, 0.0353, 0.0078, 0.0078,\n",
       "         0.0000, 0.0235, 0.0000, 0.0000, 0.0000, 0.0000, 0.0000, 0.0000, 0.0000,\n",
       "         0.0000, 0.0000, 0.0000, 0.0000, 0.0000, 0.0039, 0.0039, 0.0196, 0.0196,\n",
       "         0.0000, 0.0275, 0.0549, 0.0118, 0.0000, 0.0000, 0.0157, 0.0392, 0.0000,\n",
       "         0.0000, 0.0078, 0.0000, 0.0549, 0.0000, 0.0000, 0.0000, 0.0000, 0.0000,\n",
       "         0.0000, 0.0000, 0.0000, 0.0000, 0.0000, 0.0078, 0.0000, 0.0157, 0.0000,\n",
       "         0.0000, 0.0392, 0.0000, 0.0000, 0.0000, 0.0000, 0.0627, 0.0471, 0.0000,\n",
       "         0.0000, 0.0314, 0.0902, 0.1490, 0.0000, 0.0392, 0.0000, 0.0000, 0.0000,\n",
       "         0.0000, 0.0000, 0.0000, 0.0000, 0.0000, 0.0000, 0.0275, 0.0000, 0.0314,\n",
       "         0.0000, 0.0000, 0.1412, 0.0000, 0.0431, 0.0941, 0.0000, 0.0000, 0.0392,\n",
       "         0.1765, 0.5373, 0.6392, 0.9294, 0.7294, 0.0000, 0.0275, 0.0000, 0.0000,\n",
       "         0.0000, 0.0000, 0.0000, 0.0000, 0.0000, 0.0000, 0.0000, 0.0235, 0.0000,\n",
       "         0.0549, 0.0000, 0.0235, 0.2980, 0.0706, 0.0000, 0.3333, 0.4157, 0.6745,\n",
       "         0.8980, 0.9686, 0.9725, 0.5843, 0.2118, 0.0824, 0.0000, 0.0000, 0.0000,\n",
       "         0.0235, 0.0000, 0.0000, 0.0000, 0.0039, 0.0039, 0.0275, 0.0157, 0.0000,\n",
       "         0.0706, 0.0353, 0.0000, 0.3451, 1.0000, 0.9529, 0.9882, 0.9725, 1.0000,\n",
       "         0.8627, 0.5333, 0.3922, 0.1176, 0.0039, 0.0000, 0.0000, 0.0000, 0.0000,\n",
       "         0.0000, 0.0157, 0.0078, 0.0000, 0.0157, 0.0000, 0.0000, 0.0000, 0.0000,\n",
       "         0.0902, 0.0000, 0.0000, 0.1608, 0.8863, 0.9765, 0.9098, 0.8000, 0.4275,\n",
       "         0.0941, 0.0549, 0.0118, 0.0000, 0.0039, 0.0431, 0.0000, 0.0000, 0.0000,\n",
       "         0.0000, 0.0039, 0.0157, 0.0000, 0.0000, 0.0078, 0.0039, 0.0000, 0.0118,\n",
       "         0.0157, 0.0000, 0.0667, 0.2157, 0.9255, 0.9451, 0.4078, 0.0000, 0.0000,\n",
       "         0.0588, 0.0000, 0.0000, 0.0000, 0.0000, 0.0549, 0.0000, 0.0000, 0.0000,\n",
       "         0.0000, 0.0000, 0.0039, 0.0078, 0.0000, 0.0000, 0.0118, 0.0039, 0.0000,\n",
       "         0.0196, 0.0353, 0.0000, 0.3216, 0.8941, 0.9686, 0.4275, 0.0000, 0.0392,\n",
       "         0.0000, 0.0000, 0.0000, 0.0392, 0.0863, 0.0000, 0.0196, 0.0431, 0.0000,\n",
       "         0.0000, 0.0000, 0.0000, 0.0000, 0.0039, 0.0000, 0.0157, 0.0314, 0.0000,\n",
       "         0.0000, 0.0000, 0.0157, 0.4824, 0.9961, 1.0000, 0.8235, 0.5922, 0.6941,\n",
       "         0.5961, 0.6431, 0.3216, 0.1451, 0.0000, 0.0157, 0.0000, 0.0000, 0.0000,\n",
       "         0.0000, 0.0000, 0.0000, 0.0000, 0.0118, 0.0118, 0.0000, 0.0000, 0.0039,\n",
       "         0.0000, 0.0392, 0.1255, 0.6902, 0.9882, 1.0000, 1.0000, 0.9176, 0.8275,\n",
       "         0.8353, 0.8039, 0.9255, 0.9373, 0.8549, 0.2863, 0.0000, 0.0314, 0.0588,\n",
       "         0.0000, 0.0000, 0.0000, 0.0000, 0.0000, 0.0235, 0.0196, 0.0000, 0.0000,\n",
       "         0.0000, 0.0000, 0.0824, 0.2118, 1.0000, 0.8627, 0.6824, 0.1529, 0.2471,\n",
       "         0.0000, 0.0314, 0.0000, 0.0000, 0.2196, 0.6902, 0.7725, 0.2941, 0.0000,\n",
       "         0.0000, 0.0235, 0.0000, 0.0000, 0.0000, 0.0000, 0.0000, 0.0039, 0.0235,\n",
       "         0.0314, 0.0157, 0.0000, 0.0000, 0.0902, 0.2549, 0.0784, 0.0549, 0.0000,\n",
       "         0.0039, 0.0157, 0.0000, 0.0196, 0.0510, 0.0000, 0.3176, 0.9098, 0.5686,\n",
       "         0.0275, 0.0000, 0.0314, 0.0000, 0.0000, 0.0000, 0.0000, 0.0196, 0.0000,\n",
       "         0.0039, 0.0118, 0.0196, 0.0157, 0.0000, 0.0118, 0.0353, 0.0235, 0.0000,\n",
       "         0.0000, 0.0000, 0.0039, 0.1843, 0.0000, 0.1255, 0.0000, 0.4706, 0.9765,\n",
       "         0.5176, 0.0157, 0.0000, 0.0000, 0.0000, 0.0000, 0.0000, 0.0000, 0.0000,\n",
       "         0.0471, 0.0000, 0.0118, 0.0000, 0.0275, 0.0078, 0.0000, 0.0471, 0.2863,\n",
       "         0.5333, 0.6039, 0.9294, 0.9294, 0.8784, 0.9020, 0.5569, 0.8078, 0.9020,\n",
       "         0.5725, 0.1255, 0.0000, 0.0039, 0.0275, 0.0000, 0.0000, 0.0000, 0.0000,\n",
       "         0.0157, 0.0000, 0.0000, 0.0000, 0.0431, 0.0667, 0.0039, 0.6157, 0.9216,\n",
       "         0.9843, 1.0000, 0.9176, 0.5922, 0.4196, 0.2549, 0.8275, 0.9647, 1.0000,\n",
       "         0.6392, 0.1333, 0.0000, 0.0000, 0.0000, 0.0118, 0.0000, 0.0000, 0.0000,\n",
       "         0.0000, 0.0000, 0.0157, 0.0000, 0.0157, 0.0000, 0.0000, 0.7412, 1.0000,\n",
       "         1.0000, 0.2980, 0.1686, 0.0196, 0.1608, 0.7216, 1.0000, 0.9608, 0.7569,\n",
       "         0.3373, 0.0196, 0.0000, 0.0157, 0.0196, 0.0078, 0.0000, 0.0000, 0.0000,\n",
       "         0.0000, 0.0000, 0.0000, 0.0118, 0.0039, 0.0235, 0.0000, 0.0000, 0.7176,\n",
       "         0.9686, 0.9255, 1.0000, 0.8980, 0.9765, 0.9804, 1.0000, 0.6667, 0.5882,\n",
       "         0.1569, 0.0000, 0.0000, 0.0196, 0.0000, 0.0000, 0.0392, 0.0000, 0.0000,\n",
       "         0.0000, 0.0000, 0.0000, 0.0000, 0.0000, 0.0118, 0.0000, 0.0510, 0.0510,\n",
       "         0.0000, 0.5529, 0.8588, 0.9059, 0.9725, 0.8039, 0.5098, 0.0510, 0.0000,\n",
       "         0.0275, 0.0000, 0.0078, 0.0549, 0.0000, 0.0000, 0.0078, 0.0235, 0.0000,\n",
       "         0.0000, 0.0000, 0.0000, 0.0000, 0.0000, 0.0431, 0.0000, 0.0235, 0.0000,\n",
       "         0.0157, 0.0000, 0.0000, 0.0000, 0.1098, 0.1412, 0.0902, 0.0000, 0.0000,\n",
       "         0.0000, 0.0196, 0.0118, 0.0314, 0.0000, 0.0000, 0.0235, 0.0314, 0.0000,\n",
       "         0.0000, 0.0000, 0.0000, 0.0000, 0.0000, 0.0196, 0.0000, 0.0000, 0.0039,\n",
       "         0.0157, 0.0157, 0.0000, 0.0196, 0.0510, 0.0000, 0.0314, 0.0000, 0.0196,\n",
       "         0.0078, 0.0314, 0.0000, 0.0314, 0.0000, 0.0000, 0.0471, 0.0000, 0.0000,\n",
       "         0.0039, 0.0196, 0.0000, 0.0000, 0.0000, 0.0000, 0.0000, 0.0000, 0.0000,\n",
       "         0.0000, 0.0000, 0.0000, 0.0000, 0.0000, 0.0000, 0.0000, 0.0000, 0.0000,\n",
       "         0.0000, 0.0000, 0.0000, 0.0000, 0.0000, 0.0000, 0.0000, 0.0000, 0.0000,\n",
       "         0.0000, 0.0000, 0.0000, 0.0000, 0.0000, 0.0000, 0.0000, 0.0000, 0.0000,\n",
       "         0.0000, 0.0000, 0.0000, 0.0000, 0.0000, 0.0000, 0.0000, 0.0000, 0.0000,\n",
       "         0.0000, 0.0000, 0.0000, 0.0000, 0.0000, 0.0000, 0.0000, 0.0000, 0.0000,\n",
       "         0.0000, 0.0000, 0.0000, 0.0000, 0.0000, 0.0000, 0.0000, 0.0000, 0.0000,\n",
       "         0.0000, 0.0000, 0.0000, 0.0000, 0.0000, 0.0000, 0.0000, 0.0000, 0.0000,\n",
       "         0.0000, 0.0000, 0.0000, 0.0000, 0.0000, 0.0000, 0.0000, 0.0000, 0.0000,\n",
       "         0.0000, 0.0000, 0.0000, 0.0000, 0.0000, 0.0000, 0.0000, 0.0000, 0.0000,\n",
       "         0.0000, 0.0000, 0.0000, 0.0000, 0.0000, 0.0000, 0.0000, 0.0000, 0.0000,\n",
       "         0.0000, 0.0000, 0.0000, 0.0000, 0.0000, 0.0000, 0.0000, 0.0000, 0.0000,\n",
       "         0.0000, 0.0000, 0.0000, 0.0000, 0.0000, 0.0000, 0.0000, 0.0000, 0.0000,\n",
       "         0.0000]),\n",
       " tensor([1]))"
      ]
     },
     "execution_count": 51,
     "metadata": {},
     "output_type": "execute_result"
    }
   ],
   "source": [
    "ds_train[0]"
   ]
  },
  {
   "cell_type": "code",
   "execution_count": 52,
   "metadata": {
    "scrolled": true
   },
   "outputs": [
    {
     "data": {
      "image/png": "[encoded data removed]",
      "text/plain": [
       "<Figure size 432x288 with 1 Axes>"
      ]
     },
     "metadata": {
      "needs_background": "light"
     },
     "output_type": "display_data"
    }
   ],
   "source": [
    "plt.imshow(ds_train[0][0].view(28,28), cmap=\"gray\");"
   ]
  },
  {
   "cell_type": "code",
   "execution_count": 53,
   "metadata": {},
   "outputs": [],
   "source": [
    "labels = {1:\"Five\", 0:\"Four\"}"
   ]
  },
  {
   "cell_type": "code",
   "execution_count": 54,
   "metadata": {},
   "outputs": [
    {
     "data": {
      "text/plain": [
       "'Five'"
      ]
     },
     "execution_count": 54,
     "metadata": {},
     "output_type": "execute_result"
    }
   ],
   "source": [
    "labels[ds_train[0][1].item()]"
   ]
  },
  {
   "cell_type": "code",
   "execution_count": 55,
   "metadata": {},
   "outputs": [],
   "source": [
    "class Dataset():\n",
    "    def __init__(self, x, y): \n",
    "        self.x,self.y = x,y\n",
    "    def __len__(self): \n",
    "        return len(self.x)\n",
    "    def __getitem__(self, i): \n",
    "        return self.x[i],self.y[i]"
   ]
  },
  {
   "cell_type": "code",
   "execution_count": 56,
   "metadata": {},
   "outputs": [],
   "source": [
    "ds_train = Dataset(train_x, train_y)"
   ]
  },
  {
   "cell_type": "code",
   "execution_count": 57,
   "metadata": {},
   "outputs": [
    {
     "data": {
      "text/plain": [
       "(tensor([0.0000, 0.0000, 0.0000, 0.0000, 0.0000, 0.0000, 0.0000, 0.0000, 0.0235,\n",
       "         0.0000, 0.0000, 0.0000, 0.0000, 0.0157, 0.0275, 0.0000, 0.0196, 0.0000,\n",
       "         0.0000, 0.0235, 0.0000, 0.0353, 0.0000, 0.0000, 0.0000, 0.0000, 0.0000,\n",
       "         0.0000, 0.0000, 0.0000, 0.0000, 0.0000, 0.0000, 0.0000, 0.0000, 0.0000,\n",
       "         0.0000, 0.0196, 0.0353, 0.0275, 0.0196, 0.0000, 0.0000, 0.0000, 0.0471,\n",
       "         0.0000, 0.0000, 0.0039, 0.0000, 0.0039, 0.0078, 0.0471, 0.0000, 0.0000,\n",
       "         0.0000, 0.0000, 0.0000, 0.0000, 0.0000, 0.0000, 0.0000, 0.0000, 0.0000,\n",
       "         0.0000, 0.0000, 0.0196, 0.0000, 0.0000, 0.0196, 0.0157, 0.0000, 0.0431,\n",
       "         0.0000, 0.0039, 0.0314, 0.0118, 0.0000, 0.0000, 0.0235, 0.0000, 0.0000,\n",
       "         0.0000, 0.0000, 0.0000, 0.0000, 0.0000, 0.0000, 0.0000, 0.0000, 0.0000,\n",
       "         0.0000, 0.0000, 0.0275, 0.0196, 0.0000, 0.0000, 0.0000, 0.0000, 0.0000,\n",
       "         0.0000, 0.0000, 0.0118, 0.0039, 0.0000, 0.0000, 0.0000, 0.0588, 0.0039,\n",
       "         0.0000, 0.0000, 0.0000, 0.0000, 0.0000, 0.0000, 0.0000, 0.0000, 0.0000,\n",
       "         0.0000, 0.0000, 0.0000, 0.0000, 0.0000, 0.0314, 0.0627, 0.0000, 0.0000,\n",
       "         0.0275, 0.0000, 0.0392, 0.0196, 0.0000, 0.0275, 0.0314, 0.0000, 0.0000,\n",
       "         0.0235, 0.0000, 0.0000, 0.0000, 0.0000, 0.0000, 0.0000, 0.0000, 0.0000,\n",
       "         0.0000, 0.0000, 0.0000, 0.0000, 0.0353, 0.0000, 0.0000, 0.0000, 0.0000,\n",
       "         0.0039, 0.0275, 0.0000, 0.0000, 0.0392, 0.0000, 0.0000, 0.0000, 0.1255,\n",
       "         0.0000, 0.0000, 0.0000, 0.0000, 0.0000, 0.0000, 0.0000, 0.0000, 0.0000,\n",
       "         0.0000, 0.0000, 0.0000, 0.0000, 0.0000, 0.0000, 0.0588, 0.0275, 0.0000,\n",
       "         0.0078, 0.0000, 0.0000, 0.0863, 0.1020, 0.4392, 0.5608, 0.6157, 0.7451,\n",
       "         0.8314, 0.1843, 0.0000, 0.0000, 0.0000, 0.0000, 0.0000, 0.0000, 0.0000,\n",
       "         0.0000, 0.0000, 0.0000, 0.0000, 0.0000, 0.0000, 0.0392, 0.4824, 0.6471,\n",
       "         0.6275, 0.6784, 0.5804, 0.6314, 1.0000, 0.9686, 1.0000, 0.9333, 0.9647,\n",
       "         1.0000, 0.9059, 0.0706, 0.0314, 0.0000, 0.0000, 0.0000, 0.0000, 0.0000,\n",
       "         0.0314, 0.0000, 0.0000, 0.0627, 0.0039, 0.0000, 0.0000, 0.2588, 1.0000,\n",
       "         0.9765, 0.9569, 1.0000, 0.9294, 1.0000, 1.0000, 0.9961, 0.9882, 0.9882,\n",
       "         1.0000, 0.7490, 0.5922, 0.0000, 0.0078, 0.0000, 0.0000, 0.0000, 0.0000,\n",
       "         0.0235, 0.0078, 0.0000, 0.0000, 0.0000, 0.0000, 0.0000, 0.0078, 0.7216,\n",
       "         0.9843, 1.0000, 1.0000, 0.9216, 1.0000, 0.9843, 0.6157, 0.6078, 0.4863,\n",
       "         0.1725, 0.2196, 0.1608, 0.0000, 0.0784, 0.0000, 0.0000, 0.0000, 0.0000,\n",
       "         0.0000, 0.0000, 0.0000, 0.0314, 0.0118, 0.0000, 0.0353, 0.0353, 0.1373,\n",
       "         0.9529, 0.8980, 0.9490, 0.5490, 0.5255, 0.3020, 0.1373, 0.0000, 0.0196,\n",
       "         0.0039, 0.0078, 0.0000, 0.0000, 0.0392, 0.0000, 0.0157, 0.0000, 0.0000,\n",
       "         0.0000, 0.0000, 0.0000, 0.0000, 0.0549, 0.0000, 0.0000, 0.0000, 0.0000,\n",
       "         0.2745, 0.9804, 1.0000, 1.0000, 0.6039, 1.0000, 0.8392, 0.5882, 0.5098,\n",
       "         0.0392, 0.0039, 0.0000, 0.0000, 0.0863, 0.0000, 0.0667, 0.0000, 0.0000,\n",
       "         0.0000, 0.0000, 0.0000, 0.0118, 0.0078, 0.0235, 0.0000, 0.0000, 0.0000,\n",
       "         0.0314, 0.5569, 1.0000, 0.9765, 0.9686, 0.9804, 0.9961, 0.9843, 0.9137,\n",
       "         0.9922, 0.7137, 0.2941, 0.0000, 0.0353, 0.0000, 0.0000, 0.0314, 0.0000,\n",
       "         0.0000, 0.0000, 0.0000, 0.0000, 0.0000, 0.0118, 0.0118, 0.0000, 0.0549,\n",
       "         0.0039, 0.0667, 0.5412, 1.0000, 0.9451, 0.9569, 1.0000, 0.9843, 1.0000,\n",
       "         1.0000, 0.9647, 1.0000, 0.9137, 0.2471, 0.0000, 0.0588, 0.0000, 0.0000,\n",
       "         0.0000, 0.0000, 0.0000, 0.0000, 0.0000, 0.0000, 0.0078, 0.0078, 0.0078,\n",
       "         0.0039, 0.0000, 0.0000, 0.0980, 0.4902, 0.6706, 0.6353, 0.1490, 0.1569,\n",
       "         0.3529, 0.6431, 0.6471, 0.9804, 0.9922, 0.9529, 0.0000, 0.0902, 0.0000,\n",
       "         0.0000, 0.0510, 0.0000, 0.0000, 0.0000, 0.0000, 0.0039, 0.0000, 0.0000,\n",
       "         0.0196, 0.0000, 0.0078, 0.0627, 0.0000, 0.0157, 0.0000, 0.0196, 0.0000,\n",
       "         0.0000, 0.0275, 0.0000, 0.0667, 0.8039, 0.9804, 0.9686, 0.7333, 0.0000,\n",
       "         0.0000, 0.0353, 0.0000, 0.0000, 0.0000, 0.0000, 0.0000, 0.0000, 0.0000,\n",
       "         0.0000, 0.0000, 0.0000, 0.0000, 0.0000, 0.0000, 0.0039, 0.0039, 0.0118,\n",
       "         0.0000, 0.0314, 0.0118, 0.0000, 0.0000, 0.1686, 0.9490, 0.9725, 1.0000,\n",
       "         0.0000, 0.0000, 0.0196, 0.0118, 0.0000, 0.0000, 0.0000, 0.0000, 0.0000,\n",
       "         0.0000, 0.0000, 0.0000, 0.0000, 0.0000, 0.0000, 0.0000, 0.0157, 0.0000,\n",
       "         0.0000, 0.0588, 0.0000, 0.0000, 0.0078, 0.0000, 0.0314, 0.8039, 0.9333,\n",
       "         0.9961, 0.0235, 0.0039, 0.0078, 0.0000, 0.0000, 0.0000, 0.0000, 0.0000,\n",
       "         0.0000, 0.0000, 0.0000, 0.0000, 0.0000, 0.0000, 0.0000, 0.0000, 0.0078,\n",
       "         0.1176, 0.2706, 0.0275, 0.0000, 0.0039, 0.0745, 0.0000, 0.2039, 0.9961,\n",
       "         1.0000, 0.6902, 0.0000, 0.0000, 0.0000, 0.1137, 0.0000, 0.0000, 0.0000,\n",
       "         0.0000, 0.0000, 0.0000, 0.0000, 0.0000, 0.0000, 0.0000, 0.0000, 0.0000,\n",
       "         0.0000, 0.4549, 0.8588, 0.0000, 0.0314, 0.0000, 0.0118, 0.0000, 0.5725,\n",
       "         0.9176, 0.9804, 0.4196, 0.0000, 0.0275, 0.0510, 0.0000, 0.0000, 0.0000,\n",
       "         0.0000, 0.0000, 0.0000, 0.0000, 0.0000, 0.0000, 0.0000, 0.0000, 0.0000,\n",
       "         0.0000, 0.0157, 0.3647, 0.9961, 0.0078, 0.0078, 0.0196, 0.0000, 0.0392,\n",
       "         0.7922, 1.0000, 0.9765, 0.0745, 0.0118, 0.0471, 0.0000, 0.0314, 0.0000,\n",
       "         0.0000, 0.0000, 0.0000, 0.0000, 0.0000, 0.0000, 0.0000, 0.0000, 0.0000,\n",
       "         0.0000, 0.0000, 0.0000, 0.0588, 0.9451, 0.4039, 0.0000, 0.0000, 0.0235,\n",
       "         0.3529, 0.8471, 0.9490, 1.0000, 0.2510, 0.0157, 0.0000, 0.0039, 0.0039,\n",
       "         0.0000, 0.0000, 0.0000, 0.0000, 0.0000, 0.0000, 0.0000, 0.0000, 0.0000,\n",
       "         0.0000, 0.0000, 0.0000, 0.0000, 0.0196, 1.0000, 0.9098, 0.3098, 0.1882,\n",
       "         0.3529, 0.7882, 1.0000, 0.9176, 0.4039, 0.0000, 0.0000, 0.0000, 0.0000,\n",
       "         0.0157, 0.0000, 0.0000, 0.0000, 0.0000, 0.0000, 0.0000, 0.0000, 0.0000,\n",
       "         0.0000, 0.0000, 0.0000, 0.0000, 0.0235, 0.0000, 0.8471, 0.9843, 1.0000,\n",
       "         0.9804, 0.9843, 1.0000, 0.9686, 0.7451, 0.0000, 0.0235, 0.0000, 0.0196,\n",
       "         0.0235, 0.0000, 0.0000, 0.0000, 0.0000, 0.0000, 0.0000, 0.0000, 0.0000,\n",
       "         0.0000, 0.0000, 0.0000, 0.0000, 0.0000, 0.0000, 0.0000, 0.1647, 0.8039,\n",
       "         1.0000, 1.0000, 0.9137, 1.0000, 0.6275, 0.1137, 0.0000, 0.0235, 0.0078,\n",
       "         0.0000, 0.0196, 0.0000, 0.0000, 0.0000, 0.0000, 0.0000, 0.0000, 0.0000,\n",
       "         0.0000, 0.0000, 0.0000, 0.0000, 0.0000, 0.0000, 0.0549, 0.0392, 0.0000,\n",
       "         0.1922, 0.5647, 0.9216, 0.6627, 0.2667, 0.1176, 0.0000, 0.0196, 0.0510,\n",
       "         0.0000, 0.0000, 0.0392, 0.0000, 0.0000, 0.0000, 0.0000, 0.0000, 0.0000,\n",
       "         0.0000, 0.0000, 0.0000, 0.0000, 0.0000, 0.0000, 0.0000, 0.0000, 0.0000,\n",
       "         0.0000, 0.0275, 0.0196, 0.0000, 0.0000, 0.0000, 0.0000, 0.0000, 0.0235,\n",
       "         0.0039, 0.0000, 0.0039, 0.0353, 0.0000, 0.0000, 0.0000, 0.0000, 0.0000,\n",
       "         0.0000, 0.0000, 0.0000, 0.0000, 0.0000, 0.0000, 0.0000, 0.0000, 0.0431,\n",
       "         0.0000, 0.0118, 0.0000, 0.0431, 0.0000, 0.0039, 0.0000, 0.0510, 0.0118,\n",
       "         0.0000, 0.0000, 0.0157, 0.0039, 0.0000, 0.0000, 0.0000, 0.0000, 0.0000,\n",
       "         0.0000]),\n",
       " tensor([1]))"
      ]
     },
     "execution_count": 57,
     "metadata": {},
     "output_type": "execute_result"
    }
   ],
   "source": [
    "ds_train[2]"
   ]
  },
  {
   "cell_type": "code",
   "execution_count": 58,
   "metadata": {},
   "outputs": [],
   "source": [
    "def init(size):\n",
    "    return torch.randn(size, dtype=torch.float32).requires_grad_()"
   ]
  },
  {
   "cell_type": "code",
   "execution_count": 59,
   "metadata": {},
   "outputs": [
    {
     "data": {
      "text/plain": [
       "torch.Size([784, 1])"
      ]
     },
     "execution_count": 59,
     "metadata": {},
     "output_type": "execute_result"
    }
   ],
   "source": [
    "w = init((28*28,1))\n",
    "w.shape"
   ]
  },
  {
   "cell_type": "code",
   "execution_count": 60,
   "metadata": {},
   "outputs": [
    {
     "data": {
      "text/plain": [
       "torch.Size([1])"
      ]
     },
     "execution_count": 60,
     "metadata": {},
     "output_type": "execute_result"
    }
   ],
   "source": [
    "b = init(1)\n",
    "b.shape"
   ]
  },
  {
   "cell_type": "code",
   "execution_count": 61,
   "metadata": {},
   "outputs": [
    {
     "data": {
      "text/plain": [
       "tensor([-7.1845], grad_fn=<AddBackward0>)"
      ]
     },
     "execution_count": 61,
     "metadata": {},
     "output_type": "execute_result"
    }
   ],
   "source": [
    "(train_x[0] * w.T).sum() + b"
   ]
  },
  {
   "cell_type": "code",
   "execution_count": 62,
   "metadata": {},
   "outputs": [],
   "source": [
    "def linear_layer(xb):\n",
    "    return xb @ w + b"
   ]
  },
  {
   "cell_type": "code",
   "execution_count": 63,
   "metadata": {},
   "outputs": [
    {
     "data": {
      "text/plain": [
       "torch.Size([5755, 1])"
      ]
     },
     "execution_count": 63,
     "metadata": {},
     "output_type": "execute_result"
    }
   ],
   "source": [
    "preds = linear_layer(train_x)\n",
    "preds.shape"
   ]
  },
  {
   "cell_type": "code",
   "execution_count": 104,
   "metadata": {},
   "outputs": [],
   "source": [
    "def sigmoid(x):\n",
    "    return 1/(1+torch.pow(2,-x))"
   ]
  },
  {
   "cell_type": "code",
   "execution_count": 135,
   "metadata": {},
   "outputs": [],
   "source": [
    "def loss_func(preds, targets):\n",
    "    preds = preds.sigmoid()\n",
    "    return torch.where(targets==1, torch.pow(2,1-preds), torch.pow(2,preds)).mean()"
   ]
  },
  {
   "cell_type": "code",
   "execution_count": 136,
   "metadata": {},
   "outputs": [],
   "source": [
    "class DataLoader():\n",
    "    def __init__(self, ds, bs): \n",
    "        self.ds, self.bs = ds, bs\n",
    "    def __iter__(self):\n",
    "        n = len(self.ds)\n",
    "        l = torch.randperm(n)\n",
    "        for i in range(0, n, self.bs): \n",
    "            idxs_l = l[i:i+self.bs]\n",
    "            yield self.ds[idxs_l]"
   ]
  },
  {
   "cell_type": "code",
   "execution_count": 137,
   "metadata": {},
   "outputs": [],
   "source": [
    "def accuracy(preds, actuals):\n",
    "    preds = preds.sigmoid()\n",
    "    correct = (preds > 0.5) == actuals\n",
    "    return correct.float().mean()"
   ]
  },
  {
   "cell_type": "code",
   "execution_count": 138,
   "metadata": {},
   "outputs": [],
   "source": [
    "ds_valid = Dataset(valid_x, valid_y)\n",
    "valid_dl = DataLoader(ds_valid, bs = 512)"
   ]
  },
  {
   "cell_type": "code",
   "execution_count": 139,
   "metadata": {},
   "outputs": [],
   "source": [
    "def validation_acc(model):\n",
    "    return torch.stack([accuracy(model(xb), yb) for xb, yb in valid_dl]).mean().item()"
   ]
  },
  {
   "cell_type": "code",
   "execution_count": 140,
   "metadata": {},
   "outputs": [],
   "source": [
    "train_dl = DataLoader(ds_train, bs = 512)\n"
   ]
  },
  {
   "cell_type": "code",
   "execution_count": 141,
   "metadata": {},
   "outputs": [],
   "source": [
    "# params is list of variables that our model will update\n",
    "def train(model, params, lr, epochs=5, valid_epoch=5):\n",
    "    for epoch in range(epochs):\n",
    "        for xb, yb in train_dl:\n",
    "            preds = model(xb)\n",
    "            loss = loss_func(preds, yb)\n",
    "            loss.backward()\n",
    "            for p in params:\n",
    "                p.data = p.data - p.grad * lr\n",
    "                p.grad.zero_()\n",
    "        \n",
    "        if epoch % valid_epoch == 0:\n",
    "            print(validation_acc(model))\n",
    "        "
   ]
  },
  {
   "cell_type": "code",
   "execution_count": 149,
   "metadata": {},
   "outputs": [
    {
     "name": "stdout",
     "output_type": "stream",
     "text": [
      "0.4722656309604645\n",
      "0.756640613079071\n",
      "0.84375\n",
      "0.891406238079071\n",
      "0.9125000238418579\n",
      "0.9292968511581421\n",
      "0.935546875\n",
      "0.948437511920929\n",
      "0.954296886920929\n",
      "0.9585937261581421\n",
      "0.9585937261581421\n",
      "0.9437500238418579\n",
      "0.9585937261581421\n",
      "0.962109386920929\n",
      "0.9632812738418579\n",
      "0.9691406488418579\n",
      "0.966796875\n",
      "0.9644531011581421\n",
      "0.967578113079071\n",
      "0.970703125\n"
     ]
    }
   ],
   "source": [
    "lr = 0.1\n",
    "w = init((28*28,1))\n",
    "b = init(1)\n",
    "params = w, b\n",
    "train(linear_layer, params, lr, epochs= 200, valid_epoch=10)"
   ]
  },
  {
   "cell_type": "code",
   "execution_count": 143,
   "metadata": {},
   "outputs": [],
   "source": [
    "model_1 = nn.Linear(28*28, 1)"
   ]
  },
  {
   "cell_type": "code",
   "execution_count": 77,
   "metadata": {},
   "outputs": [],
   "source": [
    "w, b = model_1.parameters()"
   ]
  },
  {
   "cell_type": "code",
   "execution_count": 78,
   "metadata": {},
   "outputs": [],
   "source": [
    "class Optimizer():\n",
    "    def __init__(self, parameters,lr):\n",
    "        self.params, self.lr = list(parameters), lr\n",
    "    \n",
    "    def step(self):\n",
    "        for p in self.params:\n",
    "            p.data = p.data - p.grad.data * self.lr\n",
    "    \n",
    "    def zero_grad(self):\n",
    "        for p in self.params:\n",
    "            p.grad = None"
   ]
  },
  {
   "cell_type": "code",
   "execution_count": 79,
   "metadata": {},
   "outputs": [],
   "source": [
    "optim = Optimizer(model_1.parameters(), lr)"
   ]
  },
  {
   "cell_type": "code",
   "execution_count": 80,
   "metadata": {},
   "outputs": [],
   "source": [
    "def train(model, epochs=5, valid_epoch=5):\n",
    "    for epoch in range(epochs):\n",
    "        for xb, yb in train_dl:\n",
    "            preds = model(xb)\n",
    "            loss = loss_func(preds, yb)\n",
    "            loss.backward()\n",
    "            optim.step()\n",
    "            optim.zero_grad()\n",
    "        \n",
    "        if epoch % valid_epoch == 0:\n",
    "            print(validation_acc(model))\n",
    "        "
   ]
  },
  {
   "cell_type": "code",
   "execution_count": 81,
   "metadata": {},
   "outputs": [
    {
     "name": "stdout",
     "output_type": "stream",
     "text": [
      "0.926953136920929\n",
      "0.971875011920929\n"
     ]
    }
   ],
   "source": [
    "train(model_1, 10)"
   ]
  },
  {
   "cell_type": "code",
   "execution_count": 134,
   "metadata": {},
   "outputs": [
    {
     "data": {
      "text/plain": [
       "1.624504792712471"
      ]
     },
     "execution_count": 134,
     "metadata": {},
     "output_type": "execute_result"
    }
   ],
   "source": [
    "import math\n",
    "\n",
    "pow(2,0.7)"
   ]
  },
  {
   "cell_type": "code",
   "execution_count": 133,
   "metadata": {},
   "outputs": [
    {
     "data": {
      "text/plain": [
       "1.2311444133449163"
      ]
     },
     "execution_count": 133,
     "metadata": {},
     "output_type": "execute_result"
    }
   ],
   "source": [
    "pow(2,0.3)"
   ]
  },
  {
   "cell_type": "code",
   "execution_count": null,
   "metadata": {},
   "outputs": [],
   "source": []
  }
 ],
 "metadata": {
  "kernelspec": {
   "display_name": "Python 3",
   "language": "python",
   "name": "python3"
  },
  "language_info": {
   "codemirror_mode": {
    "name": "ipython",
    "version": 3
   },
   "file_extension": ".py",
   "mimetype": "text/x-python",
   "name": "python",
   "nbconvert_exporter": "python",
   "pygments_lexer": "ipython3",
   "version": "3.7.6"
  }
 },
 "nbformat": 4,
 "nbformat_minor": 4
}
